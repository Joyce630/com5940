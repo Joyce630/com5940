{
 "cells": [
  {
   "cell_type": "markdown",
   "metadata": {},
   "source": [
    "<h1>MySQL and Airtable Data Access</h1>"
   ]
  },
  {
   "cell_type": "code",
   "execution_count": 3,
   "metadata": {
    "scrolled": true
   },
   "outputs": [
    {
     "name": "stdout",
     "output_type": "stream",
     "text": [
      "Requirement already satisfied: PyMySQL in /opt/anaconda3/lib/python3.7/site-packages (0.9.3)\r\n"
     ]
    }
   ],
   "source": [
    "!pip install PyMySQL  #要启动MAMP"
   ]
  },
  {
   "cell_type": "code",
   "execution_count": 5,
   "metadata": {},
   "outputs": [],
   "source": [
    "import pymysql.cursors\n",
    "connection = pymysql.connect(host=\"localhost\", \n",
    "                     user=\"root\",   \n",
    "                     passwd=\"root\", \n",
    "                     db=\"assign1\",   \n",
    "                     charset='utf8mb4',\n",
    "                     cursorclass=pymysql.cursors.DictCursor)"
   ]
  },
  {
   "cell_type": "code",
   "execution_count": 6,
   "metadata": {},
   "outputs": [
    {
     "name": "stdout",
     "output_type": "stream",
     "text": [
      "\n",
      "\n",
      "[{'DestinationIt': 'Castel dellOvo', 'DestinationEn': 'Egg Castle', 'Lat': Decimal('40.828337'), 'Lng': Decimal('14.247610'), 'DesPageLink': 'https://joyce630.github.io/BizarreTourtoItaly_Naples_DestinationNa5.html'}, {'DestinationIt': 'Castel Nuovo', 'DestinationEn': 'New Castle', 'Lat': Decimal('40.838478'), 'Lng': Decimal('14.252737'), 'DesPageLink': 'https://joyce630.github.io/BizarreTourtoItaly_Naples_DestinationNa3.html'}, {'DestinationIt': 'Funiculari Augusteo Stazione', 'DestinationEn': 'Augusteo Station', 'Lat': Decimal('40.838962'), 'Lng': Decimal('14.247836'), 'DesPageLink': 'https://joyce630.github.io/BizarreTourtoItaly_Naples_DestinationNa1.html'}, {'DestinationIt': 'Luogo panoramico', 'DestinationEn': 'Panoramic Spot', 'Lat': Decimal('40.828057'), 'Lng': Decimal('14.218203'), 'DesPageLink': 'https://joyce630.github.io/BizarreTourtoItaly_Naples_DestinationNa6.html'}, {'DestinationIt': 'Napoli Centrale', 'DestinationEn': 'Naples Central Station', 'Lat': Decimal('40.852947'), 'Lng': Decimal('14.272344'), 'DesPageLink': 'https://joyce630.github.io/BizarreTourtoItaly_Naples_DestinationNa4.html'}, {'DestinationIt': 'Piazza Giovanni Bovio', 'DestinationEn': 'Piazza Borsa', 'Lat': Decimal('40.844022'), 'Lng': Decimal('14.256063'), 'DesPageLink': 'https://joyce630.github.io/BizarreTourtoItaly_Naples_DestinationNa7.html'}, {'DestinationIt': 'Pompeii', 'DestinationEn': 'Pompei', 'Lat': Decimal('40.751650'), 'Lng': Decimal('14.486194'), 'DesPageLink': 'https://joyce630.github.io/BizarreTourtoItaly_Naples_DestinationNa9.html'}, {'DestinationIt': 'Porto di Napoli', 'DestinationEn': 'Port of Naples', 'Lat': Decimal('40.837710'), 'Lng': Decimal('14.254688'), 'DesPageLink': 'https://joyce630.github.io/BizarreTourtoItaly_Naples_DestinationNa8.html'}]\n",
      "\n",
      "\n"
     ]
    }
   ],
   "source": [
    "with connection.cursor() as cursor:\n",
    "        sql = \"SELECT * FROM NaplesDestination\"\n",
    "        cursor.execute(sql)\n",
    "        result = cursor.fetchall()\n",
    "        dataset = []\n",
    "        temp = {}\n",
    "        i = 0\n",
    "        for row in result:\n",
    "            temp[i] = row\n",
    "            dataset.append(temp[i])\n",
    "            i = i + 1\n",
    "        print('\\n')\n",
    "        print(dataset)\n",
    "        print('\\n')"
   ]
  },
  {
   "cell_type": "code",
   "execution_count": 10,
   "metadata": {
    "scrolled": true
   },
   "outputs": [
    {
     "name": "stdout",
     "output_type": "stream",
     "text": [
      "Requirement already satisfied: requests in /opt/anaconda3/lib/python3.7/site-packages (2.22.0)\r\n",
      "Requirement already satisfied: urllib3!=1.25.0,!=1.25.1,<1.26,>=1.21.1 in /opt/anaconda3/lib/python3.7/site-packages (from requests) (1.24.2)\r\n",
      "Requirement already satisfied: certifi>=2017.4.17 in /opt/anaconda3/lib/python3.7/site-packages (from requests) (2019.9.11)\r\n",
      "Requirement already satisfied: idna<2.9,>=2.5 in /opt/anaconda3/lib/python3.7/site-packages (from requests) (2.8)\r\n",
      "Requirement already satisfied: chardet<3.1.0,>=3.0.2 in /opt/anaconda3/lib/python3.7/site-packages (from requests) (3.0.4)\r\n"
     ]
    }
   ],
   "source": [
    "!pip install requests"
   ]
  },
  {
   "cell_type": "code",
   "execution_count": 14,
   "metadata": {
    "scrolled": true
   },
   "outputs": [
    {
     "name": "stdout",
     "output_type": "stream",
     "text": [
      "[{'lat': 40.838962, 'DestinationIt': 'Funiculari Augusteo Stazione', 'lng': 14.247836, 'DestinationEn': 'Augusteo Station', 'DesPageLink': 'https://joyce630.github.io/BizarreTourtoItaly_Naples_DestinationNa1.html'}, {'lat': 40.838478, 'DestinationIt': 'Castel Nuovo', 'lng': 14.252737, 'DestinationEn': 'New Castle', 'DesPageLink': 'https://joyce630.github.io/BizarreTourtoItaly_Naples_DestinationNa3.html'}, {'lat': 40.852947, 'DestinationIt': 'Napoli Centrale', 'lng': 14.272344, 'DestinationEn': 'Naples Central Station', 'DesPageLink': 'https://joyce630.github.io/BizarreTourtoItaly_Naples_DestinationNa4.html'}, {'lat': 40.828337, 'DestinationIt': \"Castel dell'Ovo\", 'lng': 14.24761, 'DestinationEn': 'Egg Castle', 'DesPageLink': 'https://joyce630.github.io/BizarreTourtoItaly_Naples_DestinationNa5.html'}, {'lat': 40.828057, 'DestinationIt': 'Luogo panoramico', 'lng': 14.218203, 'DestinationEn': 'Panoramic Spot', 'DesPageLink': 'https://joyce630.github.io/BizarreTourtoItaly_Naples_DestinationNa6.html'}, {'lat': 40.844022, 'DestinationIt': 'Piazza Giovanni Bovio', 'lng': 14.256063, 'DestinationEn': 'Piazza Borsa', 'DesPageLink': 'https://joyce630.github.io/BizarreTourtoItaly_Naples_DestinationNa7.html'}, {'lat': 40.83771, 'DestinationIt': 'Porto di Napoli', 'lng': 14.254688, 'DestinationEn': 'Port of Naples', 'DesPageLink': 'https://joyce630.github.io/BizarreTourtoItaly_Naples_DestinationNa8.html'}, {'lat': 40.75165, 'DestinationIt': 'Pompeii', 'lng': 14.486194, 'DestinationEn': 'Pompei', 'DesPageLink': 'https://joyce630.github.io/BizarreTourtoItaly_Naples_DestinationNa9.html'}]\n",
      "\n",
      "\n",
      "['Funiculari Augusteo Stazione', 'Castel Nuovo', 'Napoli Centrale', \"Castel dell'Ovo\", 'Luogo panoramico', 'Piazza Giovanni Bovio', 'Porto di Napoli', 'Pompeii']\n",
      "\n",
      "\n",
      "Destination: Funiculari Augusteo Stazione (En: Augusteo Station ) \n",
      " latitude: 40.838962 \n",
      " longitude: 14.247836 \n",
      " Link: https://joyce630.github.io/BizarreTourtoItaly_Naples_DestinationNa1.html\n",
      "\n",
      "\n",
      "Destination: Castel Nuovo (En: New Castle ) \n",
      " latitude: 40.838478 \n",
      " longitude: 14.252737 \n",
      " Link: https://joyce630.github.io/BizarreTourtoItaly_Naples_DestinationNa3.html\n",
      "\n",
      "\n",
      "Destination: Napoli Centrale (En: Naples Central Station ) \n",
      " latitude: 40.852947 \n",
      " longitude: 14.272344 \n",
      " Link: https://joyce630.github.io/BizarreTourtoItaly_Naples_DestinationNa4.html\n",
      "\n",
      "\n",
      "Destination: Castel dell'Ovo (En: Egg Castle ) \n",
      " latitude: 40.828337 \n",
      " longitude: 14.24761 \n",
      " Link: https://joyce630.github.io/BizarreTourtoItaly_Naples_DestinationNa5.html\n",
      "\n",
      "\n",
      "Destination: Luogo panoramico (En: Panoramic Spot ) \n",
      " latitude: 40.828057 \n",
      " longitude: 14.218203 \n",
      " Link: https://joyce630.github.io/BizarreTourtoItaly_Naples_DestinationNa6.html\n",
      "\n",
      "\n",
      "Destination: Piazza Giovanni Bovio (En: Piazza Borsa ) \n",
      " latitude: 40.844022 \n",
      " longitude: 14.256063 \n",
      " Link: https://joyce630.github.io/BizarreTourtoItaly_Naples_DestinationNa7.html\n",
      "\n",
      "\n",
      "Destination: Porto di Napoli (En: Port of Naples ) \n",
      " latitude: 40.83771 \n",
      " longitude: 14.254688 \n",
      " Link: https://joyce630.github.io/BizarreTourtoItaly_Naples_DestinationNa8.html\n",
      "\n",
      "\n",
      "Destination: Pompeii (En: Pompei ) \n",
      " latitude: 40.75165 \n",
      " longitude: 14.486194 \n",
      " Link: https://joyce630.github.io/BizarreTourtoItaly_Naples_DestinationNa9.html\n",
      "\n",
      "\n"
     ]
    }
   ],
   "source": [
    "import requests\n",
    "\n",
    "headers = {\n",
    "'Authorization': 'Bearer keysAky6ucMNj4qo4',  # APIkey\n",
    "}\n",
    "\n",
    "params = (\n",
    "('view', 'Grid view'),   # make sure viewName, baseName, fieldsName, APIkey... are correct\n",
    ")\n",
    "\n",
    "r = requests.get('https://api.airtable.com/v0/appwnEsosJx4zgOFI/NaplesDestinationDetailsFinal?api_key=keysAky6ucMNj4qo4', headers=headers, params=params)\n",
    "dict = r.json()\n",
    "dataset = []\n",
    "DestinationIt = []\n",
    "DestinationEn = []\n",
    "lat = []\n",
    "lng = []\n",
    "DesPageLink = []\n",
    "for i in dict['records']:\n",
    "     dict = i['fields']\n",
    "     dataset.append(dict)\n",
    "print(dataset)\n",
    "print('\\r\\n')\n",
    "\n",
    "for dicts in dataset:\n",
    "    DestinationIt.append(dicts.get('DestinationIt'))\n",
    "    DestinationEn.append(dicts.get('DestinationEn'))\n",
    "    lat.append(dicts.get('lat'))\n",
    "    lng.append(dicts.get('lng'))\n",
    "    DesPageLink.append(dicts.get('DesPageLink'))\n",
    "print(DestinationIt)\n",
    "print('\\n')\n",
    "\n",
    "r = requests.get('https://api.airtable.com/v0/appwnEsosJx4zgOFI/NaplesDestinationDetailsFinal?api_key=keysAky6ucMNj4qo4', headers=headers, params=params)\n",
    "dict = r.json()\n",
    "for k in dict['records']:\n",
    "    rec_dict = k['fields']\n",
    "    print('Destination:',rec_dict['DestinationIt'],'(En:',rec_dict['DestinationEn'],\")\",'\\r\\n', 'latitude:',rec_dict['lat'],'\\r\\n','longitude:',rec_dict['lng'],'\\r\\n','Link:',rec_dict['DesPageLink'])\n",
    "    print('\\r\\n')\n",
    "        "
   ]
  },
  {
   "cell_type": "code",
   "execution_count": null,
   "metadata": {},
   "outputs": [],
   "source": []
  },
  {
   "cell_type": "code",
   "execution_count": null,
   "metadata": {},
   "outputs": [],
   "source": []
  }
 ],
 "metadata": {
  "kernelspec": {
   "display_name": "Python 3",
   "language": "python",
   "name": "python3"
  },
  "language_info": {
   "codemirror_mode": {
    "name": "ipython",
    "version": 3
   },
   "file_extension": ".py",
   "mimetype": "text/x-python",
   "name": "python",
   "nbconvert_exporter": "python",
   "pygments_lexer": "ipython3",
   "version": "3.7.4"
  }
 },
 "nbformat": 4,
 "nbformat_minor": 2
}
