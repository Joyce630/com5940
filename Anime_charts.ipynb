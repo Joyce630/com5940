{
 "cells": [
  {
   "cell_type": "code",
   "execution_count": 5,
   "metadata": {},
   "outputs": [
    {
     "name": "stdout",
     "output_type": "stream",
     "text": [
      "Collecting plotly\n",
      "\u001b[?25l  Downloading https://files.pythonhosted.org/packages/d7/78/eb6cbe96c8379c54819592bb228c58ed7386fcc60a55eca7db99432fdf14/plotly-4.7.1-py2.py3-none-any.whl (11.5MB)\n",
      "\u001b[K     |████████████████████████████████| 11.5MB 2.6MB/s eta 0:00:01\n",
      "\u001b[?25hRequirement already satisfied: six in /opt/anaconda3/lib/python3.7/site-packages (from plotly) (1.12.0)\n",
      "Collecting retrying>=1.3.3 (from plotly)\n",
      "  Downloading https://files.pythonhosted.org/packages/44/ef/beae4b4ef80902f22e3af073397f079c96969c69b2c7d52a57ea9ae61c9d/retrying-1.3.3.tar.gz\n",
      "Building wheels for collected packages: retrying\n",
      "  Building wheel for retrying (setup.py) ... \u001b[?25ldone\n",
      "\u001b[?25h  Created wheel for retrying: filename=retrying-1.3.3-cp37-none-any.whl size=11429 sha256=43d4d5cb0b6b81025f2aba282fafaab0ccf4a3fd44ae010808d9ad5f48d07a7f\n",
      "  Stored in directory: /Users/joyce/Library/Caches/pip/wheels/d7/a9/33/acc7b709e2a35caa7d4cae442f6fe6fbf2c43f80823d46460c\n",
      "Successfully built retrying\n",
      "Installing collected packages: retrying, plotly\n",
      "Successfully installed plotly-4.7.1 retrying-1.3.3\n"
     ]
    }
   ],
   "source": [
    "!pip install plotly"
   ]
  },
  {
   "cell_type": "markdown",
   "metadata": {},
   "source": [
    "# 1.import data"
   ]
  },
  {
   "cell_type": "code",
   "execution_count": 2,
   "metadata": {},
   "outputs": [
    {
     "data": {
      "text/html": [
       "        <script type=\"text/javascript\">\n",
       "        window.PlotlyConfig = {MathJaxConfig: 'local'};\n",
       "        if (window.MathJax) {MathJax.Hub.Config({SVG: {font: \"STIX-Web\"}});}\n",
       "        if (typeof require !== 'undefined') {\n",
       "        require.undef(\"plotly\");\n",
       "        requirejs.config({\n",
       "            paths: {\n",
       "                'plotly': ['https://cdn.plot.ly/plotly-latest.min']\n",
       "            }\n",
       "        });\n",
       "        require(['plotly'], function(Plotly) {\n",
       "            window._Plotly = Plotly;\n",
       "        });\n",
       "        }\n",
       "        </script>\n",
       "        "
      ]
     },
     "metadata": {},
     "output_type": "display_data"
    }
   ],
   "source": [
    "import numpy as np # linear algebra\n",
    "import pandas as pd # data processing, CSV file I/O (e.g. pd.read_csv)\n",
    "import os\n",
    "import datetime\n",
    "import seaborn as sns\n",
    "import matplotlib.pyplot as plt\n",
    "import plotly as py\n",
    "import plotly.express as px\n",
    "import plotly.graph_objs as go\n",
    "from plotly.offline import download_plotlyjs, init_notebook_mode, plot, iplot\n",
    "init_notebook_mode(connected=True) \n",
    "from wordcloud import WordCloud\n",
    "import warnings"
   ]
  },
  {
   "cell_type": "code",
   "execution_count": 3,
   "metadata": {},
   "outputs": [],
   "source": [
    "df_anime = pd.read_csv('anime_cleaned.csv')\n",
    "df_users = pd.read_csv('users_cleaned2.csv')\n",
    "df_userlists = pd.read_csv('animelists_cleaned.csv')"
   ]
  },
  {
   "cell_type": "code",
   "execution_count": 4,
   "metadata": {},
   "outputs": [
    {
     "name": "stdout",
     "output_type": "stream",
     "text": [
      "<class 'pandas.core.frame.DataFrame'>\n",
      "RangeIndex: 6668 entries, 0 to 6667\n",
      "Data columns (total 33 columns):\n",
      "anime_id           6668 non-null int64\n",
      "title              6668 non-null object\n",
      "title_english      3438 non-null object\n",
      "title_japanese     6663 non-null object\n",
      "title_synonyms     4481 non-null object\n",
      "image_url          6666 non-null object\n",
      "type               6668 non-null object\n",
      "source             6668 non-null object\n",
      "episodes           6668 non-null int64\n",
      "status             6668 non-null object\n",
      "airing             6668 non-null bool\n",
      "aired_string       6668 non-null object\n",
      "aired              6668 non-null object\n",
      "duration           6668 non-null object\n",
      "rating             6668 non-null object\n",
      "score              6668 non-null float64\n",
      "scored_by          6668 non-null int64\n",
      "rank               6312 non-null float64\n",
      "popularity         6668 non-null int64\n",
      "members            6668 non-null int64\n",
      "favorites          6668 non-null int64\n",
      "background         813 non-null object\n",
      "premiered          2966 non-null object\n",
      "broadcast          2980 non-null object\n",
      "related            6668 non-null object\n",
      "producer           4402 non-null object\n",
      "licensor           2787 non-null object\n",
      "studio             6668 non-null object\n",
      "genre              6664 non-null object\n",
      "opening_theme      6668 non-null object\n",
      "ending_theme       6668 non-null object\n",
      "duration_min       6668 non-null float64\n",
      "aired_from_year    6668 non-null float64\n",
      "dtypes: bool(1), float64(4), int64(6), object(22)\n",
      "memory usage: 1.6+ MB\n",
      "<class 'pandas.core.frame.DataFrame'>\n",
      "RangeIndex: 106425 entries, 0 to 106424\n",
      "Data columns (total 11 columns):\n",
      "username                    106424 non-null object\n",
      "user_id                     106425 non-null int64\n",
      "user_watching               106425 non-null int64\n",
      "user_completed              106425 non-null int64\n",
      "user_days_spent_watching    106425 non-null float64\n",
      "gender                      106425 non-null object\n",
      "location                    106420 non-null object\n",
      "age                         106425 non-null int64\n",
      "stats_mean_score            106425 non-null float64\n",
      "stats_rewatched             106425 non-null int64\n",
      "stats_episodes              106425 non-null int64\n",
      "dtypes: float64(2), int64(6), object(3)\n",
      "memory usage: 8.9+ MB\n",
      "<class 'pandas.core.frame.DataFrame'>\n",
      "RangeIndex: 31284030 entries, 0 to 31284029\n",
      "Data columns (total 11 columns):\n",
      "username               object\n",
      "anime_id               int64\n",
      "my_watched_episodes    int64\n",
      "my_start_date          object\n",
      "my_finish_date         object\n",
      "my_score               int64\n",
      "my_status              int64\n",
      "my_rewatching          float64\n",
      "my_rewatching_ep       int64\n",
      "my_last_updated        object\n",
      "my_tags                object\n",
      "dtypes: float64(1), int64(5), object(5)\n",
      "memory usage: 2.6+ GB\n"
     ]
    }
   ],
   "source": [
    "df_anime.info()\n",
    "df_users.info()\n",
    "df_userlists.info()"
   ]
  },
  {
   "cell_type": "code",
   "execution_count": 5,
   "metadata": {},
   "outputs": [],
   "source": [
    "df_anime['members'] = df_anime['members'].astype(float)\n",
    "df_anime['rank'] = df_anime['rank'].astype(float)"
   ]
  },
  {
   "cell_type": "code",
   "execution_count": 99,
   "metadata": {
    "scrolled": true
   },
   "outputs": [],
   "source": [
    "#df_anime.info()"
   ]
  },
  {
   "cell_type": "code",
   "execution_count": 6,
   "metadata": {},
   "outputs": [
    {
     "data": {
      "text/html": [
       "<div>\n",
       "<style scoped>\n",
       "    .dataframe tbody tr th:only-of-type {\n",
       "        vertical-align: middle;\n",
       "    }\n",
       "\n",
       "    .dataframe tbody tr th {\n",
       "        vertical-align: top;\n",
       "    }\n",
       "\n",
       "    .dataframe thead th {\n",
       "        text-align: right;\n",
       "    }\n",
       "</style>\n",
       "<table border=\"1\" class=\"dataframe\">\n",
       "  <thead>\n",
       "    <tr style=\"text-align: right;\">\n",
       "      <th></th>\n",
       "      <th>anime_id</th>\n",
       "      <th>username</th>\n",
       "      <th>my_score</th>\n",
       "      <th>user_id</th>\n",
       "      <th>gender</th>\n",
       "      <th>user_completed</th>\n",
       "      <th>user_days_spent_watching</th>\n",
       "      <th>age</th>\n",
       "      <th>title</th>\n",
       "      <th>type</th>\n",
       "      <th>source</th>\n",
       "      <th>score</th>\n",
       "      <th>scored_by</th>\n",
       "      <th>rank</th>\n",
       "      <th>popularity</th>\n",
       "      <th>genre</th>\n",
       "      <th>members</th>\n",
       "      <th>episodes</th>\n",
       "    </tr>\n",
       "  </thead>\n",
       "  <tbody>\n",
       "    <tr>\n",
       "      <td>0</td>\n",
       "      <td>21</td>\n",
       "      <td>karthiga</td>\n",
       "      <td>9</td>\n",
       "      <td>2255153</td>\n",
       "      <td>Female</td>\n",
       "      <td>49</td>\n",
       "      <td>55.091667</td>\n",
       "      <td>30</td>\n",
       "      <td>One Piece</td>\n",
       "      <td>TV</td>\n",
       "      <td>Manga</td>\n",
       "      <td>8.54</td>\n",
       "      <td>423868.0</td>\n",
       "      <td>91.0</td>\n",
       "      <td>35.0</td>\n",
       "      <td>Action, Adventure, Comedy, Super Power, Drama,...</td>\n",
       "      <td>720133.0</td>\n",
       "      <td>0.0</td>\n",
       "    </tr>\n",
       "    <tr>\n",
       "      <td>1</td>\n",
       "      <td>59</td>\n",
       "      <td>karthiga</td>\n",
       "      <td>7</td>\n",
       "      <td>2255153</td>\n",
       "      <td>Female</td>\n",
       "      <td>49</td>\n",
       "      <td>55.091667</td>\n",
       "      <td>30</td>\n",
       "      <td>Chobits</td>\n",
       "      <td>TV</td>\n",
       "      <td>Manga</td>\n",
       "      <td>7.53</td>\n",
       "      <td>175388.0</td>\n",
       "      <td>1546.0</td>\n",
       "      <td>188.0</td>\n",
       "      <td>Sci-Fi, Comedy, Drama, Romance, Ecchi, Seinen</td>\n",
       "      <td>317641.0</td>\n",
       "      <td>26.0</td>\n",
       "    </tr>\n",
       "    <tr>\n",
       "      <td>2</td>\n",
       "      <td>74</td>\n",
       "      <td>karthiga</td>\n",
       "      <td>7</td>\n",
       "      <td>2255153</td>\n",
       "      <td>Female</td>\n",
       "      <td>49</td>\n",
       "      <td>55.091667</td>\n",
       "      <td>30</td>\n",
       "      <td>Gakuen Alice</td>\n",
       "      <td>TV</td>\n",
       "      <td>Manga</td>\n",
       "      <td>7.77</td>\n",
       "      <td>33244.0</td>\n",
       "      <td>941.0</td>\n",
       "      <td>1291.0</td>\n",
       "      <td>Comedy, School, Shoujo, Super Power</td>\n",
       "      <td>62951.0</td>\n",
       "      <td>26.0</td>\n",
       "    </tr>\n",
       "    <tr>\n",
       "      <td>3</td>\n",
       "      <td>120</td>\n",
       "      <td>karthiga</td>\n",
       "      <td>7</td>\n",
       "      <td>2255153</td>\n",
       "      <td>Female</td>\n",
       "      <td>49</td>\n",
       "      <td>55.091667</td>\n",
       "      <td>30</td>\n",
       "      <td>Fruits Basket</td>\n",
       "      <td>TV</td>\n",
       "      <td>Manga</td>\n",
       "      <td>7.77</td>\n",
       "      <td>167968.0</td>\n",
       "      <td>939.0</td>\n",
       "      <td>222.0</td>\n",
       "      <td>Slice of Life, Comedy, Drama, Romance, Fantasy...</td>\n",
       "      <td>292572.0</td>\n",
       "      <td>26.0</td>\n",
       "    </tr>\n",
       "    <tr>\n",
       "      <td>4</td>\n",
       "      <td>178</td>\n",
       "      <td>karthiga</td>\n",
       "      <td>7</td>\n",
       "      <td>2255153</td>\n",
       "      <td>Female</td>\n",
       "      <td>49</td>\n",
       "      <td>55.091667</td>\n",
       "      <td>30</td>\n",
       "      <td>Ultra Maniac</td>\n",
       "      <td>TV</td>\n",
       "      <td>Manga</td>\n",
       "      <td>7.26</td>\n",
       "      <td>9663.0</td>\n",
       "      <td>2594.0</td>\n",
       "      <td>2490.0</td>\n",
       "      <td>Magic, Comedy, Romance, School, Shoujo</td>\n",
       "      <td>22778.0</td>\n",
       "      <td>26.0</td>\n",
       "    </tr>\n",
       "  </tbody>\n",
       "</table>\n",
       "</div>"
      ],
      "text/plain": [
       "   anime_id  username  my_score  user_id  gender  user_completed  \\\n",
       "0        21  karthiga         9  2255153  Female              49   \n",
       "1        59  karthiga         7  2255153  Female              49   \n",
       "2        74  karthiga         7  2255153  Female              49   \n",
       "3       120  karthiga         7  2255153  Female              49   \n",
       "4       178  karthiga         7  2255153  Female              49   \n",
       "\n",
       "   user_days_spent_watching  age          title type source  score  scored_by  \\\n",
       "0                 55.091667   30      One Piece   TV  Manga   8.54   423868.0   \n",
       "1                 55.091667   30        Chobits   TV  Manga   7.53   175388.0   \n",
       "2                 55.091667   30   Gakuen Alice   TV  Manga   7.77    33244.0   \n",
       "3                 55.091667   30  Fruits Basket   TV  Manga   7.77   167968.0   \n",
       "4                 55.091667   30   Ultra Maniac   TV  Manga   7.26     9663.0   \n",
       "\n",
       "     rank  popularity                                              genre  \\\n",
       "0    91.0        35.0  Action, Adventure, Comedy, Super Power, Drama,...   \n",
       "1  1546.0       188.0      Sci-Fi, Comedy, Drama, Romance, Ecchi, Seinen   \n",
       "2   941.0      1291.0                Comedy, School, Shoujo, Super Power   \n",
       "3   939.0       222.0  Slice of Life, Comedy, Drama, Romance, Fantasy...   \n",
       "4  2594.0      2490.0             Magic, Comedy, Romance, School, Shoujo   \n",
       "\n",
       "    members  episodes  \n",
       "0  720133.0       0.0  \n",
       "1  317641.0      26.0  \n",
       "2   62951.0      26.0  \n",
       "3  292572.0      26.0  \n",
       "4   22778.0      26.0  "
      ]
     },
     "execution_count": 6,
     "metadata": {},
     "output_type": "execute_result"
    }
   ],
   "source": [
    "anime = df_anime[df_anime.genre.notnull()][['anime_id','title','type','source','score','scored_by','rank','popularity','genre','members','episodes']]\n",
    "users = df_users[df_users.gender.isin(['Female','Male'])][['username','user_id','gender','user_completed','user_days_spent_watching','age' ]]\n",
    "userlists = df_userlists[df_userlists.my_status.isin([1,2]) & df_userlists.anime_id.notnull()][['anime_id', 'username', 'my_score', ]]\n",
    "\n",
    "userlists = pd.merge(userlists,users, how='inner')\n",
    "userlists = pd.merge(userlists,anime, how='left')\n",
    "\n",
    "userlists_sub = userlists[userlists.genre.notnull()].head(100000)\n",
    "userlists_sub.head()"
   ]
  },
  {
   "cell_type": "code",
   "execution_count": 101,
   "metadata": {
    "scrolled": true
   },
   "outputs": [
    {
     "data": {
      "text/html": [
       "<div>\n",
       "<style scoped>\n",
       "    .dataframe tbody tr th:only-of-type {\n",
       "        vertical-align: middle;\n",
       "    }\n",
       "\n",
       "    .dataframe tbody tr th {\n",
       "        vertical-align: top;\n",
       "    }\n",
       "\n",
       "    .dataframe thead th {\n",
       "        text-align: right;\n",
       "    }\n",
       "</style>\n",
       "<table border=\"1\" class=\"dataframe\">\n",
       "  <thead>\n",
       "    <tr style=\"text-align: right;\">\n",
       "      <th></th>\n",
       "      <th>anime_id</th>\n",
       "      <th>username</th>\n",
       "      <th>my_score</th>\n",
       "      <th>user_id</th>\n",
       "      <th>gender</th>\n",
       "      <th>user_completed</th>\n",
       "      <th>user_days_spent_watching</th>\n",
       "      <th>age</th>\n",
       "      <th>title</th>\n",
       "      <th>type</th>\n",
       "      <th>source</th>\n",
       "      <th>score</th>\n",
       "      <th>scored_by</th>\n",
       "      <th>rank</th>\n",
       "      <th>popularity</th>\n",
       "      <th>genre</th>\n",
       "      <th>members</th>\n",
       "      <th>episodes</th>\n",
       "    </tr>\n",
       "  </thead>\n",
       "  <tbody>\n",
       "    <tr>\n",
       "      <td>5664469</td>\n",
       "      <td>210</td>\n",
       "      <td>Aokaado</td>\n",
       "      <td>9</td>\n",
       "      <td>3</td>\n",
       "      <td>Male</td>\n",
       "      <td>133</td>\n",
       "      <td>59.084028</td>\n",
       "      <td>32</td>\n",
       "      <td>Ranma ½</td>\n",
       "      <td>TV</td>\n",
       "      <td>Manga</td>\n",
       "      <td>7.85</td>\n",
       "      <td>59911.0</td>\n",
       "      <td>802.0</td>\n",
       "      <td>623.0</td>\n",
       "      <td>Slice of Life, Comedy, Martial Arts, Fantasy</td>\n",
       "      <td>134537.0</td>\n",
       "      <td>161.0</td>\n",
       "    </tr>\n",
       "    <tr>\n",
       "      <td>5664470</td>\n",
       "      <td>249</td>\n",
       "      <td>Aokaado</td>\n",
       "      <td>0</td>\n",
       "      <td>3</td>\n",
       "      <td>Male</td>\n",
       "      <td>133</td>\n",
       "      <td>59.084028</td>\n",
       "      <td>32</td>\n",
       "      <td>InuYasha</td>\n",
       "      <td>TV</td>\n",
       "      <td>Manga</td>\n",
       "      <td>7.90</td>\n",
       "      <td>181978.0</td>\n",
       "      <td>697.0</td>\n",
       "      <td>141.0</td>\n",
       "      <td>Action, Adventure, Comedy, Historical, Demons,...</td>\n",
       "      <td>371313.0</td>\n",
       "      <td>167.0</td>\n",
       "    </tr>\n",
       "    <tr>\n",
       "      <td>5664471</td>\n",
       "      <td>269</td>\n",
       "      <td>Aokaado</td>\n",
       "      <td>9</td>\n",
       "      <td>3</td>\n",
       "      <td>Male</td>\n",
       "      <td>133</td>\n",
       "      <td>59.084028</td>\n",
       "      <td>32</td>\n",
       "      <td>Bleach</td>\n",
       "      <td>TV</td>\n",
       "      <td>Manga</td>\n",
       "      <td>7.90</td>\n",
       "      <td>433097.0</td>\n",
       "      <td>693.0</td>\n",
       "      <td>18.0</td>\n",
       "      <td>Action, Adventure, Comedy, Super Power, Supern...</td>\n",
       "      <td>819284.0</td>\n",
       "      <td>366.0</td>\n",
       "    </tr>\n",
       "    <tr>\n",
       "      <td>5664472</td>\n",
       "      <td>853</td>\n",
       "      <td>Aokaado</td>\n",
       "      <td>10</td>\n",
       "      <td>3</td>\n",
       "      <td>Male</td>\n",
       "      <td>133</td>\n",
       "      <td>59.084028</td>\n",
       "      <td>32</td>\n",
       "      <td>Ouran Koukou Host Club</td>\n",
       "      <td>TV</td>\n",
       "      <td>Manga</td>\n",
       "      <td>8.34</td>\n",
       "      <td>335137.0</td>\n",
       "      <td>205.0</td>\n",
       "      <td>69.0</td>\n",
       "      <td>Comedy, Harem, Romance, School, Shoujo</td>\n",
       "      <td>538843.0</td>\n",
       "      <td>26.0</td>\n",
       "    </tr>\n",
       "    <tr>\n",
       "      <td>5664473</td>\n",
       "      <td>1698</td>\n",
       "      <td>Aokaado</td>\n",
       "      <td>10</td>\n",
       "      <td>3</td>\n",
       "      <td>Male</td>\n",
       "      <td>133</td>\n",
       "      <td>59.084028</td>\n",
       "      <td>32</td>\n",
       "      <td>Nodame Cantabile</td>\n",
       "      <td>TV</td>\n",
       "      <td>Manga</td>\n",
       "      <td>8.41</td>\n",
       "      <td>87363.0</td>\n",
       "      <td>163.0</td>\n",
       "      <td>381.0</td>\n",
       "      <td>Music, Slice of Life, Comedy, Drama, Romance, ...</td>\n",
       "      <td>198927.0</td>\n",
       "      <td>23.0</td>\n",
       "    </tr>\n",
       "    <tr>\n",
       "      <td>5664474</td>\n",
       "      <td>4224</td>\n",
       "      <td>Aokaado</td>\n",
       "      <td>9</td>\n",
       "      <td>3</td>\n",
       "      <td>Male</td>\n",
       "      <td>133</td>\n",
       "      <td>59.084028</td>\n",
       "      <td>32</td>\n",
       "      <td>Toradora!</td>\n",
       "      <td>TV</td>\n",
       "      <td>Light novel</td>\n",
       "      <td>8.39</td>\n",
       "      <td>557898.0</td>\n",
       "      <td>174.0</td>\n",
       "      <td>13.0</td>\n",
       "      <td>Slice of Life, Comedy, Romance, School</td>\n",
       "      <td>910373.0</td>\n",
       "      <td>25.0</td>\n",
       "    </tr>\n",
       "    <tr>\n",
       "      <td>5664475</td>\n",
       "      <td>4477</td>\n",
       "      <td>Aokaado</td>\n",
       "      <td>9</td>\n",
       "      <td>3</td>\n",
       "      <td>Male</td>\n",
       "      <td>133</td>\n",
       "      <td>59.084028</td>\n",
       "      <td>32</td>\n",
       "      <td>Nodame Cantabile: Paris-hen</td>\n",
       "      <td>TV</td>\n",
       "      <td>Manga</td>\n",
       "      <td>8.24</td>\n",
       "      <td>53908.0</td>\n",
       "      <td>281.0</td>\n",
       "      <td>988.0</td>\n",
       "      <td>Music, Slice of Life, Comedy, Romance, Josei</td>\n",
       "      <td>85660.0</td>\n",
       "      <td>11.0</td>\n",
       "    </tr>\n",
       "    <tr>\n",
       "      <td>5664476</td>\n",
       "      <td>5690</td>\n",
       "      <td>Aokaado</td>\n",
       "      <td>0</td>\n",
       "      <td>3</td>\n",
       "      <td>Male</td>\n",
       "      <td>133</td>\n",
       "      <td>59.084028</td>\n",
       "      <td>32</td>\n",
       "      <td>Nodame Cantabile Finale</td>\n",
       "      <td>TV</td>\n",
       "      <td>Manga</td>\n",
       "      <td>8.34</td>\n",
       "      <td>47983.0</td>\n",
       "      <td>203.0</td>\n",
       "      <td>995.0</td>\n",
       "      <td>Comedy, Josei, Music, Romance</td>\n",
       "      <td>84808.0</td>\n",
       "      <td>11.0</td>\n",
       "    </tr>\n",
       "    <tr>\n",
       "      <td>5664477</td>\n",
       "      <td>6045</td>\n",
       "      <td>Aokaado</td>\n",
       "      <td>6</td>\n",
       "      <td>3</td>\n",
       "      <td>Male</td>\n",
       "      <td>133</td>\n",
       "      <td>59.084028</td>\n",
       "      <td>32</td>\n",
       "      <td>Kimi ni Todoke</td>\n",
       "      <td>TV</td>\n",
       "      <td>Manga</td>\n",
       "      <td>8.13</td>\n",
       "      <td>212710.0</td>\n",
       "      <td>400.0</td>\n",
       "      <td>111.0</td>\n",
       "      <td>Slice of Life, Drama, Romance, School, Shoujo</td>\n",
       "      <td>417136.0</td>\n",
       "      <td>25.0</td>\n",
       "    </tr>\n",
       "    <tr>\n",
       "      <td>5664478</td>\n",
       "      <td>1</td>\n",
       "      <td>Aokaado</td>\n",
       "      <td>10</td>\n",
       "      <td>3</td>\n",
       "      <td>Male</td>\n",
       "      <td>133</td>\n",
       "      <td>59.084028</td>\n",
       "      <td>32</td>\n",
       "      <td>Cowboy Bebop</td>\n",
       "      <td>TV</td>\n",
       "      <td>Original</td>\n",
       "      <td>8.81</td>\n",
       "      <td>365465.0</td>\n",
       "      <td>27.0</td>\n",
       "      <td>38.0</td>\n",
       "      <td>Action, Adventure, Comedy, Drama, Sci-Fi, Space</td>\n",
       "      <td>707773.0</td>\n",
       "      <td>26.0</td>\n",
       "    </tr>\n",
       "    <tr>\n",
       "      <td>5664479</td>\n",
       "      <td>16</td>\n",
       "      <td>Aokaado</td>\n",
       "      <td>9</td>\n",
       "      <td>3</td>\n",
       "      <td>Male</td>\n",
       "      <td>133</td>\n",
       "      <td>59.084028</td>\n",
       "      <td>32</td>\n",
       "      <td>Hachimitsu to Clover</td>\n",
       "      <td>TV</td>\n",
       "      <td>Manga</td>\n",
       "      <td>8.14</td>\n",
       "      <td>54404.0</td>\n",
       "      <td>382.0</td>\n",
       "      <td>500.0</td>\n",
       "      <td>Comedy, Drama, Josei, Romance, Slice of Life</td>\n",
       "      <td>160519.0</td>\n",
       "      <td>24.0</td>\n",
       "    </tr>\n",
       "    <tr>\n",
       "      <td>5664480</td>\n",
       "      <td>19</td>\n",
       "      <td>Aokaado</td>\n",
       "      <td>9</td>\n",
       "      <td>3</td>\n",
       "      <td>Male</td>\n",
       "      <td>133</td>\n",
       "      <td>59.084028</td>\n",
       "      <td>32</td>\n",
       "      <td>Monster</td>\n",
       "      <td>TV</td>\n",
       "      <td>Manga</td>\n",
       "      <td>8.69</td>\n",
       "      <td>118856.0</td>\n",
       "      <td>49.0</td>\n",
       "      <td>152.0</td>\n",
       "      <td>Drama, Horror, Mystery, Police, Psychological,...</td>\n",
       "      <td>353310.0</td>\n",
       "      <td>74.0</td>\n",
       "    </tr>\n",
       "    <tr>\n",
       "      <td>5664481</td>\n",
       "      <td>20</td>\n",
       "      <td>Aokaado</td>\n",
       "      <td>6</td>\n",
       "      <td>3</td>\n",
       "      <td>Male</td>\n",
       "      <td>133</td>\n",
       "      <td>59.084028</td>\n",
       "      <td>32</td>\n",
       "      <td>Naruto</td>\n",
       "      <td>TV</td>\n",
       "      <td>Manga</td>\n",
       "      <td>7.88</td>\n",
       "      <td>648605.0</td>\n",
       "      <td>745.0</td>\n",
       "      <td>10.0</td>\n",
       "      <td>Action, Adventure, Comedy, Super Power, Martia...</td>\n",
       "      <td>980265.0</td>\n",
       "      <td>220.0</td>\n",
       "    </tr>\n",
       "    <tr>\n",
       "      <td>5664482</td>\n",
       "      <td>24</td>\n",
       "      <td>Aokaado</td>\n",
       "      <td>10</td>\n",
       "      <td>3</td>\n",
       "      <td>Male</td>\n",
       "      <td>133</td>\n",
       "      <td>59.084028</td>\n",
       "      <td>32</td>\n",
       "      <td>School Rumble</td>\n",
       "      <td>TV</td>\n",
       "      <td>Manga</td>\n",
       "      <td>8.02</td>\n",
       "      <td>101593.0</td>\n",
       "      <td>537.0</td>\n",
       "      <td>347.0</td>\n",
       "      <td>Comedy, Romance, School, Shounen</td>\n",
       "      <td>214621.0</td>\n",
       "      <td>26.0</td>\n",
       "    </tr>\n",
       "    <tr>\n",
       "      <td>5664483</td>\n",
       "      <td>30</td>\n",
       "      <td>Aokaado</td>\n",
       "      <td>7</td>\n",
       "      <td>3</td>\n",
       "      <td>Male</td>\n",
       "      <td>133</td>\n",
       "      <td>59.084028</td>\n",
       "      <td>32</td>\n",
       "      <td>Neon Genesis Evangelion</td>\n",
       "      <td>TV</td>\n",
       "      <td>Original</td>\n",
       "      <td>8.32</td>\n",
       "      <td>364012.0</td>\n",
       "      <td>223.0</td>\n",
       "      <td>48.0</td>\n",
       "      <td>Action, Sci-Fi, Dementia, Psychological, Drama...</td>\n",
       "      <td>641101.0</td>\n",
       "      <td>26.0</td>\n",
       "    </tr>\n",
       "    <tr>\n",
       "      <td>5664484</td>\n",
       "      <td>32</td>\n",
       "      <td>Aokaado</td>\n",
       "      <td>7</td>\n",
       "      <td>3</td>\n",
       "      <td>Male</td>\n",
       "      <td>133</td>\n",
       "      <td>59.084028</td>\n",
       "      <td>32</td>\n",
       "      <td>Neon Genesis Evangelion: The End of Evangelion</td>\n",
       "      <td>Movie</td>\n",
       "      <td>Original</td>\n",
       "      <td>8.48</td>\n",
       "      <td>193744.0</td>\n",
       "      <td>113.0</td>\n",
       "      <td>216.0</td>\n",
       "      <td>Sci-Fi, Dementia, Psychological, Drama, Mecha</td>\n",
       "      <td>295923.0</td>\n",
       "      <td>1.0</td>\n",
       "    </tr>\n",
       "    <tr>\n",
       "      <td>5664485</td>\n",
       "      <td>43</td>\n",
       "      <td>Aokaado</td>\n",
       "      <td>7</td>\n",
       "      <td>3</td>\n",
       "      <td>Male</td>\n",
       "      <td>133</td>\n",
       "      <td>59.084028</td>\n",
       "      <td>32</td>\n",
       "      <td>Ghost in the Shell</td>\n",
       "      <td>Movie</td>\n",
       "      <td>Manga</td>\n",
       "      <td>8.35</td>\n",
       "      <td>182809.0</td>\n",
       "      <td>192.0</td>\n",
       "      <td>174.0</td>\n",
       "      <td>Action, Sci-Fi, Police, Psychological, Mecha, ...</td>\n",
       "      <td>329663.0</td>\n",
       "      <td>1.0</td>\n",
       "    </tr>\n",
       "    <tr>\n",
       "      <td>5664486</td>\n",
       "      <td>44</td>\n",
       "      <td>Aokaado</td>\n",
       "      <td>9</td>\n",
       "      <td>3</td>\n",
       "      <td>Male</td>\n",
       "      <td>133</td>\n",
       "      <td>59.084028</td>\n",
       "      <td>32</td>\n",
       "      <td>Rurouni Kenshin: Meiji Kenkaku Romantan - Tsui...</td>\n",
       "      <td>OVA</td>\n",
       "      <td>Manga</td>\n",
       "      <td>8.79</td>\n",
       "      <td>89117.0</td>\n",
       "      <td>31.0</td>\n",
       "      <td>481.0</td>\n",
       "      <td>Action, Historical, Drama, Romance, Martial Ar...</td>\n",
       "      <td>167218.0</td>\n",
       "      <td>4.0</td>\n",
       "    </tr>\n",
       "    <tr>\n",
       "      <td>5664487</td>\n",
       "      <td>47</td>\n",
       "      <td>Aokaado</td>\n",
       "      <td>8</td>\n",
       "      <td>3</td>\n",
       "      <td>Male</td>\n",
       "      <td>133</td>\n",
       "      <td>59.084028</td>\n",
       "      <td>32</td>\n",
       "      <td>Akira</td>\n",
       "      <td>Movie</td>\n",
       "      <td>Manga</td>\n",
       "      <td>8.16</td>\n",
       "      <td>190829.0</td>\n",
       "      <td>352.0</td>\n",
       "      <td>198.0</td>\n",
       "      <td>Action, Military, Sci-Fi, Adventure, Horror, S...</td>\n",
       "      <td>310133.0</td>\n",
       "      <td>1.0</td>\n",
       "    </tr>\n",
       "    <tr>\n",
       "      <td>5664488</td>\n",
       "      <td>60</td>\n",
       "      <td>Aokaado</td>\n",
       "      <td>8</td>\n",
       "      <td>3</td>\n",
       "      <td>Male</td>\n",
       "      <td>133</td>\n",
       "      <td>59.084028</td>\n",
       "      <td>32</td>\n",
       "      <td>Chrno Crusade</td>\n",
       "      <td>TV</td>\n",
       "      <td>Manga</td>\n",
       "      <td>7.76</td>\n",
       "      <td>78792.0</td>\n",
       "      <td>961.0</td>\n",
       "      <td>485.0</td>\n",
       "      <td>Action, Historical, Demons, Supernatural, Romance</td>\n",
       "      <td>165433.0</td>\n",
       "      <td>24.0</td>\n",
       "    </tr>\n",
       "    <tr>\n",
       "      <td>5664489</td>\n",
       "      <td>68</td>\n",
       "      <td>Aokaado</td>\n",
       "      <td>6</td>\n",
       "      <td>3</td>\n",
       "      <td>Male</td>\n",
       "      <td>133</td>\n",
       "      <td>59.084028</td>\n",
       "      <td>32</td>\n",
       "      <td>Black Cat</td>\n",
       "      <td>TV</td>\n",
       "      <td>Manga</td>\n",
       "      <td>7.49</td>\n",
       "      <td>89185.0</td>\n",
       "      <td>1656.0</td>\n",
       "      <td>430.0</td>\n",
       "      <td>Adventure, Comedy, Sci-Fi, Shounen, Super Power</td>\n",
       "      <td>181812.0</td>\n",
       "      <td>23.0</td>\n",
       "    </tr>\n",
       "    <tr>\n",
       "      <td>5664490</td>\n",
       "      <td>121</td>\n",
       "      <td>Aokaado</td>\n",
       "      <td>10</td>\n",
       "      <td>3</td>\n",
       "      <td>Male</td>\n",
       "      <td>133</td>\n",
       "      <td>59.084028</td>\n",
       "      <td>32</td>\n",
       "      <td>Fullmetal Alchemist</td>\n",
       "      <td>TV</td>\n",
       "      <td>Manga</td>\n",
       "      <td>8.29</td>\n",
       "      <td>491403.0</td>\n",
       "      <td>247.0</td>\n",
       "      <td>21.0</td>\n",
       "      <td>Action, Adventure, Comedy, Drama, Fantasy, Mag...</td>\n",
       "      <td>791812.0</td>\n",
       "      <td>51.0</td>\n",
       "    </tr>\n",
       "    <tr>\n",
       "      <td>5664491</td>\n",
       "      <td>136</td>\n",
       "      <td>Aokaado</td>\n",
       "      <td>9</td>\n",
       "      <td>3</td>\n",
       "      <td>Male</td>\n",
       "      <td>133</td>\n",
       "      <td>59.084028</td>\n",
       "      <td>32</td>\n",
       "      <td>Hunter x Hunter</td>\n",
       "      <td>TV</td>\n",
       "      <td>Manga</td>\n",
       "      <td>8.47</td>\n",
       "      <td>115140.0</td>\n",
       "      <td>118.0</td>\n",
       "      <td>310.0</td>\n",
       "      <td>Action, Adventure, Shounen, Super Power</td>\n",
       "      <td>229341.0</td>\n",
       "      <td>62.0</td>\n",
       "    </tr>\n",
       "    <tr>\n",
       "      <td>5664492</td>\n",
       "      <td>150</td>\n",
       "      <td>Aokaado</td>\n",
       "      <td>8</td>\n",
       "      <td>3</td>\n",
       "      <td>Male</td>\n",
       "      <td>133</td>\n",
       "      <td>59.084028</td>\n",
       "      <td>32</td>\n",
       "      <td>Blood+</td>\n",
       "      <td>TV</td>\n",
       "      <td>Original</td>\n",
       "      <td>7.76</td>\n",
       "      <td>108174.0</td>\n",
       "      <td>960.0</td>\n",
       "      <td>277.0</td>\n",
       "      <td>Action, Military, Mystery, Horror, Supernatura...</td>\n",
       "      <td>251517.0</td>\n",
       "      <td>50.0</td>\n",
       "    </tr>\n",
       "    <tr>\n",
       "      <td>5664493</td>\n",
       "      <td>164</td>\n",
       "      <td>Aokaado</td>\n",
       "      <td>8</td>\n",
       "      <td>3</td>\n",
       "      <td>Male</td>\n",
       "      <td>133</td>\n",
       "      <td>59.084028</td>\n",
       "      <td>32</td>\n",
       "      <td>Mononoke Hime</td>\n",
       "      <td>Movie</td>\n",
       "      <td>Original</td>\n",
       "      <td>8.80</td>\n",
       "      <td>333730.0</td>\n",
       "      <td>29.0</td>\n",
       "      <td>79.0</td>\n",
       "      <td>Action, Adventure, Fantasy</td>\n",
       "      <td>507499.0</td>\n",
       "      <td>1.0</td>\n",
       "    </tr>\n",
       "    <tr>\n",
       "      <td>5664494</td>\n",
       "      <td>165</td>\n",
       "      <td>Aokaado</td>\n",
       "      <td>6</td>\n",
       "      <td>3</td>\n",
       "      <td>Male</td>\n",
       "      <td>133</td>\n",
       "      <td>59.084028</td>\n",
       "      <td>32</td>\n",
       "      <td>RahXephon</td>\n",
       "      <td>TV</td>\n",
       "      <td>Original</td>\n",
       "      <td>7.50</td>\n",
       "      <td>31206.0</td>\n",
       "      <td>1644.0</td>\n",
       "      <td>1046.0</td>\n",
       "      <td>Action, Drama, Mecha, Music, Mystery, Psycholo...</td>\n",
       "      <td>79101.0</td>\n",
       "      <td>26.0</td>\n",
       "    </tr>\n",
       "    <tr>\n",
       "      <td>5664495</td>\n",
       "      <td>199</td>\n",
       "      <td>Aokaado</td>\n",
       "      <td>6</td>\n",
       "      <td>3</td>\n",
       "      <td>Male</td>\n",
       "      <td>133</td>\n",
       "      <td>59.084028</td>\n",
       "      <td>32</td>\n",
       "      <td>Sen to Chihiro no Kamikakushi</td>\n",
       "      <td>Movie</td>\n",
       "      <td>Original</td>\n",
       "      <td>8.92</td>\n",
       "      <td>498602.0</td>\n",
       "      <td>19.0</td>\n",
       "      <td>39.0</td>\n",
       "      <td>Adventure, Supernatural, Drama</td>\n",
       "      <td>705769.0</td>\n",
       "      <td>1.0</td>\n",
       "    </tr>\n",
       "    <tr>\n",
       "      <td>5664496</td>\n",
       "      <td>205</td>\n",
       "      <td>Aokaado</td>\n",
       "      <td>9</td>\n",
       "      <td>3</td>\n",
       "      <td>Male</td>\n",
       "      <td>133</td>\n",
       "      <td>59.084028</td>\n",
       "      <td>32</td>\n",
       "      <td>Samurai Champloo</td>\n",
       "      <td>TV</td>\n",
       "      <td>Original</td>\n",
       "      <td>8.50</td>\n",
       "      <td>298034.0</td>\n",
       "      <td>105.0</td>\n",
       "      <td>67.0</td>\n",
       "      <td>Action, Adventure, Comedy, Historical, Samurai...</td>\n",
       "      <td>544112.0</td>\n",
       "      <td>26.0</td>\n",
       "    </tr>\n",
       "    <tr>\n",
       "      <td>5664497</td>\n",
       "      <td>226</td>\n",
       "      <td>Aokaado</td>\n",
       "      <td>8</td>\n",
       "      <td>3</td>\n",
       "      <td>Male</td>\n",
       "      <td>133</td>\n",
       "      <td>59.084028</td>\n",
       "      <td>32</td>\n",
       "      <td>Elfen Lied</td>\n",
       "      <td>TV</td>\n",
       "      <td>Manga</td>\n",
       "      <td>7.75</td>\n",
       "      <td>514656.0</td>\n",
       "      <td>982.0</td>\n",
       "      <td>16.0</td>\n",
       "      <td>Action, Horror, Psychological, Supernatural, D...</td>\n",
       "      <td>833388.0</td>\n",
       "      <td>13.0</td>\n",
       "    </tr>\n",
       "    <tr>\n",
       "      <td>5664498</td>\n",
       "      <td>227</td>\n",
       "      <td>Aokaado</td>\n",
       "      <td>6</td>\n",
       "      <td>3</td>\n",
       "      <td>Male</td>\n",
       "      <td>133</td>\n",
       "      <td>59.084028</td>\n",
       "      <td>32</td>\n",
       "      <td>FLCL</td>\n",
       "      <td>OVA</td>\n",
       "      <td>Original</td>\n",
       "      <td>8.07</td>\n",
       "      <td>231632.0</td>\n",
       "      <td>460.0</td>\n",
       "      <td>117.0</td>\n",
       "      <td>Action, Sci-Fi, Comedy, Parody, Dementia, Psyc...</td>\n",
       "      <td>406244.0</td>\n",
       "      <td>6.0</td>\n",
       "    </tr>\n",
       "    <tr>\n",
       "      <td>5664499</td>\n",
       "      <td>239</td>\n",
       "      <td>Aokaado</td>\n",
       "      <td>9</td>\n",
       "      <td>3</td>\n",
       "      <td>Male</td>\n",
       "      <td>133</td>\n",
       "      <td>59.084028</td>\n",
       "      <td>32</td>\n",
       "      <td>Gankutsuou</td>\n",
       "      <td>TV</td>\n",
       "      <td>Novel</td>\n",
       "      <td>8.21</td>\n",
       "      <td>42484.0</td>\n",
       "      <td>303.0</td>\n",
       "      <td>634.0</td>\n",
       "      <td>Drama, Mystery, Sci-Fi, Supernatural, Thriller</td>\n",
       "      <td>132240.0</td>\n",
       "      <td>24.0</td>\n",
       "    </tr>\n",
       "    <tr>\n",
       "      <td>5664500</td>\n",
       "      <td>245</td>\n",
       "      <td>Aokaado</td>\n",
       "      <td>10</td>\n",
       "      <td>3</td>\n",
       "      <td>Male</td>\n",
       "      <td>133</td>\n",
       "      <td>59.084028</td>\n",
       "      <td>32</td>\n",
       "      <td>Great Teacher Onizuka</td>\n",
       "      <td>TV</td>\n",
       "      <td>Manga</td>\n",
       "      <td>8.74</td>\n",
       "      <td>187442.0</td>\n",
       "      <td>37.0</td>\n",
       "      <td>146.0</td>\n",
       "      <td>Comedy, Drama, School, Shounen, Slice of Life</td>\n",
       "      <td>361027.0</td>\n",
       "      <td>43.0</td>\n",
       "    </tr>\n",
       "    <tr>\n",
       "      <td>5664501</td>\n",
       "      <td>270</td>\n",
       "      <td>Aokaado</td>\n",
       "      <td>7</td>\n",
       "      <td>3</td>\n",
       "      <td>Male</td>\n",
       "      <td>133</td>\n",
       "      <td>59.084028</td>\n",
       "      <td>32</td>\n",
       "      <td>Hellsing</td>\n",
       "      <td>TV</td>\n",
       "      <td>Manga</td>\n",
       "      <td>7.60</td>\n",
       "      <td>220299.0</td>\n",
       "      <td>1349.0</td>\n",
       "      <td>125.0</td>\n",
       "      <td>Action, Horror, Supernatural, Vampire, Seinen</td>\n",
       "      <td>395276.0</td>\n",
       "      <td>13.0</td>\n",
       "    </tr>\n",
       "    <tr>\n",
       "      <td>5664502</td>\n",
       "      <td>356</td>\n",
       "      <td>Aokaado</td>\n",
       "      <td>7</td>\n",
       "      <td>3</td>\n",
       "      <td>Male</td>\n",
       "      <td>133</td>\n",
       "      <td>59.084028</td>\n",
       "      <td>32</td>\n",
       "      <td>Fate/stay night</td>\n",
       "      <td>TV</td>\n",
       "      <td>Visual novel</td>\n",
       "      <td>7.52</td>\n",
       "      <td>274418.0</td>\n",
       "      <td>1570.0</td>\n",
       "      <td>82.0</td>\n",
       "      <td>Action, Supernatural, Magic, Romance, Fantasy</td>\n",
       "      <td>499055.0</td>\n",
       "      <td>24.0</td>\n",
       "    </tr>\n",
       "    <tr>\n",
       "      <td>5664503</td>\n",
       "      <td>430</td>\n",
       "      <td>Aokaado</td>\n",
       "      <td>7</td>\n",
       "      <td>3</td>\n",
       "      <td>Male</td>\n",
       "      <td>133</td>\n",
       "      <td>59.084028</td>\n",
       "      <td>32</td>\n",
       "      <td>Fullmetal Alchemist: The Conqueror of Shamballa</td>\n",
       "      <td>Movie</td>\n",
       "      <td>Manga</td>\n",
       "      <td>7.69</td>\n",
       "      <td>146690.0</td>\n",
       "      <td>1128.0</td>\n",
       "      <td>327.0</td>\n",
       "      <td>Military, Comedy, Historical, Drama, Fantasy, ...</td>\n",
       "      <td>221825.0</td>\n",
       "      <td>1.0</td>\n",
       "    </tr>\n",
       "    <tr>\n",
       "      <td>5664504</td>\n",
       "      <td>442</td>\n",
       "      <td>Aokaado</td>\n",
       "      <td>6</td>\n",
       "      <td>3</td>\n",
       "      <td>Male</td>\n",
       "      <td>133</td>\n",
       "      <td>59.084028</td>\n",
       "      <td>32</td>\n",
       "      <td>Naruto Movie 1: Dai Katsugeki!! Yuki Hime Shin...</td>\n",
       "      <td>Movie</td>\n",
       "      <td>Manga</td>\n",
       "      <td>7.17</td>\n",
       "      <td>95969.0</td>\n",
       "      <td>2934.0</td>\n",
       "      <td>548.0</td>\n",
       "      <td>Adventure, Comedy, Historical, Supernatural, D...</td>\n",
       "      <td>148944.0</td>\n",
       "      <td>1.0</td>\n",
       "    </tr>\n",
       "    <tr>\n",
       "      <td>5664505</td>\n",
       "      <td>467</td>\n",
       "      <td>Aokaado</td>\n",
       "      <td>7</td>\n",
       "      <td>3</td>\n",
       "      <td>Male</td>\n",
       "      <td>133</td>\n",
       "      <td>59.084028</td>\n",
       "      <td>32</td>\n",
       "      <td>Ghost in the Shell: Stand Alone Complex</td>\n",
       "      <td>TV</td>\n",
       "      <td>Manga</td>\n",
       "      <td>8.46</td>\n",
       "      <td>110294.0</td>\n",
       "      <td>124.0</td>\n",
       "      <td>273.0</td>\n",
       "      <td>Action, Military, Sci-Fi, Police, Mecha, Seinen</td>\n",
       "      <td>252003.0</td>\n",
       "      <td>26.0</td>\n",
       "    </tr>\n",
       "    <tr>\n",
       "      <td>5664506</td>\n",
       "      <td>578</td>\n",
       "      <td>Aokaado</td>\n",
       "      <td>6</td>\n",
       "      <td>3</td>\n",
       "      <td>Male</td>\n",
       "      <td>133</td>\n",
       "      <td>59.084028</td>\n",
       "      <td>32</td>\n",
       "      <td>Hotaru no Haka</td>\n",
       "      <td>Movie</td>\n",
       "      <td>Novel</td>\n",
       "      <td>8.55</td>\n",
       "      <td>146968.0</td>\n",
       "      <td>83.0</td>\n",
       "      <td>284.0</td>\n",
       "      <td>Drama, Historical</td>\n",
       "      <td>245639.0</td>\n",
       "      <td>1.0</td>\n",
       "    </tr>\n",
       "    <tr>\n",
       "      <td>5664507</td>\n",
       "      <td>594</td>\n",
       "      <td>Aokaado</td>\n",
       "      <td>4</td>\n",
       "      <td>3</td>\n",
       "      <td>Male</td>\n",
       "      <td>133</td>\n",
       "      <td>59.084028</td>\n",
       "      <td>32</td>\n",
       "      <td>Naruto: Takigakure no Shitou - Ore ga Eiyuu Da...</td>\n",
       "      <td>Special</td>\n",
       "      <td>Manga</td>\n",
       "      <td>6.84</td>\n",
       "      <td>35543.0</td>\n",
       "      <td>4157.0</td>\n",
       "      <td>1360.0</td>\n",
       "      <td>Action, Adventure, Comedy, Shounen, Super Power</td>\n",
       "      <td>59577.0</td>\n",
       "      <td>1.0</td>\n",
       "    </tr>\n",
       "    <tr>\n",
       "      <td>5664508</td>\n",
       "      <td>761</td>\n",
       "      <td>Aokaado</td>\n",
       "      <td>3</td>\n",
       "      <td>3</td>\n",
       "      <td>Male</td>\n",
       "      <td>133</td>\n",
       "      <td>59.084028</td>\n",
       "      <td>32</td>\n",
       "      <td>Naruto: Akaki Yotsuba no Clover wo Sagase</td>\n",
       "      <td>Special</td>\n",
       "      <td>Manga</td>\n",
       "      <td>6.56</td>\n",
       "      <td>31050.0</td>\n",
       "      <td>5384.0</td>\n",
       "      <td>1462.0</td>\n",
       "      <td>Adventure, Comedy, Shounen</td>\n",
       "      <td>53801.0</td>\n",
       "      <td>1.0</td>\n",
       "    </tr>\n",
       "    <tr>\n",
       "      <td>5664509</td>\n",
       "      <td>777</td>\n",
       "      <td>Aokaado</td>\n",
       "      <td>8</td>\n",
       "      <td>3</td>\n",
       "      <td>Male</td>\n",
       "      <td>133</td>\n",
       "      <td>59.084028</td>\n",
       "      <td>32</td>\n",
       "      <td>Hellsing Ultimate</td>\n",
       "      <td>OVA</td>\n",
       "      <td>Manga</td>\n",
       "      <td>8.53</td>\n",
       "      <td>221939.0</td>\n",
       "      <td>92.0</td>\n",
       "      <td>105.0</td>\n",
       "      <td>Action, Military, Horror, Supernatural, Vampir...</td>\n",
       "      <td>425255.0</td>\n",
       "      <td>10.0</td>\n",
       "    </tr>\n",
       "    <tr>\n",
       "      <td>5664510</td>\n",
       "      <td>790</td>\n",
       "      <td>Aokaado</td>\n",
       "      <td>9</td>\n",
       "      <td>3</td>\n",
       "      <td>Male</td>\n",
       "      <td>133</td>\n",
       "      <td>59.084028</td>\n",
       "      <td>32</td>\n",
       "      <td>Ergo Proxy</td>\n",
       "      <td>TV</td>\n",
       "      <td>Original</td>\n",
       "      <td>7.99</td>\n",
       "      <td>136841.0</td>\n",
       "      <td>566.0</td>\n",
       "      <td>161.0</td>\n",
       "      <td>Sci-Fi, Mystery, Psychological</td>\n",
       "      <td>342724.0</td>\n",
       "      <td>23.0</td>\n",
       "    </tr>\n",
       "    <tr>\n",
       "      <td>5664511</td>\n",
       "      <td>834</td>\n",
       "      <td>Aokaado</td>\n",
       "      <td>6</td>\n",
       "      <td>3</td>\n",
       "      <td>Male</td>\n",
       "      <td>133</td>\n",
       "      <td>59.084028</td>\n",
       "      <td>32</td>\n",
       "      <td>Bleach: The Sealed Sword Frenzy</td>\n",
       "      <td>Special</td>\n",
       "      <td>Manga</td>\n",
       "      <td>7.05</td>\n",
       "      <td>47859.0</td>\n",
       "      <td>3358.0</td>\n",
       "      <td>1024.0</td>\n",
       "      <td>Action, Adventure, Comedy, Super Power, Supern...</td>\n",
       "      <td>82001.0</td>\n",
       "      <td>1.0</td>\n",
       "    </tr>\n",
       "    <tr>\n",
       "      <td>5664512</td>\n",
       "      <td>849</td>\n",
       "      <td>Aokaado</td>\n",
       "      <td>10</td>\n",
       "      <td>3</td>\n",
       "      <td>Male</td>\n",
       "      <td>133</td>\n",
       "      <td>59.084028</td>\n",
       "      <td>32</td>\n",
       "      <td>Suzumiya Haruhi no Yuuutsu</td>\n",
       "      <td>TV</td>\n",
       "      <td>Light novel</td>\n",
       "      <td>7.99</td>\n",
       "      <td>304612.0</td>\n",
       "      <td>573.0</td>\n",
       "      <td>68.0</td>\n",
       "      <td>Comedy, Mystery, Parody, School, Sci-Fi, Slice...</td>\n",
       "      <td>542064.0</td>\n",
       "      <td>14.0</td>\n",
       "    </tr>\n",
       "    <tr>\n",
       "      <td>5664513</td>\n",
       "      <td>889</td>\n",
       "      <td>Aokaado</td>\n",
       "      <td>7</td>\n",
       "      <td>3</td>\n",
       "      <td>Male</td>\n",
       "      <td>133</td>\n",
       "      <td>59.084028</td>\n",
       "      <td>32</td>\n",
       "      <td>Black Lagoon</td>\n",
       "      <td>TV</td>\n",
       "      <td>Manga</td>\n",
       "      <td>8.13</td>\n",
       "      <td>233227.0</td>\n",
       "      <td>394.0</td>\n",
       "      <td>98.0</td>\n",
       "      <td>Action, Seinen</td>\n",
       "      <td>449033.0</td>\n",
       "      <td>12.0</td>\n",
       "    </tr>\n",
       "    <tr>\n",
       "      <td>5664514</td>\n",
       "      <td>918</td>\n",
       "      <td>Aokaado</td>\n",
       "      <td>0</td>\n",
       "      <td>3</td>\n",
       "      <td>Male</td>\n",
       "      <td>133</td>\n",
       "      <td>59.084028</td>\n",
       "      <td>32</td>\n",
       "      <td>Gintama</td>\n",
       "      <td>TV</td>\n",
       "      <td>Manga</td>\n",
       "      <td>9.01</td>\n",
       "      <td>141830.0</td>\n",
       "      <td>15.0</td>\n",
       "      <td>95.0</td>\n",
       "      <td>Action, Sci-Fi, Comedy, Historical, Parody, Sa...</td>\n",
       "      <td>459031.0</td>\n",
       "      <td>201.0</td>\n",
       "    </tr>\n",
       "    <tr>\n",
       "      <td>5664515</td>\n",
       "      <td>936</td>\n",
       "      <td>Aokaado</td>\n",
       "      <td>4</td>\n",
       "      <td>3</td>\n",
       "      <td>Male</td>\n",
       "      <td>133</td>\n",
       "      <td>59.084028</td>\n",
       "      <td>32</td>\n",
       "      <td>Naruto Movie 2: Dai Gekitotsu! Maboroshi no Ch...</td>\n",
       "      <td>Movie</td>\n",
       "      <td>Manga</td>\n",
       "      <td>6.98</td>\n",
       "      <td>73978.0</td>\n",
       "      <td>3650.0</td>\n",
       "      <td>714.0</td>\n",
       "      <td>Adventure, Comedy, Drama, Fantasy, Shounen, Su...</td>\n",
       "      <td>120119.0</td>\n",
       "      <td>1.0</td>\n",
       "    </tr>\n",
       "    <tr>\n",
       "      <td>5664516</td>\n",
       "      <td>1210</td>\n",
       "      <td>Aokaado</td>\n",
       "      <td>7</td>\n",
       "      <td>3</td>\n",
       "      <td>Male</td>\n",
       "      <td>133</td>\n",
       "      <td>59.084028</td>\n",
       "      <td>32</td>\n",
       "      <td>NHK ni Youkoso!</td>\n",
       "      <td>TV</td>\n",
       "      <td>Novel</td>\n",
       "      <td>8.38</td>\n",
       "      <td>189128.0</td>\n",
       "      <td>178.0</td>\n",
       "      <td>132.0</td>\n",
       "      <td>Comedy, Psychological, Drama, Romance</td>\n",
       "      <td>384164.0</td>\n",
       "      <td>24.0</td>\n",
       "    </tr>\n",
       "    <tr>\n",
       "      <td>5664517</td>\n",
       "      <td>1535</td>\n",
       "      <td>Aokaado</td>\n",
       "      <td>9</td>\n",
       "      <td>3</td>\n",
       "      <td>Male</td>\n",
       "      <td>133</td>\n",
       "      <td>59.084028</td>\n",
       "      <td>32</td>\n",
       "      <td>Death Note</td>\n",
       "      <td>TV</td>\n",
       "      <td>Manga</td>\n",
       "      <td>8.67</td>\n",
       "      <td>1009477.0</td>\n",
       "      <td>51.0</td>\n",
       "      <td>1.0</td>\n",
       "      <td>Mystery, Police, Psychological, Supernatural, ...</td>\n",
       "      <td>1456378.0</td>\n",
       "      <td>37.0</td>\n",
       "    </tr>\n",
       "    <tr>\n",
       "      <td>5664518</td>\n",
       "      <td>1575</td>\n",
       "      <td>Aokaado</td>\n",
       "      <td>7</td>\n",
       "      <td>3</td>\n",
       "      <td>Male</td>\n",
       "      <td>133</td>\n",
       "      <td>59.084028</td>\n",
       "      <td>32</td>\n",
       "      <td>Code Geass: Hangyaku no Lelouch</td>\n",
       "      <td>TV</td>\n",
       "      <td>Original</td>\n",
       "      <td>8.79</td>\n",
       "      <td>627740.0</td>\n",
       "      <td>30.0</td>\n",
       "      <td>9.0</td>\n",
       "      <td>Action, Military, Sci-Fi, Super Power, Drama, ...</td>\n",
       "      <td>986897.0</td>\n",
       "      <td>25.0</td>\n",
       "    </tr>\n",
       "  </tbody>\n",
       "</table>\n",
       "</div>"
      ],
      "text/plain": [
       "         anime_id username  my_score  user_id gender  user_completed  \\\n",
       "5664469       210  Aokaado         9        3   Male             133   \n",
       "5664470       249  Aokaado         0        3   Male             133   \n",
       "5664471       269  Aokaado         9        3   Male             133   \n",
       "5664472       853  Aokaado        10        3   Male             133   \n",
       "5664473      1698  Aokaado        10        3   Male             133   \n",
       "5664474      4224  Aokaado         9        3   Male             133   \n",
       "5664475      4477  Aokaado         9        3   Male             133   \n",
       "5664476      5690  Aokaado         0        3   Male             133   \n",
       "5664477      6045  Aokaado         6        3   Male             133   \n",
       "5664478         1  Aokaado        10        3   Male             133   \n",
       "5664479        16  Aokaado         9        3   Male             133   \n",
       "5664480        19  Aokaado         9        3   Male             133   \n",
       "5664481        20  Aokaado         6        3   Male             133   \n",
       "5664482        24  Aokaado        10        3   Male             133   \n",
       "5664483        30  Aokaado         7        3   Male             133   \n",
       "5664484        32  Aokaado         7        3   Male             133   \n",
       "5664485        43  Aokaado         7        3   Male             133   \n",
       "5664486        44  Aokaado         9        3   Male             133   \n",
       "5664487        47  Aokaado         8        3   Male             133   \n",
       "5664488        60  Aokaado         8        3   Male             133   \n",
       "5664489        68  Aokaado         6        3   Male             133   \n",
       "5664490       121  Aokaado        10        3   Male             133   \n",
       "5664491       136  Aokaado         9        3   Male             133   \n",
       "5664492       150  Aokaado         8        3   Male             133   \n",
       "5664493       164  Aokaado         8        3   Male             133   \n",
       "5664494       165  Aokaado         6        3   Male             133   \n",
       "5664495       199  Aokaado         6        3   Male             133   \n",
       "5664496       205  Aokaado         9        3   Male             133   \n",
       "5664497       226  Aokaado         8        3   Male             133   \n",
       "5664498       227  Aokaado         6        3   Male             133   \n",
       "5664499       239  Aokaado         9        3   Male             133   \n",
       "5664500       245  Aokaado        10        3   Male             133   \n",
       "5664501       270  Aokaado         7        3   Male             133   \n",
       "5664502       356  Aokaado         7        3   Male             133   \n",
       "5664503       430  Aokaado         7        3   Male             133   \n",
       "5664504       442  Aokaado         6        3   Male             133   \n",
       "5664505       467  Aokaado         7        3   Male             133   \n",
       "5664506       578  Aokaado         6        3   Male             133   \n",
       "5664507       594  Aokaado         4        3   Male             133   \n",
       "5664508       761  Aokaado         3        3   Male             133   \n",
       "5664509       777  Aokaado         8        3   Male             133   \n",
       "5664510       790  Aokaado         9        3   Male             133   \n",
       "5664511       834  Aokaado         6        3   Male             133   \n",
       "5664512       849  Aokaado        10        3   Male             133   \n",
       "5664513       889  Aokaado         7        3   Male             133   \n",
       "5664514       918  Aokaado         0        3   Male             133   \n",
       "5664515       936  Aokaado         4        3   Male             133   \n",
       "5664516      1210  Aokaado         7        3   Male             133   \n",
       "5664517      1535  Aokaado         9        3   Male             133   \n",
       "5664518      1575  Aokaado         7        3   Male             133   \n",
       "\n",
       "         user_days_spent_watching  age  \\\n",
       "5664469                 59.084028   32   \n",
       "5664470                 59.084028   32   \n",
       "5664471                 59.084028   32   \n",
       "5664472                 59.084028   32   \n",
       "5664473                 59.084028   32   \n",
       "5664474                 59.084028   32   \n",
       "5664475                 59.084028   32   \n",
       "5664476                 59.084028   32   \n",
       "5664477                 59.084028   32   \n",
       "5664478                 59.084028   32   \n",
       "5664479                 59.084028   32   \n",
       "5664480                 59.084028   32   \n",
       "5664481                 59.084028   32   \n",
       "5664482                 59.084028   32   \n",
       "5664483                 59.084028   32   \n",
       "5664484                 59.084028   32   \n",
       "5664485                 59.084028   32   \n",
       "5664486                 59.084028   32   \n",
       "5664487                 59.084028   32   \n",
       "5664488                 59.084028   32   \n",
       "5664489                 59.084028   32   \n",
       "5664490                 59.084028   32   \n",
       "5664491                 59.084028   32   \n",
       "5664492                 59.084028   32   \n",
       "5664493                 59.084028   32   \n",
       "5664494                 59.084028   32   \n",
       "5664495                 59.084028   32   \n",
       "5664496                 59.084028   32   \n",
       "5664497                 59.084028   32   \n",
       "5664498                 59.084028   32   \n",
       "5664499                 59.084028   32   \n",
       "5664500                 59.084028   32   \n",
       "5664501                 59.084028   32   \n",
       "5664502                 59.084028   32   \n",
       "5664503                 59.084028   32   \n",
       "5664504                 59.084028   32   \n",
       "5664505                 59.084028   32   \n",
       "5664506                 59.084028   32   \n",
       "5664507                 59.084028   32   \n",
       "5664508                 59.084028   32   \n",
       "5664509                 59.084028   32   \n",
       "5664510                 59.084028   32   \n",
       "5664511                 59.084028   32   \n",
       "5664512                 59.084028   32   \n",
       "5664513                 59.084028   32   \n",
       "5664514                 59.084028   32   \n",
       "5664515                 59.084028   32   \n",
       "5664516                 59.084028   32   \n",
       "5664517                 59.084028   32   \n",
       "5664518                 59.084028   32   \n",
       "\n",
       "                                                     title     type  \\\n",
       "5664469                                            Ranma ½       TV   \n",
       "5664470                                           InuYasha       TV   \n",
       "5664471                                             Bleach       TV   \n",
       "5664472                             Ouran Koukou Host Club       TV   \n",
       "5664473                                   Nodame Cantabile       TV   \n",
       "5664474                                          Toradora!       TV   \n",
       "5664475                        Nodame Cantabile: Paris-hen       TV   \n",
       "5664476                            Nodame Cantabile Finale       TV   \n",
       "5664477                                     Kimi ni Todoke       TV   \n",
       "5664478                                       Cowboy Bebop       TV   \n",
       "5664479                               Hachimitsu to Clover       TV   \n",
       "5664480                                            Monster       TV   \n",
       "5664481                                             Naruto       TV   \n",
       "5664482                                      School Rumble       TV   \n",
       "5664483                            Neon Genesis Evangelion       TV   \n",
       "5664484     Neon Genesis Evangelion: The End of Evangelion    Movie   \n",
       "5664485                                 Ghost in the Shell    Movie   \n",
       "5664486  Rurouni Kenshin: Meiji Kenkaku Romantan - Tsui...      OVA   \n",
       "5664487                                              Akira    Movie   \n",
       "5664488                                      Chrno Crusade       TV   \n",
       "5664489                                          Black Cat       TV   \n",
       "5664490                                Fullmetal Alchemist       TV   \n",
       "5664491                                    Hunter x Hunter       TV   \n",
       "5664492                                             Blood+       TV   \n",
       "5664493                                      Mononoke Hime    Movie   \n",
       "5664494                                          RahXephon       TV   \n",
       "5664495                      Sen to Chihiro no Kamikakushi    Movie   \n",
       "5664496                                   Samurai Champloo       TV   \n",
       "5664497                                         Elfen Lied       TV   \n",
       "5664498                                               FLCL      OVA   \n",
       "5664499                                         Gankutsuou       TV   \n",
       "5664500                              Great Teacher Onizuka       TV   \n",
       "5664501                                           Hellsing       TV   \n",
       "5664502                                    Fate/stay night       TV   \n",
       "5664503    Fullmetal Alchemist: The Conqueror of Shamballa    Movie   \n",
       "5664504  Naruto Movie 1: Dai Katsugeki!! Yuki Hime Shin...    Movie   \n",
       "5664505            Ghost in the Shell: Stand Alone Complex       TV   \n",
       "5664506                                     Hotaru no Haka    Movie   \n",
       "5664507  Naruto: Takigakure no Shitou - Ore ga Eiyuu Da...  Special   \n",
       "5664508          Naruto: Akaki Yotsuba no Clover wo Sagase  Special   \n",
       "5664509                                  Hellsing Ultimate      OVA   \n",
       "5664510                                         Ergo Proxy       TV   \n",
       "5664511                    Bleach: The Sealed Sword Frenzy  Special   \n",
       "5664512                         Suzumiya Haruhi no Yuuutsu       TV   \n",
       "5664513                                       Black Lagoon       TV   \n",
       "5664514                                            Gintama       TV   \n",
       "5664515  Naruto Movie 2: Dai Gekitotsu! Maboroshi no Ch...    Movie   \n",
       "5664516                                    NHK ni Youkoso!       TV   \n",
       "5664517                                         Death Note       TV   \n",
       "5664518                    Code Geass: Hangyaku no Lelouch       TV   \n",
       "\n",
       "               source  score  scored_by    rank  popularity  \\\n",
       "5664469         Manga   7.85    59911.0   802.0       623.0   \n",
       "5664470         Manga   7.90   181978.0   697.0       141.0   \n",
       "5664471         Manga   7.90   433097.0   693.0        18.0   \n",
       "5664472         Manga   8.34   335137.0   205.0        69.0   \n",
       "5664473         Manga   8.41    87363.0   163.0       381.0   \n",
       "5664474   Light novel   8.39   557898.0   174.0        13.0   \n",
       "5664475         Manga   8.24    53908.0   281.0       988.0   \n",
       "5664476         Manga   8.34    47983.0   203.0       995.0   \n",
       "5664477         Manga   8.13   212710.0   400.0       111.0   \n",
       "5664478      Original   8.81   365465.0    27.0        38.0   \n",
       "5664479         Manga   8.14    54404.0   382.0       500.0   \n",
       "5664480         Manga   8.69   118856.0    49.0       152.0   \n",
       "5664481         Manga   7.88   648605.0   745.0        10.0   \n",
       "5664482         Manga   8.02   101593.0   537.0       347.0   \n",
       "5664483      Original   8.32   364012.0   223.0        48.0   \n",
       "5664484      Original   8.48   193744.0   113.0       216.0   \n",
       "5664485         Manga   8.35   182809.0   192.0       174.0   \n",
       "5664486         Manga   8.79    89117.0    31.0       481.0   \n",
       "5664487         Manga   8.16   190829.0   352.0       198.0   \n",
       "5664488         Manga   7.76    78792.0   961.0       485.0   \n",
       "5664489         Manga   7.49    89185.0  1656.0       430.0   \n",
       "5664490         Manga   8.29   491403.0   247.0        21.0   \n",
       "5664491         Manga   8.47   115140.0   118.0       310.0   \n",
       "5664492      Original   7.76   108174.0   960.0       277.0   \n",
       "5664493      Original   8.80   333730.0    29.0        79.0   \n",
       "5664494      Original   7.50    31206.0  1644.0      1046.0   \n",
       "5664495      Original   8.92   498602.0    19.0        39.0   \n",
       "5664496      Original   8.50   298034.0   105.0        67.0   \n",
       "5664497         Manga   7.75   514656.0   982.0        16.0   \n",
       "5664498      Original   8.07   231632.0   460.0       117.0   \n",
       "5664499         Novel   8.21    42484.0   303.0       634.0   \n",
       "5664500         Manga   8.74   187442.0    37.0       146.0   \n",
       "5664501         Manga   7.60   220299.0  1349.0       125.0   \n",
       "5664502  Visual novel   7.52   274418.0  1570.0        82.0   \n",
       "5664503         Manga   7.69   146690.0  1128.0       327.0   \n",
       "5664504         Manga   7.17    95969.0  2934.0       548.0   \n",
       "5664505         Manga   8.46   110294.0   124.0       273.0   \n",
       "5664506         Novel   8.55   146968.0    83.0       284.0   \n",
       "5664507         Manga   6.84    35543.0  4157.0      1360.0   \n",
       "5664508         Manga   6.56    31050.0  5384.0      1462.0   \n",
       "5664509         Manga   8.53   221939.0    92.0       105.0   \n",
       "5664510      Original   7.99   136841.0   566.0       161.0   \n",
       "5664511         Manga   7.05    47859.0  3358.0      1024.0   \n",
       "5664512   Light novel   7.99   304612.0   573.0        68.0   \n",
       "5664513         Manga   8.13   233227.0   394.0        98.0   \n",
       "5664514         Manga   9.01   141830.0    15.0        95.0   \n",
       "5664515         Manga   6.98    73978.0  3650.0       714.0   \n",
       "5664516         Novel   8.38   189128.0   178.0       132.0   \n",
       "5664517         Manga   8.67  1009477.0    51.0         1.0   \n",
       "5664518      Original   8.79   627740.0    30.0         9.0   \n",
       "\n",
       "                                                     genre    members  \\\n",
       "5664469       Slice of Life, Comedy, Martial Arts, Fantasy   134537.0   \n",
       "5664470  Action, Adventure, Comedy, Historical, Demons,...   371313.0   \n",
       "5664471  Action, Adventure, Comedy, Super Power, Supern...   819284.0   \n",
       "5664472             Comedy, Harem, Romance, School, Shoujo   538843.0   \n",
       "5664473  Music, Slice of Life, Comedy, Drama, Romance, ...   198927.0   \n",
       "5664474             Slice of Life, Comedy, Romance, School   910373.0   \n",
       "5664475       Music, Slice of Life, Comedy, Romance, Josei    85660.0   \n",
       "5664476                      Comedy, Josei, Music, Romance    84808.0   \n",
       "5664477      Slice of Life, Drama, Romance, School, Shoujo   417136.0   \n",
       "5664478    Action, Adventure, Comedy, Drama, Sci-Fi, Space   707773.0   \n",
       "5664479       Comedy, Drama, Josei, Romance, Slice of Life   160519.0   \n",
       "5664480  Drama, Horror, Mystery, Police, Psychological,...   353310.0   \n",
       "5664481  Action, Adventure, Comedy, Super Power, Martia...   980265.0   \n",
       "5664482                   Comedy, Romance, School, Shounen   214621.0   \n",
       "5664483  Action, Sci-Fi, Dementia, Psychological, Drama...   641101.0   \n",
       "5664484      Sci-Fi, Dementia, Psychological, Drama, Mecha   295923.0   \n",
       "5664485  Action, Sci-Fi, Police, Psychological, Mecha, ...   329663.0   \n",
       "5664486  Action, Historical, Drama, Romance, Martial Ar...   167218.0   \n",
       "5664487  Action, Military, Sci-Fi, Adventure, Horror, S...   310133.0   \n",
       "5664488  Action, Historical, Demons, Supernatural, Romance   165433.0   \n",
       "5664489    Adventure, Comedy, Sci-Fi, Shounen, Super Power   181812.0   \n",
       "5664490  Action, Adventure, Comedy, Drama, Fantasy, Mag...   791812.0   \n",
       "5664491            Action, Adventure, Shounen, Super Power   229341.0   \n",
       "5664492  Action, Military, Mystery, Horror, Supernatura...   251517.0   \n",
       "5664493                         Action, Adventure, Fantasy   507499.0   \n",
       "5664494  Action, Drama, Mecha, Music, Mystery, Psycholo...    79101.0   \n",
       "5664495                     Adventure, Supernatural, Drama   705769.0   \n",
       "5664496  Action, Adventure, Comedy, Historical, Samurai...   544112.0   \n",
       "5664497  Action, Horror, Psychological, Supernatural, D...   833388.0   \n",
       "5664498  Action, Sci-Fi, Comedy, Parody, Dementia, Psyc...   406244.0   \n",
       "5664499     Drama, Mystery, Sci-Fi, Supernatural, Thriller   132240.0   \n",
       "5664500      Comedy, Drama, School, Shounen, Slice of Life   361027.0   \n",
       "5664501      Action, Horror, Supernatural, Vampire, Seinen   395276.0   \n",
       "5664502      Action, Supernatural, Magic, Romance, Fantasy   499055.0   \n",
       "5664503  Military, Comedy, Historical, Drama, Fantasy, ...   221825.0   \n",
       "5664504  Adventure, Comedy, Historical, Supernatural, D...   148944.0   \n",
       "5664505    Action, Military, Sci-Fi, Police, Mecha, Seinen   252003.0   \n",
       "5664506                                  Drama, Historical   245639.0   \n",
       "5664507    Action, Adventure, Comedy, Shounen, Super Power    59577.0   \n",
       "5664508                         Adventure, Comedy, Shounen    53801.0   \n",
       "5664509  Action, Military, Horror, Supernatural, Vampir...   425255.0   \n",
       "5664510                     Sci-Fi, Mystery, Psychological   342724.0   \n",
       "5664511  Action, Adventure, Comedy, Super Power, Supern...    82001.0   \n",
       "5664512  Comedy, Mystery, Parody, School, Sci-Fi, Slice...   542064.0   \n",
       "5664513                                     Action, Seinen   449033.0   \n",
       "5664514  Action, Sci-Fi, Comedy, Historical, Parody, Sa...   459031.0   \n",
       "5664515  Adventure, Comedy, Drama, Fantasy, Shounen, Su...   120119.0   \n",
       "5664516              Comedy, Psychological, Drama, Romance   384164.0   \n",
       "5664517  Mystery, Police, Psychological, Supernatural, ...  1456378.0   \n",
       "5664518  Action, Military, Sci-Fi, Super Power, Drama, ...   986897.0   \n",
       "\n",
       "         episodes  \n",
       "5664469     161.0  \n",
       "5664470     167.0  \n",
       "5664471     366.0  \n",
       "5664472      26.0  \n",
       "5664473      23.0  \n",
       "5664474      25.0  \n",
       "5664475      11.0  \n",
       "5664476      11.0  \n",
       "5664477      25.0  \n",
       "5664478      26.0  \n",
       "5664479      24.0  \n",
       "5664480      74.0  \n",
       "5664481     220.0  \n",
       "5664482      26.0  \n",
       "5664483      26.0  \n",
       "5664484       1.0  \n",
       "5664485       1.0  \n",
       "5664486       4.0  \n",
       "5664487       1.0  \n",
       "5664488      24.0  \n",
       "5664489      23.0  \n",
       "5664490      51.0  \n",
       "5664491      62.0  \n",
       "5664492      50.0  \n",
       "5664493       1.0  \n",
       "5664494      26.0  \n",
       "5664495       1.0  \n",
       "5664496      26.0  \n",
       "5664497      13.0  \n",
       "5664498       6.0  \n",
       "5664499      24.0  \n",
       "5664500      43.0  \n",
       "5664501      13.0  \n",
       "5664502      24.0  \n",
       "5664503       1.0  \n",
       "5664504       1.0  \n",
       "5664505      26.0  \n",
       "5664506       1.0  \n",
       "5664507       1.0  \n",
       "5664508       1.0  \n",
       "5664509      10.0  \n",
       "5664510      23.0  \n",
       "5664511       1.0  \n",
       "5664512      14.0  \n",
       "5664513      12.0  \n",
       "5664514     201.0  \n",
       "5664515       1.0  \n",
       "5664516      24.0  \n",
       "5664517      37.0  \n",
       "5664518      25.0  "
      ]
     },
     "execution_count": 101,
     "metadata": {},
     "output_type": "execute_result"
    }
   ],
   "source": [
    "userlists[userlists['user_id']== 3].head(50)  #看看user id=3的这个人给几个anime评了分..."
   ]
  },
  {
   "cell_type": "code",
   "execution_count": 102,
   "metadata": {},
   "outputs": [
    {
     "data": {
      "text/plain": [
       "anime_id                    100000\n",
       "username                    100000\n",
       "my_score                    100000\n",
       "user_id                     100000\n",
       "gender                      100000\n",
       "user_completed              100000\n",
       "user_days_spent_watching    100000\n",
       "age                         100000\n",
       "title                       100000\n",
       "type                        100000\n",
       "source                      100000\n",
       "score                       100000\n",
       "scored_by                   100000\n",
       "rank                         98798\n",
       "popularity                  100000\n",
       "genre                       100000\n",
       "members                     100000\n",
       "episodes                    100000\n",
       "dtype: int64"
      ]
     },
     "execution_count": 102,
     "metadata": {},
     "output_type": "execute_result"
    }
   ],
   "source": [
    "userlists_sub.count()"
   ]
  },
  {
   "cell_type": "code",
   "execution_count": 103,
   "metadata": {},
   "outputs": [
    {
     "data": {
      "text/plain": [
       "105739"
      ]
     },
     "execution_count": 103,
     "metadata": {},
     "output_type": "execute_result"
    }
   ],
   "source": [
    "len(userlists['user_id'].unique())"
   ]
  },
  {
   "cell_type": "markdown",
   "metadata": {},
   "source": [
    "# 2.Data Visualization"
   ]
  },
  {
   "cell_type": "markdown",
   "metadata": {},
   "source": [
    "2.A In Terms Of Rank And Popularity TOP 100 Animes (Plotly Bubble Chart, WordCloud, PointPlot)¶"
   ]
  },
  {
   "cell_type": "code",
   "execution_count": 67,
   "metadata": {},
   "outputs": [
    {
     "data": {
      "text/html": [
       "<div>\n",
       "<style scoped>\n",
       "    .dataframe tbody tr th:only-of-type {\n",
       "        vertical-align: middle;\n",
       "    }\n",
       "\n",
       "    .dataframe tbody tr th {\n",
       "        vertical-align: top;\n",
       "    }\n",
       "\n",
       "    .dataframe thead th {\n",
       "        text-align: right;\n",
       "    }\n",
       "</style>\n",
       "<table border=\"1\" class=\"dataframe\">\n",
       "  <thead>\n",
       "    <tr style=\"text-align: right;\">\n",
       "      <th></th>\n",
       "      <th>popularity</th>\n",
       "      <th>rank</th>\n",
       "      <th>title</th>\n",
       "      <th>type</th>\n",
       "      <th>source</th>\n",
       "      <th>scored_by</th>\n",
       "      <th>favorites</th>\n",
       "      <th>score</th>\n",
       "      <th>members</th>\n",
       "      <th>genre</th>\n",
       "    </tr>\n",
       "  </thead>\n",
       "  <tbody>\n",
       "    <tr>\n",
       "      <td>3802</td>\n",
       "      <td>1</td>\n",
       "      <td>51.0</td>\n",
       "      <td>Death Note</td>\n",
       "      <td>TV</td>\n",
       "      <td>Manga</td>\n",
       "      <td>1009477</td>\n",
       "      <td>88696</td>\n",
       "      <td>8.67</td>\n",
       "      <td>1456378.0</td>\n",
       "      <td>Mystery, Police, Psychological, Supernatural, ...</td>\n",
       "    </tr>\n",
       "    <tr>\n",
       "      <td>3897</td>\n",
       "      <td>2</td>\n",
       "      <td>110.0</td>\n",
       "      <td>Shingeki no Kyojin</td>\n",
       "      <td>TV</td>\n",
       "      <td>Manga</td>\n",
       "      <td>940211</td>\n",
       "      <td>64032</td>\n",
       "      <td>8.49</td>\n",
       "      <td>1345842.0</td>\n",
       "      <td>Action, Military, Mystery, Super Power, Drama,...</td>\n",
       "    </tr>\n",
       "    <tr>\n",
       "      <td>3009</td>\n",
       "      <td>3</td>\n",
       "      <td>1259.0</td>\n",
       "      <td>Sword Art Online</td>\n",
       "      <td>TV</td>\n",
       "      <td>Light novel</td>\n",
       "      <td>915986</td>\n",
       "      <td>50042</td>\n",
       "      <td>7.64</td>\n",
       "      <td>1301616.0</td>\n",
       "      <td>Action, Adventure, Fantasy, Game, Romance</td>\n",
       "    </tr>\n",
       "    <tr>\n",
       "      <td>1261</td>\n",
       "      <td>4</td>\n",
       "      <td>1.0</td>\n",
       "      <td>Fullmetal Alchemist: Brotherhood</td>\n",
       "      <td>TV</td>\n",
       "      <td>Manga</td>\n",
       "      <td>733592</td>\n",
       "      <td>106895</td>\n",
       "      <td>9.25</td>\n",
       "      <td>1199091.0</td>\n",
       "      <td>Action, Military, Adventure, Comedy, Drama, Ma...</td>\n",
       "    </tr>\n",
       "    <tr>\n",
       "      <td>4215</td>\n",
       "      <td>5</td>\n",
       "      <td>44.0</td>\n",
       "      <td>One Punch Man</td>\n",
       "      <td>TV</td>\n",
       "      <td>Web manga</td>\n",
       "      <td>691845</td>\n",
       "      <td>30747</td>\n",
       "      <td>8.73</td>\n",
       "      <td>1020754.0</td>\n",
       "      <td>Action, Sci-Fi, Comedy, Parody, Super Power, S...</td>\n",
       "    </tr>\n",
       "    <tr>\n",
       "      <td>...</td>\n",
       "      <td>...</td>\n",
       "      <td>...</td>\n",
       "      <td>...</td>\n",
       "      <td>...</td>\n",
       "      <td>...</td>\n",
       "      <td>...</td>\n",
       "      <td>...</td>\n",
       "      <td>...</td>\n",
       "      <td>...</td>\n",
       "      <td>...</td>\n",
       "    </tr>\n",
       "    <tr>\n",
       "      <td>5455</td>\n",
       "      <td>96</td>\n",
       "      <td>610.0</td>\n",
       "      <td>Byousoku 5 Centimeter</td>\n",
       "      <td>Movie</td>\n",
       "      <td>Original</td>\n",
       "      <td>280982</td>\n",
       "      <td>7832</td>\n",
       "      <td>7.95</td>\n",
       "      <td>457791.0</td>\n",
       "      <td>Drama, Romance, Slice of Life</td>\n",
       "    </tr>\n",
       "    <tr>\n",
       "      <td>1785</td>\n",
       "      <td>97</td>\n",
       "      <td>437.0</td>\n",
       "      <td>Higurashi no Naku Koro ni</td>\n",
       "      <td>TV</td>\n",
       "      <td>Visual novel</td>\n",
       "      <td>221985</td>\n",
       "      <td>15819</td>\n",
       "      <td>8.10</td>\n",
       "      <td>452086.0</td>\n",
       "      <td>Mystery, Dementia, Horror, Psychological, Supe...</td>\n",
       "    </tr>\n",
       "    <tr>\n",
       "      <td>6286</td>\n",
       "      <td>98</td>\n",
       "      <td>394.0</td>\n",
       "      <td>Black Lagoon</td>\n",
       "      <td>TV</td>\n",
       "      <td>Manga</td>\n",
       "      <td>233227</td>\n",
       "      <td>9708</td>\n",
       "      <td>8.13</td>\n",
       "      <td>449033.0</td>\n",
       "      <td>Action, Seinen</td>\n",
       "    </tr>\n",
       "    <tr>\n",
       "      <td>1915</td>\n",
       "      <td>99</td>\n",
       "      <td>369.0</td>\n",
       "      <td>Dragon Ball</td>\n",
       "      <td>TV</td>\n",
       "      <td>Manga</td>\n",
       "      <td>286046</td>\n",
       "      <td>8598</td>\n",
       "      <td>8.15</td>\n",
       "      <td>444597.0</td>\n",
       "      <td>Adventure, Comedy, Fantasy, Martial Arts, Shou...</td>\n",
       "    </tr>\n",
       "    <tr>\n",
       "      <td>2754</td>\n",
       "      <td>100</td>\n",
       "      <td>204.0</td>\n",
       "      <td>Ookami to Koushinryou</td>\n",
       "      <td>TV</td>\n",
       "      <td>Light novel</td>\n",
       "      <td>226529</td>\n",
       "      <td>13201</td>\n",
       "      <td>8.34</td>\n",
       "      <td>442354.0</td>\n",
       "      <td>Adventure, Fantasy, Historical, Romance</td>\n",
       "    </tr>\n",
       "  </tbody>\n",
       "</table>\n",
       "<p>100 rows × 10 columns</p>\n",
       "</div>"
      ],
      "text/plain": [
       "      popularity    rank                             title   type  \\\n",
       "3802           1    51.0                        Death Note     TV   \n",
       "3897           2   110.0                Shingeki no Kyojin     TV   \n",
       "3009           3  1259.0                  Sword Art Online     TV   \n",
       "1261           4     1.0  Fullmetal Alchemist: Brotherhood     TV   \n",
       "4215           5    44.0                     One Punch Man     TV   \n",
       "...          ...     ...                               ...    ...   \n",
       "5455          96   610.0             Byousoku 5 Centimeter  Movie   \n",
       "1785          97   437.0         Higurashi no Naku Koro ni     TV   \n",
       "6286          98   394.0                      Black Lagoon     TV   \n",
       "1915          99   369.0                       Dragon Ball     TV   \n",
       "2754         100   204.0             Ookami to Koushinryou     TV   \n",
       "\n",
       "            source  scored_by  favorites  score    members  \\\n",
       "3802         Manga    1009477      88696   8.67  1456378.0   \n",
       "3897         Manga     940211      64032   8.49  1345842.0   \n",
       "3009   Light novel     915986      50042   7.64  1301616.0   \n",
       "1261         Manga     733592     106895   9.25  1199091.0   \n",
       "4215     Web manga     691845      30747   8.73  1020754.0   \n",
       "...            ...        ...        ...    ...        ...   \n",
       "5455      Original     280982       7832   7.95   457791.0   \n",
       "1785  Visual novel     221985      15819   8.10   452086.0   \n",
       "6286         Manga     233227       9708   8.13   449033.0   \n",
       "1915         Manga     286046       8598   8.15   444597.0   \n",
       "2754   Light novel     226529      13201   8.34   442354.0   \n",
       "\n",
       "                                                  genre  \n",
       "3802  Mystery, Police, Psychological, Supernatural, ...  \n",
       "3897  Action, Military, Mystery, Super Power, Drama,...  \n",
       "3009          Action, Adventure, Fantasy, Game, Romance  \n",
       "1261  Action, Military, Adventure, Comedy, Drama, Ma...  \n",
       "4215  Action, Sci-Fi, Comedy, Parody, Super Power, S...  \n",
       "...                                                 ...  \n",
       "5455                      Drama, Romance, Slice of Life  \n",
       "1785  Mystery, Dementia, Horror, Psychological, Supe...  \n",
       "6286                                     Action, Seinen  \n",
       "1915  Adventure, Comedy, Fantasy, Martial Arts, Shou...  \n",
       "2754            Adventure, Fantasy, Historical, Romance  \n",
       "\n",
       "[100 rows x 10 columns]"
      ]
     },
     "execution_count": 67,
     "metadata": {},
     "output_type": "execute_result"
    }
   ],
   "source": [
    "anime_rank_100 = df_anime[df_anime.popularity!=0].sort_values(by='popularity').head(100).loc[:,['popularity','rank', 'title','type', 'source', 'scored_by','favorites','score','members','genre']]\n",
    "popularity_and_rank_100 = anime_rank_100[(anime_rank_100.popularity <= 100)]\n",
    "#popularity_and_rank_100[\"point\"] = (popularity_and_rank_100[\"scored_by\"] * popularity_and_rank_100[\"favorites\"] * popularity_and_rank_100[\"score\"]) / 10000000000\n",
    "popularity_and_rank_100\n",
    "\n"
   ]
  },
  {
   "cell_type": "code",
   "execution_count": 68,
   "metadata": {},
   "outputs": [],
   "source": [
    "anime_rank_100.to_csv(r'\\anime_rank_100.csv',index=False, header=True)"
   ]
  },
  {
   "cell_type": "markdown",
   "metadata": {},
   "source": [
    "popularity and rank 都在50以内的动画片,共11个\n",
    "新变量\"point\":score差别很小所以把scored_by(参与评分的人数)favorites(喜欢这部动画的人数)score(动画评分)考虑了进来,calculate成新变量"
   ]
  },
  {
   "cell_type": "code",
   "execution_count": 30,
   "metadata": {},
   "outputs": [
    {
     "name": "stderr",
     "output_type": "stream",
     "text": [
      "/opt/anaconda3/lib/python3.7/site-packages/ipykernel_launcher.py:3: SettingWithCopyWarning:\n",
      "\n",
      "\n",
      "A value is trying to be set on a copy of a slice from a DataFrame.\n",
      "Try using .loc[row_indexer,col_indexer] = value instead\n",
      "\n",
      "See the caveats in the documentation: http://pandas.pydata.org/pandas-docs/stable/user_guide/indexing.html#returning-a-view-versus-a-copy\n",
      "\n"
     ]
    },
    {
     "data": {
      "text/html": [
       "<div>\n",
       "<style scoped>\n",
       "    .dataframe tbody tr th:only-of-type {\n",
       "        vertical-align: middle;\n",
       "    }\n",
       "\n",
       "    .dataframe tbody tr th {\n",
       "        vertical-align: top;\n",
       "    }\n",
       "\n",
       "    .dataframe thead th {\n",
       "        text-align: right;\n",
       "    }\n",
       "</style>\n",
       "<table border=\"1\" class=\"dataframe\">\n",
       "  <thead>\n",
       "    <tr style=\"text-align: right;\">\n",
       "      <th></th>\n",
       "      <th>popularity</th>\n",
       "      <th>rank</th>\n",
       "      <th>title</th>\n",
       "      <th>type</th>\n",
       "      <th>source</th>\n",
       "      <th>scored_by</th>\n",
       "      <th>favorites</th>\n",
       "      <th>score</th>\n",
       "      <th>members</th>\n",
       "      <th>point</th>\n",
       "    </tr>\n",
       "  </thead>\n",
       "  <tbody>\n",
       "    <tr>\n",
       "      <td>1261</td>\n",
       "      <td>4</td>\n",
       "      <td>1.0</td>\n",
       "      <td>Fullmetal Alchemist: Brotherhood</td>\n",
       "      <td>TV</td>\n",
       "      <td>Manga</td>\n",
       "      <td>733592</td>\n",
       "      <td>106895</td>\n",
       "      <td>9.25</td>\n",
       "      <td>1199091.0</td>\n",
       "      <td>72.536018</td>\n",
       "    </tr>\n",
       "    <tr>\n",
       "      <td>529</td>\n",
       "      <td>33</td>\n",
       "      <td>2.0</td>\n",
       "      <td>Kimi no Na wa.</td>\n",
       "      <td>Movie</td>\n",
       "      <td>Original</td>\n",
       "      <td>471398</td>\n",
       "      <td>34912</td>\n",
       "      <td>9.19</td>\n",
       "      <td>730076.0</td>\n",
       "      <td>15.124394</td>\n",
       "    </tr>\n",
       "    <tr>\n",
       "      <td>1475</td>\n",
       "      <td>8</td>\n",
       "      <td>5.0</td>\n",
       "      <td>Steins;Gate</td>\n",
       "      <td>TV</td>\n",
       "      <td>Visual novel</td>\n",
       "      <td>563857</td>\n",
       "      <td>92423</td>\n",
       "      <td>9.14</td>\n",
       "      <td>1010330.0</td>\n",
       "      <td>47.631607</td>\n",
       "    </tr>\n",
       "    <tr>\n",
       "      <td>223</td>\n",
       "      <td>35</td>\n",
       "      <td>8.0</td>\n",
       "      <td>Hunter x Hunter (2011)</td>\n",
       "      <td>TV</td>\n",
       "      <td>Manga</td>\n",
       "      <td>403377</td>\n",
       "      <td>64375</td>\n",
       "      <td>9.11</td>\n",
       "      <td>720920.0</td>\n",
       "      <td>23.656296</td>\n",
       "    </tr>\n",
       "    <tr>\n",
       "      <td>3550</td>\n",
       "      <td>22</td>\n",
       "      <td>18.0</td>\n",
       "      <td>Code Geass: Hangyaku no Lelouch R2</td>\n",
       "      <td>TV</td>\n",
       "      <td>Original</td>\n",
       "      <td>543904</td>\n",
       "      <td>44230</td>\n",
       "      <td>8.95</td>\n",
       "      <td>791396.0</td>\n",
       "      <td>21.530902</td>\n",
       "    </tr>\n",
       "    <tr>\n",
       "      <td>3404</td>\n",
       "      <td>39</td>\n",
       "      <td>19.0</td>\n",
       "      <td>Sen to Chihiro no Kamikakushi</td>\n",
       "      <td>Movie</td>\n",
       "      <td>Original</td>\n",
       "      <td>498602</td>\n",
       "      <td>15412</td>\n",
       "      <td>8.92</td>\n",
       "      <td>705769.0</td>\n",
       "      <td>6.854533</td>\n",
       "    </tr>\n",
       "    <tr>\n",
       "      <td>5579</td>\n",
       "      <td>37</td>\n",
       "      <td>21.0</td>\n",
       "      <td>Shigatsu wa Kimi no Uso</td>\n",
       "      <td>TV</td>\n",
       "      <td>Manga</td>\n",
       "      <td>413527</td>\n",
       "      <td>39664</td>\n",
       "      <td>8.88</td>\n",
       "      <td>717655.0</td>\n",
       "      <td>14.565096</td>\n",
       "    </tr>\n",
       "    <tr>\n",
       "      <td>4358</td>\n",
       "      <td>38</td>\n",
       "      <td>27.0</td>\n",
       "      <td>Cowboy Bebop</td>\n",
       "      <td>TV</td>\n",
       "      <td>Original</td>\n",
       "      <td>365465</td>\n",
       "      <td>39145</td>\n",
       "      <td>8.81</td>\n",
       "      <td>707773.0</td>\n",
       "      <td>12.603698</td>\n",
       "    </tr>\n",
       "    <tr>\n",
       "      <td>6579</td>\n",
       "      <td>9</td>\n",
       "      <td>30.0</td>\n",
       "      <td>Code Geass: Hangyaku no Lelouch</td>\n",
       "      <td>TV</td>\n",
       "      <td>Original</td>\n",
       "      <td>627740</td>\n",
       "      <td>63614</td>\n",
       "      <td>8.79</td>\n",
       "      <td>986897.0</td>\n",
       "      <td>35.101153</td>\n",
       "    </tr>\n",
       "    <tr>\n",
       "      <td>5237</td>\n",
       "      <td>24</td>\n",
       "      <td>41.0</td>\n",
       "      <td>Tengen Toppa Gurren Lagann</td>\n",
       "      <td>TV</td>\n",
       "      <td>Original</td>\n",
       "      <td>449656</td>\n",
       "      <td>50040</td>\n",
       "      <td>8.74</td>\n",
       "      <td>787535.0</td>\n",
       "      <td>19.665687</td>\n",
       "    </tr>\n",
       "    <tr>\n",
       "      <td>4215</td>\n",
       "      <td>5</td>\n",
       "      <td>44.0</td>\n",
       "      <td>One Punch Man</td>\n",
       "      <td>TV</td>\n",
       "      <td>Web manga</td>\n",
       "      <td>691845</td>\n",
       "      <td>30747</td>\n",
       "      <td>8.73</td>\n",
       "      <td>1020754.0</td>\n",
       "      <td>18.570594</td>\n",
       "    </tr>\n",
       "  </tbody>\n",
       "</table>\n",
       "</div>"
      ],
      "text/plain": [
       "      popularity  rank                               title   type  \\\n",
       "1261           4   1.0    Fullmetal Alchemist: Brotherhood     TV   \n",
       "529           33   2.0                      Kimi no Na wa.  Movie   \n",
       "1475           8   5.0                         Steins;Gate     TV   \n",
       "223           35   8.0              Hunter x Hunter (2011)     TV   \n",
       "3550          22  18.0  Code Geass: Hangyaku no Lelouch R2     TV   \n",
       "3404          39  19.0       Sen to Chihiro no Kamikakushi  Movie   \n",
       "5579          37  21.0             Shigatsu wa Kimi no Uso     TV   \n",
       "4358          38  27.0                        Cowboy Bebop     TV   \n",
       "6579           9  30.0     Code Geass: Hangyaku no Lelouch     TV   \n",
       "5237          24  41.0          Tengen Toppa Gurren Lagann     TV   \n",
       "4215           5  44.0                       One Punch Man     TV   \n",
       "\n",
       "            source  scored_by  favorites  score    members      point  \n",
       "1261         Manga     733592     106895   9.25  1199091.0  72.536018  \n",
       "529       Original     471398      34912   9.19   730076.0  15.124394  \n",
       "1475  Visual novel     563857      92423   9.14  1010330.0  47.631607  \n",
       "223          Manga     403377      64375   9.11   720920.0  23.656296  \n",
       "3550      Original     543904      44230   8.95   791396.0  21.530902  \n",
       "3404      Original     498602      15412   8.92   705769.0   6.854533  \n",
       "5579         Manga     413527      39664   8.88   717655.0  14.565096  \n",
       "4358      Original     365465      39145   8.81   707773.0  12.603698  \n",
       "6579      Original     627740      63614   8.79   986897.0  35.101153  \n",
       "5237      Original     449656      50040   8.74   787535.0  19.665687  \n",
       "4215     Web manga     691845      30747   8.73  1020754.0  18.570594  "
      ]
     },
     "execution_count": 30,
     "metadata": {},
     "output_type": "execute_result"
    }
   ],
   "source": [
    "anime_rank_50 = df_anime[df_anime.popularity!=0].sort_values(by='rank').head(50).loc[:,['popularity','rank', 'title','type', 'source', 'scored_by','favorites','score','members']]\n",
    "popularity_and_rank_50 = anime_rank_50[(anime_rank_50.popularity <= 50)]\n",
    "popularity_and_rank_50[\"point\"] = (popularity_and_rank_50[\"scored_by\"] * popularity_and_rank_50[\"favorites\"] * popularity_and_rank_50[\"score\"]) / 10000000000   #popularity_and_rank_50[\"favorites\"] * \n",
    "popularity_and_rank_50\n",
    "#anime_rank_50\n"
   ]
  },
  {
   "cell_type": "code",
   "execution_count": 31,
   "metadata": {},
   "outputs": [
    {
     "data": {
      "application/vnd.plotly.v1+json": {
       "config": {
        "linkText": "Export to plot.ly",
        "plotlyServerURL": "https://plot.ly",
        "showLink": false
       },
       "data": [
        {
         "marker": {
          "color": [
           4,
           33,
           8,
           35,
           22,
           39,
           37,
           38,
           9,
           24,
           5
          ],
          "showscale": true,
          "size": [
           72.536018077,
           15.124393770944,
           47.631606937054,
           23.656296275625,
           21.530902158399996,
           6.854532989408,
           14.565095816064002,
           12.603698261425,
           35.101153024439995,
           19.665687173760002,
           18.570594121695002
          ],
          "sizemin": 4
         },
         "mode": "markers",
         "text": [
          "Fullmetal Alchemist: Brotherhood",
          "Kimi no Na wa.",
          "Steins;Gate",
          "Hunter x Hunter (2011)",
          "Code Geass: Hangyaku no Lelouch R2",
          "Sen to Chihiro no Kamikakushi",
          "Shigatsu wa Kimi no Uso",
          "Cowboy Bebop",
          "Code Geass: Hangyaku no Lelouch",
          "Tengen Toppa Gurren Lagann",
          "One Punch Man"
         ],
         "type": "scatter",
         "x": [
          1,
          2,
          5,
          8,
          18,
          19,
          21,
          27,
          30,
          41,
          44
         ],
         "y": [
          4,
          33,
          8,
          35,
          22,
          39,
          37,
          38,
          9,
          24,
          5
         ]
        }
       ],
       "layout": {
        "autosize": false,
        "height": 800,
        "template": {
         "data": {
          "bar": [
           {
            "error_x": {
             "color": "#2a3f5f"
            },
            "error_y": {
             "color": "#2a3f5f"
            },
            "marker": {
             "line": {
              "color": "#E5ECF6",
              "width": 0.5
             }
            },
            "type": "bar"
           }
          ],
          "barpolar": [
           {
            "marker": {
             "line": {
              "color": "#E5ECF6",
              "width": 0.5
             }
            },
            "type": "barpolar"
           }
          ],
          "carpet": [
           {
            "aaxis": {
             "endlinecolor": "#2a3f5f",
             "gridcolor": "white",
             "linecolor": "white",
             "minorgridcolor": "white",
             "startlinecolor": "#2a3f5f"
            },
            "baxis": {
             "endlinecolor": "#2a3f5f",
             "gridcolor": "white",
             "linecolor": "white",
             "minorgridcolor": "white",
             "startlinecolor": "#2a3f5f"
            },
            "type": "carpet"
           }
          ],
          "choropleth": [
           {
            "colorbar": {
             "outlinewidth": 0,
             "ticks": ""
            },
            "type": "choropleth"
           }
          ],
          "contour": [
           {
            "colorbar": {
             "outlinewidth": 0,
             "ticks": ""
            },
            "colorscale": [
             [
              0,
              "#0d0887"
             ],
             [
              0.1111111111111111,
              "#46039f"
             ],
             [
              0.2222222222222222,
              "#7201a8"
             ],
             [
              0.3333333333333333,
              "#9c179e"
             ],
             [
              0.4444444444444444,
              "#bd3786"
             ],
             [
              0.5555555555555556,
              "#d8576b"
             ],
             [
              0.6666666666666666,
              "#ed7953"
             ],
             [
              0.7777777777777778,
              "#fb9f3a"
             ],
             [
              0.8888888888888888,
              "#fdca26"
             ],
             [
              1,
              "#f0f921"
             ]
            ],
            "type": "contour"
           }
          ],
          "contourcarpet": [
           {
            "colorbar": {
             "outlinewidth": 0,
             "ticks": ""
            },
            "type": "contourcarpet"
           }
          ],
          "heatmap": [
           {
            "colorbar": {
             "outlinewidth": 0,
             "ticks": ""
            },
            "colorscale": [
             [
              0,
              "#0d0887"
             ],
             [
              0.1111111111111111,
              "#46039f"
             ],
             [
              0.2222222222222222,
              "#7201a8"
             ],
             [
              0.3333333333333333,
              "#9c179e"
             ],
             [
              0.4444444444444444,
              "#bd3786"
             ],
             [
              0.5555555555555556,
              "#d8576b"
             ],
             [
              0.6666666666666666,
              "#ed7953"
             ],
             [
              0.7777777777777778,
              "#fb9f3a"
             ],
             [
              0.8888888888888888,
              "#fdca26"
             ],
             [
              1,
              "#f0f921"
             ]
            ],
            "type": "heatmap"
           }
          ],
          "heatmapgl": [
           {
            "colorbar": {
             "outlinewidth": 0,
             "ticks": ""
            },
            "colorscale": [
             [
              0,
              "#0d0887"
             ],
             [
              0.1111111111111111,
              "#46039f"
             ],
             [
              0.2222222222222222,
              "#7201a8"
             ],
             [
              0.3333333333333333,
              "#9c179e"
             ],
             [
              0.4444444444444444,
              "#bd3786"
             ],
             [
              0.5555555555555556,
              "#d8576b"
             ],
             [
              0.6666666666666666,
              "#ed7953"
             ],
             [
              0.7777777777777778,
              "#fb9f3a"
             ],
             [
              0.8888888888888888,
              "#fdca26"
             ],
             [
              1,
              "#f0f921"
             ]
            ],
            "type": "heatmapgl"
           }
          ],
          "histogram": [
           {
            "marker": {
             "colorbar": {
              "outlinewidth": 0,
              "ticks": ""
             }
            },
            "type": "histogram"
           }
          ],
          "histogram2d": [
           {
            "colorbar": {
             "outlinewidth": 0,
             "ticks": ""
            },
            "colorscale": [
             [
              0,
              "#0d0887"
             ],
             [
              0.1111111111111111,
              "#46039f"
             ],
             [
              0.2222222222222222,
              "#7201a8"
             ],
             [
              0.3333333333333333,
              "#9c179e"
             ],
             [
              0.4444444444444444,
              "#bd3786"
             ],
             [
              0.5555555555555556,
              "#d8576b"
             ],
             [
              0.6666666666666666,
              "#ed7953"
             ],
             [
              0.7777777777777778,
              "#fb9f3a"
             ],
             [
              0.8888888888888888,
              "#fdca26"
             ],
             [
              1,
              "#f0f921"
             ]
            ],
            "type": "histogram2d"
           }
          ],
          "histogram2dcontour": [
           {
            "colorbar": {
             "outlinewidth": 0,
             "ticks": ""
            },
            "colorscale": [
             [
              0,
              "#0d0887"
             ],
             [
              0.1111111111111111,
              "#46039f"
             ],
             [
              0.2222222222222222,
              "#7201a8"
             ],
             [
              0.3333333333333333,
              "#9c179e"
             ],
             [
              0.4444444444444444,
              "#bd3786"
             ],
             [
              0.5555555555555556,
              "#d8576b"
             ],
             [
              0.6666666666666666,
              "#ed7953"
             ],
             [
              0.7777777777777778,
              "#fb9f3a"
             ],
             [
              0.8888888888888888,
              "#fdca26"
             ],
             [
              1,
              "#f0f921"
             ]
            ],
            "type": "histogram2dcontour"
           }
          ],
          "mesh3d": [
           {
            "colorbar": {
             "outlinewidth": 0,
             "ticks": ""
            },
            "type": "mesh3d"
           }
          ],
          "parcoords": [
           {
            "line": {
             "colorbar": {
              "outlinewidth": 0,
              "ticks": ""
             }
            },
            "type": "parcoords"
           }
          ],
          "pie": [
           {
            "automargin": true,
            "type": "pie"
           }
          ],
          "scatter": [
           {
            "marker": {
             "colorbar": {
              "outlinewidth": 0,
              "ticks": ""
             }
            },
            "type": "scatter"
           }
          ],
          "scatter3d": [
           {
            "line": {
             "colorbar": {
              "outlinewidth": 0,
              "ticks": ""
             }
            },
            "marker": {
             "colorbar": {
              "outlinewidth": 0,
              "ticks": ""
             }
            },
            "type": "scatter3d"
           }
          ],
          "scattercarpet": [
           {
            "marker": {
             "colorbar": {
              "outlinewidth": 0,
              "ticks": ""
             }
            },
            "type": "scattercarpet"
           }
          ],
          "scattergeo": [
           {
            "marker": {
             "colorbar": {
              "outlinewidth": 0,
              "ticks": ""
             }
            },
            "type": "scattergeo"
           }
          ],
          "scattergl": [
           {
            "marker": {
             "colorbar": {
              "outlinewidth": 0,
              "ticks": ""
             }
            },
            "type": "scattergl"
           }
          ],
          "scattermapbox": [
           {
            "marker": {
             "colorbar": {
              "outlinewidth": 0,
              "ticks": ""
             }
            },
            "type": "scattermapbox"
           }
          ],
          "scatterpolar": [
           {
            "marker": {
             "colorbar": {
              "outlinewidth": 0,
              "ticks": ""
             }
            },
            "type": "scatterpolar"
           }
          ],
          "scatterpolargl": [
           {
            "marker": {
             "colorbar": {
              "outlinewidth": 0,
              "ticks": ""
             }
            },
            "type": "scatterpolargl"
           }
          ],
          "scatterternary": [
           {
            "marker": {
             "colorbar": {
              "outlinewidth": 0,
              "ticks": ""
             }
            },
            "type": "scatterternary"
           }
          ],
          "surface": [
           {
            "colorbar": {
             "outlinewidth": 0,
             "ticks": ""
            },
            "colorscale": [
             [
              0,
              "#0d0887"
             ],
             [
              0.1111111111111111,
              "#46039f"
             ],
             [
              0.2222222222222222,
              "#7201a8"
             ],
             [
              0.3333333333333333,
              "#9c179e"
             ],
             [
              0.4444444444444444,
              "#bd3786"
             ],
             [
              0.5555555555555556,
              "#d8576b"
             ],
             [
              0.6666666666666666,
              "#ed7953"
             ],
             [
              0.7777777777777778,
              "#fb9f3a"
             ],
             [
              0.8888888888888888,
              "#fdca26"
             ],
             [
              1,
              "#f0f921"
             ]
            ],
            "type": "surface"
           }
          ],
          "table": [
           {
            "cells": {
             "fill": {
              "color": "#EBF0F8"
             },
             "line": {
              "color": "white"
             }
            },
            "header": {
             "fill": {
              "color": "#C8D4E3"
             },
             "line": {
              "color": "white"
             }
            },
            "type": "table"
           }
          ]
         },
         "layout": {
          "annotationdefaults": {
           "arrowcolor": "#2a3f5f",
           "arrowhead": 0,
           "arrowwidth": 1
          },
          "coloraxis": {
           "colorbar": {
            "outlinewidth": 0,
            "ticks": ""
           }
          },
          "colorscale": {
           "diverging": [
            [
             0,
             "#8e0152"
            ],
            [
             0.1,
             "#c51b7d"
            ],
            [
             0.2,
             "#de77ae"
            ],
            [
             0.3,
             "#f1b6da"
            ],
            [
             0.4,
             "#fde0ef"
            ],
            [
             0.5,
             "#f7f7f7"
            ],
            [
             0.6,
             "#e6f5d0"
            ],
            [
             0.7,
             "#b8e186"
            ],
            [
             0.8,
             "#7fbc41"
            ],
            [
             0.9,
             "#4d9221"
            ],
            [
             1,
             "#276419"
            ]
           ],
           "sequential": [
            [
             0,
             "#0d0887"
            ],
            [
             0.1111111111111111,
             "#46039f"
            ],
            [
             0.2222222222222222,
             "#7201a8"
            ],
            [
             0.3333333333333333,
             "#9c179e"
            ],
            [
             0.4444444444444444,
             "#bd3786"
            ],
            [
             0.5555555555555556,
             "#d8576b"
            ],
            [
             0.6666666666666666,
             "#ed7953"
            ],
            [
             0.7777777777777778,
             "#fb9f3a"
            ],
            [
             0.8888888888888888,
             "#fdca26"
            ],
            [
             1,
             "#f0f921"
            ]
           ],
           "sequentialminus": [
            [
             0,
             "#0d0887"
            ],
            [
             0.1111111111111111,
             "#46039f"
            ],
            [
             0.2222222222222222,
             "#7201a8"
            ],
            [
             0.3333333333333333,
             "#9c179e"
            ],
            [
             0.4444444444444444,
             "#bd3786"
            ],
            [
             0.5555555555555556,
             "#d8576b"
            ],
            [
             0.6666666666666666,
             "#ed7953"
            ],
            [
             0.7777777777777778,
             "#fb9f3a"
            ],
            [
             0.8888888888888888,
             "#fdca26"
            ],
            [
             1,
             "#f0f921"
            ]
           ]
          },
          "colorway": [
           "#636efa",
           "#EF553B",
           "#00cc96",
           "#ab63fa",
           "#FFA15A",
           "#19d3f3",
           "#FF6692",
           "#B6E880",
           "#FF97FF",
           "#FECB52"
          ],
          "font": {
           "color": "#2a3f5f"
          },
          "geo": {
           "bgcolor": "white",
           "lakecolor": "white",
           "landcolor": "#E5ECF6",
           "showlakes": true,
           "showland": true,
           "subunitcolor": "white"
          },
          "hoverlabel": {
           "align": "left"
          },
          "hovermode": "closest",
          "mapbox": {
           "style": "light"
          },
          "paper_bgcolor": "white",
          "plot_bgcolor": "#E5ECF6",
          "polar": {
           "angularaxis": {
            "gridcolor": "white",
            "linecolor": "white",
            "ticks": ""
           },
           "bgcolor": "#E5ECF6",
           "radialaxis": {
            "gridcolor": "white",
            "linecolor": "white",
            "ticks": ""
           }
          },
          "scene": {
           "xaxis": {
            "backgroundcolor": "#E5ECF6",
            "gridcolor": "white",
            "gridwidth": 2,
            "linecolor": "white",
            "showbackground": true,
            "ticks": "",
            "zerolinecolor": "white"
           },
           "yaxis": {
            "backgroundcolor": "#E5ECF6",
            "gridcolor": "white",
            "gridwidth": 2,
            "linecolor": "white",
            "showbackground": true,
            "ticks": "",
            "zerolinecolor": "white"
           },
           "zaxis": {
            "backgroundcolor": "#E5ECF6",
            "gridcolor": "white",
            "gridwidth": 2,
            "linecolor": "white",
            "showbackground": true,
            "ticks": "",
            "zerolinecolor": "white"
           }
          },
          "shapedefaults": {
           "line": {
            "color": "#2a3f5f"
           }
          },
          "ternary": {
           "aaxis": {
            "gridcolor": "white",
            "linecolor": "white",
            "ticks": ""
           },
           "baxis": {
            "gridcolor": "white",
            "linecolor": "white",
            "ticks": ""
           },
           "bgcolor": "#E5ECF6",
           "caxis": {
            "gridcolor": "white",
            "linecolor": "white",
            "ticks": ""
           }
          },
          "title": {
           "x": 0.05
          },
          "xaxis": {
           "automargin": true,
           "gridcolor": "white",
           "linecolor": "white",
           "ticks": "",
           "title": {
            "standoff": 15
           },
           "zerolinecolor": "white",
           "zerolinewidth": 2
          },
          "yaxis": {
           "automargin": true,
           "gridcolor": "white",
           "linecolor": "white",
           "ticks": "",
           "title": {
            "standoff": 15
           },
           "zerolinecolor": "white",
           "zerolinewidth": 2
          }
         }
        },
        "title": {
         "text": "In Terms Of Rank And Popularity TOP 50 Animes"
        },
        "width": 900,
        "xaxis": {
         "title": {
          "text": "Rank"
         }
        },
        "yaxis": {
         "title": {
          "text": "Popularity"
         }
        }
       }
      },
      "text/html": [
       "<div>\n",
       "        \n",
       "        \n",
       "            <div id=\"883e9c33-bed6-4d20-b319-e80118ff5239\" class=\"plotly-graph-div\" style=\"height:800px; width:900px;\"></div>\n",
       "            <script type=\"text/javascript\">\n",
       "                require([\"plotly\"], function(Plotly) {\n",
       "                    window.PLOTLYENV=window.PLOTLYENV || {};\n",
       "                    \n",
       "                if (document.getElementById(\"883e9c33-bed6-4d20-b319-e80118ff5239\")) {\n",
       "                    Plotly.newPlot(\n",
       "                        '883e9c33-bed6-4d20-b319-e80118ff5239',\n",
       "                        [{\"marker\": {\"color\": [4, 33, 8, 35, 22, 39, 37, 38, 9, 24, 5], \"showscale\": true, \"size\": [72.536018077, 15.124393770944, 47.631606937054, 23.656296275625, 21.530902158399996, 6.854532989408, 14.565095816064002, 12.603698261425, 35.101153024439995, 19.665687173760002, 18.570594121695002], \"sizemin\": 4}, \"mode\": \"markers\", \"text\": [\"Fullmetal Alchemist: Brotherhood\", \"Kimi no Na wa.\", \"Steins;Gate\", \"Hunter x Hunter (2011)\", \"Code Geass: Hangyaku no Lelouch R2\", \"Sen to Chihiro no Kamikakushi\", \"Shigatsu wa Kimi no Uso\", \"Cowboy Bebop\", \"Code Geass: Hangyaku no Lelouch\", \"Tengen Toppa Gurren Lagann\", \"One Punch Man\"], \"type\": \"scatter\", \"x\": [1.0, 2.0, 5.0, 8.0, 18.0, 19.0, 21.0, 27.0, 30.0, 41.0, 44.0], \"y\": [4, 33, 8, 35, 22, 39, 37, 38, 9, 24, 5]}],\n",
       "                        {\"autosize\": false, \"height\": 800, \"template\": {\"data\": {\"bar\": [{\"error_x\": {\"color\": \"#2a3f5f\"}, \"error_y\": {\"color\": \"#2a3f5f\"}, \"marker\": {\"line\": {\"color\": \"#E5ECF6\", \"width\": 0.5}}, \"type\": \"bar\"}], \"barpolar\": [{\"marker\": {\"line\": {\"color\": \"#E5ECF6\", \"width\": 0.5}}, \"type\": \"barpolar\"}], \"carpet\": [{\"aaxis\": {\"endlinecolor\": \"#2a3f5f\", \"gridcolor\": \"white\", \"linecolor\": \"white\", \"minorgridcolor\": \"white\", \"startlinecolor\": \"#2a3f5f\"}, \"baxis\": {\"endlinecolor\": \"#2a3f5f\", \"gridcolor\": \"white\", \"linecolor\": \"white\", \"minorgridcolor\": \"white\", \"startlinecolor\": \"#2a3f5f\"}, \"type\": \"carpet\"}], \"choropleth\": [{\"colorbar\": {\"outlinewidth\": 0, \"ticks\": \"\"}, \"type\": \"choropleth\"}], \"contour\": [{\"colorbar\": {\"outlinewidth\": 0, \"ticks\": \"\"}, \"colorscale\": [[0.0, \"#0d0887\"], [0.1111111111111111, \"#46039f\"], [0.2222222222222222, \"#7201a8\"], [0.3333333333333333, \"#9c179e\"], [0.4444444444444444, \"#bd3786\"], [0.5555555555555556, \"#d8576b\"], [0.6666666666666666, \"#ed7953\"], [0.7777777777777778, \"#fb9f3a\"], [0.8888888888888888, \"#fdca26\"], [1.0, \"#f0f921\"]], \"type\": \"contour\"}], \"contourcarpet\": [{\"colorbar\": {\"outlinewidth\": 0, \"ticks\": \"\"}, \"type\": \"contourcarpet\"}], \"heatmap\": [{\"colorbar\": {\"outlinewidth\": 0, \"ticks\": \"\"}, \"colorscale\": [[0.0, \"#0d0887\"], [0.1111111111111111, \"#46039f\"], [0.2222222222222222, \"#7201a8\"], [0.3333333333333333, \"#9c179e\"], [0.4444444444444444, \"#bd3786\"], [0.5555555555555556, \"#d8576b\"], [0.6666666666666666, \"#ed7953\"], [0.7777777777777778, \"#fb9f3a\"], [0.8888888888888888, \"#fdca26\"], [1.0, \"#f0f921\"]], \"type\": \"heatmap\"}], \"heatmapgl\": [{\"colorbar\": {\"outlinewidth\": 0, \"ticks\": \"\"}, \"colorscale\": [[0.0, \"#0d0887\"], [0.1111111111111111, \"#46039f\"], [0.2222222222222222, \"#7201a8\"], [0.3333333333333333, \"#9c179e\"], [0.4444444444444444, \"#bd3786\"], [0.5555555555555556, \"#d8576b\"], [0.6666666666666666, \"#ed7953\"], [0.7777777777777778, \"#fb9f3a\"], [0.8888888888888888, \"#fdca26\"], [1.0, \"#f0f921\"]], \"type\": \"heatmapgl\"}], \"histogram\": [{\"marker\": {\"colorbar\": {\"outlinewidth\": 0, \"ticks\": \"\"}}, \"type\": \"histogram\"}], \"histogram2d\": [{\"colorbar\": {\"outlinewidth\": 0, \"ticks\": \"\"}, \"colorscale\": [[0.0, \"#0d0887\"], [0.1111111111111111, \"#46039f\"], [0.2222222222222222, \"#7201a8\"], [0.3333333333333333, \"#9c179e\"], [0.4444444444444444, \"#bd3786\"], [0.5555555555555556, \"#d8576b\"], [0.6666666666666666, \"#ed7953\"], [0.7777777777777778, \"#fb9f3a\"], [0.8888888888888888, \"#fdca26\"], [1.0, \"#f0f921\"]], \"type\": \"histogram2d\"}], \"histogram2dcontour\": [{\"colorbar\": {\"outlinewidth\": 0, \"ticks\": \"\"}, \"colorscale\": [[0.0, \"#0d0887\"], [0.1111111111111111, \"#46039f\"], [0.2222222222222222, \"#7201a8\"], [0.3333333333333333, \"#9c179e\"], [0.4444444444444444, \"#bd3786\"], [0.5555555555555556, \"#d8576b\"], [0.6666666666666666, \"#ed7953\"], [0.7777777777777778, \"#fb9f3a\"], [0.8888888888888888, \"#fdca26\"], [1.0, \"#f0f921\"]], \"type\": \"histogram2dcontour\"}], \"mesh3d\": [{\"colorbar\": {\"outlinewidth\": 0, \"ticks\": \"\"}, \"type\": \"mesh3d\"}], \"parcoords\": [{\"line\": {\"colorbar\": {\"outlinewidth\": 0, \"ticks\": \"\"}}, \"type\": \"parcoords\"}], \"pie\": [{\"automargin\": true, \"type\": \"pie\"}], \"scatter\": [{\"marker\": {\"colorbar\": {\"outlinewidth\": 0, \"ticks\": \"\"}}, \"type\": \"scatter\"}], \"scatter3d\": [{\"line\": {\"colorbar\": {\"outlinewidth\": 0, \"ticks\": \"\"}}, \"marker\": {\"colorbar\": {\"outlinewidth\": 0, \"ticks\": \"\"}}, \"type\": \"scatter3d\"}], \"scattercarpet\": [{\"marker\": {\"colorbar\": {\"outlinewidth\": 0, \"ticks\": \"\"}}, \"type\": \"scattercarpet\"}], \"scattergeo\": [{\"marker\": {\"colorbar\": {\"outlinewidth\": 0, \"ticks\": \"\"}}, \"type\": \"scattergeo\"}], \"scattergl\": [{\"marker\": {\"colorbar\": {\"outlinewidth\": 0, \"ticks\": \"\"}}, \"type\": \"scattergl\"}], \"scattermapbox\": [{\"marker\": {\"colorbar\": {\"outlinewidth\": 0, \"ticks\": \"\"}}, \"type\": \"scattermapbox\"}], \"scatterpolar\": [{\"marker\": {\"colorbar\": {\"outlinewidth\": 0, \"ticks\": \"\"}}, \"type\": \"scatterpolar\"}], \"scatterpolargl\": [{\"marker\": {\"colorbar\": {\"outlinewidth\": 0, \"ticks\": \"\"}}, \"type\": \"scatterpolargl\"}], \"scatterternary\": [{\"marker\": {\"colorbar\": {\"outlinewidth\": 0, \"ticks\": \"\"}}, \"type\": \"scatterternary\"}], \"surface\": [{\"colorbar\": {\"outlinewidth\": 0, \"ticks\": \"\"}, \"colorscale\": [[0.0, \"#0d0887\"], [0.1111111111111111, \"#46039f\"], [0.2222222222222222, \"#7201a8\"], [0.3333333333333333, \"#9c179e\"], [0.4444444444444444, \"#bd3786\"], [0.5555555555555556, \"#d8576b\"], [0.6666666666666666, \"#ed7953\"], [0.7777777777777778, \"#fb9f3a\"], [0.8888888888888888, \"#fdca26\"], [1.0, \"#f0f921\"]], \"type\": \"surface\"}], \"table\": [{\"cells\": {\"fill\": {\"color\": \"#EBF0F8\"}, \"line\": {\"color\": \"white\"}}, \"header\": {\"fill\": {\"color\": \"#C8D4E3\"}, \"line\": {\"color\": \"white\"}}, \"type\": \"table\"}]}, \"layout\": {\"annotationdefaults\": {\"arrowcolor\": \"#2a3f5f\", \"arrowhead\": 0, \"arrowwidth\": 1}, \"coloraxis\": {\"colorbar\": {\"outlinewidth\": 0, \"ticks\": \"\"}}, \"colorscale\": {\"diverging\": [[0, \"#8e0152\"], [0.1, \"#c51b7d\"], [0.2, \"#de77ae\"], [0.3, \"#f1b6da\"], [0.4, \"#fde0ef\"], [0.5, \"#f7f7f7\"], [0.6, \"#e6f5d0\"], [0.7, \"#b8e186\"], [0.8, \"#7fbc41\"], [0.9, \"#4d9221\"], [1, \"#276419\"]], \"sequential\": [[0.0, \"#0d0887\"], [0.1111111111111111, \"#46039f\"], [0.2222222222222222, \"#7201a8\"], [0.3333333333333333, \"#9c179e\"], [0.4444444444444444, \"#bd3786\"], [0.5555555555555556, \"#d8576b\"], [0.6666666666666666, \"#ed7953\"], [0.7777777777777778, \"#fb9f3a\"], [0.8888888888888888, \"#fdca26\"], [1.0, \"#f0f921\"]], \"sequentialminus\": [[0.0, \"#0d0887\"], [0.1111111111111111, \"#46039f\"], [0.2222222222222222, \"#7201a8\"], [0.3333333333333333, \"#9c179e\"], [0.4444444444444444, \"#bd3786\"], [0.5555555555555556, \"#d8576b\"], [0.6666666666666666, \"#ed7953\"], [0.7777777777777778, \"#fb9f3a\"], [0.8888888888888888, \"#fdca26\"], [1.0, \"#f0f921\"]]}, \"colorway\": [\"#636efa\", \"#EF553B\", \"#00cc96\", \"#ab63fa\", \"#FFA15A\", \"#19d3f3\", \"#FF6692\", \"#B6E880\", \"#FF97FF\", \"#FECB52\"], \"font\": {\"color\": \"#2a3f5f\"}, \"geo\": {\"bgcolor\": \"white\", \"lakecolor\": \"white\", \"landcolor\": \"#E5ECF6\", \"showlakes\": true, \"showland\": true, \"subunitcolor\": \"white\"}, \"hoverlabel\": {\"align\": \"left\"}, \"hovermode\": \"closest\", \"mapbox\": {\"style\": \"light\"}, \"paper_bgcolor\": \"white\", \"plot_bgcolor\": \"#E5ECF6\", \"polar\": {\"angularaxis\": {\"gridcolor\": \"white\", \"linecolor\": \"white\", \"ticks\": \"\"}, \"bgcolor\": \"#E5ECF6\", \"radialaxis\": {\"gridcolor\": \"white\", \"linecolor\": \"white\", \"ticks\": \"\"}}, \"scene\": {\"xaxis\": {\"backgroundcolor\": \"#E5ECF6\", \"gridcolor\": \"white\", \"gridwidth\": 2, \"linecolor\": \"white\", \"showbackground\": true, \"ticks\": \"\", \"zerolinecolor\": \"white\"}, \"yaxis\": {\"backgroundcolor\": \"#E5ECF6\", \"gridcolor\": \"white\", \"gridwidth\": 2, \"linecolor\": \"white\", \"showbackground\": true, \"ticks\": \"\", \"zerolinecolor\": \"white\"}, \"zaxis\": {\"backgroundcolor\": \"#E5ECF6\", \"gridcolor\": \"white\", \"gridwidth\": 2, \"linecolor\": \"white\", \"showbackground\": true, \"ticks\": \"\", \"zerolinecolor\": \"white\"}}, \"shapedefaults\": {\"line\": {\"color\": \"#2a3f5f\"}}, \"ternary\": {\"aaxis\": {\"gridcolor\": \"white\", \"linecolor\": \"white\", \"ticks\": \"\"}, \"baxis\": {\"gridcolor\": \"white\", \"linecolor\": \"white\", \"ticks\": \"\"}, \"bgcolor\": \"#E5ECF6\", \"caxis\": {\"gridcolor\": \"white\", \"linecolor\": \"white\", \"ticks\": \"\"}}, \"title\": {\"x\": 0.05}, \"xaxis\": {\"automargin\": true, \"gridcolor\": \"white\", \"linecolor\": \"white\", \"ticks\": \"\", \"title\": {\"standoff\": 15}, \"zerolinecolor\": \"white\", \"zerolinewidth\": 2}, \"yaxis\": {\"automargin\": true, \"gridcolor\": \"white\", \"linecolor\": \"white\", \"ticks\": \"\", \"title\": {\"standoff\": 15}, \"zerolinecolor\": \"white\", \"zerolinewidth\": 2}}}, \"title\": {\"text\": \"In Terms Of Rank And Popularity TOP 50 Animes\"}, \"width\": 900, \"xaxis\": {\"title\": {\"text\": \"Rank\"}}, \"yaxis\": {\"title\": {\"text\": \"Popularity\"}}},\n",
       "                        {\"responsive\": true}\n",
       "                    ).then(function(){\n",
       "                            \n",
       "var gd = document.getElementById('883e9c33-bed6-4d20-b319-e80118ff5239');\n",
       "var x = new MutationObserver(function (mutations, observer) {{\n",
       "        var display = window.getComputedStyle(gd).display;\n",
       "        if (!display || display === 'none') {{\n",
       "            console.log([gd, 'removed!']);\n",
       "            Plotly.purge(gd);\n",
       "            observer.disconnect();\n",
       "        }}\n",
       "}});\n",
       "\n",
       "// Listen for the removal of the full notebook cells\n",
       "var notebookContainer = gd.closest('#notebook-container');\n",
       "if (notebookContainer) {{\n",
       "    x.observe(notebookContainer, {childList: true});\n",
       "}}\n",
       "\n",
       "// Listen for the clearing of the current output cell\n",
       "var outputEl = gd.closest('.output');\n",
       "if (outputEl) {{\n",
       "    x.observe(outputEl, {childList: true});\n",
       "}}\n",
       "\n",
       "                        })\n",
       "                };\n",
       "                });\n",
       "            </script>\n",
       "        </div>"
      ]
     },
     "metadata": {},
     "output_type": "display_data"
    }
   ],
   "source": [
    "data = [\n",
    "    {\n",
    "        'y':popularity_and_rank_50[\"popularity\"],\n",
    "        'x': popularity_and_rank_50[\"rank\"],\n",
    "        'mode': 'markers',\n",
    "        'marker': {\n",
    "            'color': popularity_and_rank_50[\"popularity\"],\n",
    "            'size':  popularity_and_rank_50[\"point\"],\n",
    "            'showscale': True,\n",
    "            'sizemin':4,\n",
    "        },\n",
    "        \"text\" :  popularity_and_rank_50[\"title\"]\n",
    "    }\n",
    "]\n",
    "\n",
    "layout = go.Layout(title='In Terms Of Rank And Popularity TOP 50 Animes',\n",
    "                   xaxis=dict(title='Rank'),\n",
    "                   yaxis=dict( title='Popularity'),\n",
    "                   autosize=False,\n",
    "                   width=900,\n",
    "                   height=800\n",
    ")\n",
    "\n",
    "fig = go.Figure(data=data, layout=layout)\n",
    "iplot(fig)"
   ]
  },
  {
   "cell_type": "code",
   "execution_count": 32,
   "metadata": {},
   "outputs": [
    {
     "data": {
      "text/html": [
       "<div>\n",
       "<style scoped>\n",
       "    .dataframe tbody tr th:only-of-type {\n",
       "        vertical-align: middle;\n",
       "    }\n",
       "\n",
       "    .dataframe tbody tr th {\n",
       "        vertical-align: top;\n",
       "    }\n",
       "\n",
       "    .dataframe thead th {\n",
       "        text-align: right;\n",
       "    }\n",
       "</style>\n",
       "<table border=\"1\" class=\"dataframe\">\n",
       "  <thead>\n",
       "    <tr style=\"text-align: right;\">\n",
       "      <th></th>\n",
       "      <th>title</th>\n",
       "      <th>popularity</th>\n",
       "      <th>rank</th>\n",
       "    </tr>\n",
       "  </thead>\n",
       "  <tbody>\n",
       "    <tr>\n",
       "      <td>3802</td>\n",
       "      <td>Death Note</td>\n",
       "      <td>1</td>\n",
       "      <td>51.0</td>\n",
       "    </tr>\n",
       "    <tr>\n",
       "      <td>3897</td>\n",
       "      <td>Shingeki no Kyojin</td>\n",
       "      <td>2</td>\n",
       "      <td>110.0</td>\n",
       "    </tr>\n",
       "    <tr>\n",
       "      <td>3009</td>\n",
       "      <td>Sword Art Online</td>\n",
       "      <td>3</td>\n",
       "      <td>1259.0</td>\n",
       "    </tr>\n",
       "    <tr>\n",
       "      <td>1261</td>\n",
       "      <td>Fullmetal Alchemist: Brotherhood</td>\n",
       "      <td>4</td>\n",
       "      <td>1.0</td>\n",
       "    </tr>\n",
       "    <tr>\n",
       "      <td>4215</td>\n",
       "      <td>One Punch Man</td>\n",
       "      <td>5</td>\n",
       "      <td>44.0</td>\n",
       "    </tr>\n",
       "  </tbody>\n",
       "</table>\n",
       "</div>"
      ],
      "text/plain": [
       "                                 title  popularity    rank\n",
       "3802                        Death Note           1    51.0\n",
       "3897                Shingeki no Kyojin           2   110.0\n",
       "3009                  Sword Art Online           3  1259.0\n",
       "1261  Fullmetal Alchemist: Brotherhood           4     1.0\n",
       "4215                     One Punch Man           5    44.0"
      ]
     },
     "execution_count": 32,
     "metadata": {},
     "output_type": "execute_result"
    }
   ],
   "source": [
    "anime_sorted_by_pop = df_anime[df_anime.popularity!=0].sort_values(by='popularity').head(100).loc[:,['title','popularity','rank']]\n",
    "anime_sorted_by_pop.head()\n",
    "\n"
   ]
  },
  {
   "cell_type": "markdown",
   "metadata": {},
   "source": [
    "2.B. The Most Popular Genres In The Anime Industry (With Multi-label Tags) (Bar Plots, Pie Chart, WordCloud)"
   ]
  },
  {
   "cell_type": "code",
   "execution_count": 33,
   "metadata": {},
   "outputs": [
    {
     "data": {
      "text/plain": [
       "0      Comedy, Supernatural, Romance, Shounen\n",
       "1    Comedy, Parody, Romance, School, Shounen\n",
       "2               Comedy, Magic, School, Shoujo\n",
       "3      Comedy, Drama, Magic, Romance, Fantasy\n",
       "4             Comedy, Drama, Romance, Shounen\n",
       "Name: genre, dtype: object"
      ]
     },
     "execution_count": 33,
     "metadata": {},
     "output_type": "execute_result"
    }
   ],
   "source": [
    "anime_genre = anime.genre\n",
    "anime_genre.head()"
   ]
  },
  {
   "cell_type": "code",
   "execution_count": 71,
   "metadata": {},
   "outputs": [
    {
     "data": {
      "text/plain": [
       "['Comedy',\n",
       " 'Supernatural',\n",
       " 'Romance',\n",
       " 'Shounen',\n",
       " 'Comedy',\n",
       " 'Parody',\n",
       " 'Romance',\n",
       " 'School',\n",
       " 'Shounen',\n",
       " 'Comedy',\n",
       " 'Magic',\n",
       " 'School',\n",
       " 'Shoujo',\n",
       " 'Comedy',\n",
       " 'Drama']"
      ]
     },
     "execution_count": 71,
     "metadata": {},
     "output_type": "execute_result"
    }
   ],
   "source": [
    "genre_list = []\n",
    "\n",
    "genre_splited = []\n",
    "\n",
    "for i in anime_genre.index:\n",
    "    for j in anime_genre[i].split(\", \"):\n",
    "        genre_splited.append(j)\n",
    "        if j not in genre_list:\n",
    "            genre_list.append(j)     \n",
    "genre_splited[0:15]\n"
   ]
  },
  {
   "cell_type": "code",
   "execution_count": 35,
   "metadata": {},
   "outputs": [
    {
     "data": {
      "image/png": "[encoded data removed]",
      "text/plain": [
       "<Figure size 1440x720 with 1 Axes>"
      ]
     },
     "metadata": {
      "needs_background": "light"
     },
     "output_type": "display_data"
    }
   ],
   "source": [
    "anime_genres_count = pd.Series(genre_splited).value_counts() \n",
    "\n",
    "plt.figure(figsize=(20,10))\n",
    "sns.barplot(x=anime_genres_count.index.tolist(), y=anime_genres_count.tolist())\n",
    "plt.xlabel('Genres')\n",
    "plt.ylabel('Anime Count')\n",
    "plt.title('The Most Popular Genres In The Anime Industry (Regarded all Multi-label Genre Tags)') \n",
    "plt.xticks(rotation= 75) \n",
    "plt.show()"
   ]
  },
  {
   "cell_type": "code",
   "execution_count": 122,
   "metadata": {},
   "outputs": [],
   "source": [
    "##In the second chart, i counted first tags from multilabels, and singular tags. In this chart each anime has one genre.\n",
    "\n",
    "#genre_firsts = []\n",
    "\n",
    "#for i in anime_genre.index:\n",
    "    #genre_firsts.append(anime_genre[i].split(\", \")[0])\n",
    "    \n",
    "\n",
    "#anime_genres_firsts = pd.Series(genre_firsts).value_counts()   \n",
    "\n",
    "#plt.figure(figsize=(10,12))\n",
    "#sns.barplot(x=anime_genres_firsts[0:25].tolist(), y=anime_genres_firsts[0:25].index.tolist())\n",
    "#plt.xlabel('Anime Count')\n",
    "#plt.ylabel('Genres')\n",
    "#plt.title('25 Of The Most Popular Genres In The Anime Industry (Considered First Genre Tag)') \n",
    "#plt.show()"
   ]
  },
  {
   "cell_type": "code",
   "execution_count": 64,
   "metadata": {},
   "outputs": [
    {
     "data": {
      "application/vnd.plotly.v1+json": {
       "config": {
        "linkText": "Export to plot.ly",
        "plotlyServerURL": "https://plot.ly",
        "showLink": false
       },
       "data": [
        {
         "domain": {
          "x": [
           0,
           0.8
          ]
         },
         "hole": 0.4,
         "hoverinfo": "label+percent+name",
         "labels": [
          "Shounen",
          "Action",
          "Romance",
          "School",
          "Fantasy",
          "Adventure",
          "Slice of Life",
          "Sci-Fi",
          "Drama",
          "Ecchi"
         ],
         "name": "Number Of Students Rates",
         "type": "pie",
         "values": [
          717,
          676,
          646,
          635,
          596,
          593,
          571,
          449,
          399,
          364
         ]
        }
       ],
       "layout": {
        "template": {
         "data": {
          "bar": [
           {
            "error_x": {
             "color": "#2a3f5f"
            },
            "error_y": {
             "color": "#2a3f5f"
            },
            "marker": {
             "line": {
              "color": "#E5ECF6",
              "width": 0.5
             }
            },
            "type": "bar"
           }
          ],
          "barpolar": [
           {
            "marker": {
             "line": {
              "color": "#E5ECF6",
              "width": 0.5
             }
            },
            "type": "barpolar"
           }
          ],
          "carpet": [
           {
            "aaxis": {
             "endlinecolor": "#2a3f5f",
             "gridcolor": "white",
             "linecolor": "white",
             "minorgridcolor": "white",
             "startlinecolor": "#2a3f5f"
            },
            "baxis": {
             "endlinecolor": "#2a3f5f",
             "gridcolor": "white",
             "linecolor": "white",
             "minorgridcolor": "white",
             "startlinecolor": "#2a3f5f"
            },
            "type": "carpet"
           }
          ],
          "choropleth": [
           {
            "colorbar": {
             "outlinewidth": 0,
             "ticks": ""
            },
            "type": "choropleth"
           }
          ],
          "contour": [
           {
            "colorbar": {
             "outlinewidth": 0,
             "ticks": ""
            },
            "colorscale": [
             [
              0,
              "#0d0887"
             ],
             [
              0.1111111111111111,
              "#46039f"
             ],
             [
              0.2222222222222222,
              "#7201a8"
             ],
             [
              0.3333333333333333,
              "#9c179e"
             ],
             [
              0.4444444444444444,
              "#bd3786"
             ],
             [
              0.5555555555555556,
              "#d8576b"
             ],
             [
              0.6666666666666666,
              "#ed7953"
             ],
             [
              0.7777777777777778,
              "#fb9f3a"
             ],
             [
              0.8888888888888888,
              "#fdca26"
             ],
             [
              1,
              "#f0f921"
             ]
            ],
            "type": "contour"
           }
          ],
          "contourcarpet": [
           {
            "colorbar": {
             "outlinewidth": 0,
             "ticks": ""
            },
            "type": "contourcarpet"
           }
          ],
          "heatmap": [
           {
            "colorbar": {
             "outlinewidth": 0,
             "ticks": ""
            },
            "colorscale": [
             [
              0,
              "#0d0887"
             ],
             [
              0.1111111111111111,
              "#46039f"
             ],
             [
              0.2222222222222222,
              "#7201a8"
             ],
             [
              0.3333333333333333,
              "#9c179e"
             ],
             [
              0.4444444444444444,
              "#bd3786"
             ],
             [
              0.5555555555555556,
              "#d8576b"
             ],
             [
              0.6666666666666666,
              "#ed7953"
             ],
             [
              0.7777777777777778,
              "#fb9f3a"
             ],
             [
              0.8888888888888888,
              "#fdca26"
             ],
             [
              1,
              "#f0f921"
             ]
            ],
            "type": "heatmap"
           }
          ],
          "heatmapgl": [
           {
            "colorbar": {
             "outlinewidth": 0,
             "ticks": ""
            },
            "colorscale": [
             [
              0,
              "#0d0887"
             ],
             [
              0.1111111111111111,
              "#46039f"
             ],
             [
              0.2222222222222222,
              "#7201a8"
             ],
             [
              0.3333333333333333,
              "#9c179e"
             ],
             [
              0.4444444444444444,
              "#bd3786"
             ],
             [
              0.5555555555555556,
              "#d8576b"
             ],
             [
              0.6666666666666666,
              "#ed7953"
             ],
             [
              0.7777777777777778,
              "#fb9f3a"
             ],
             [
              0.8888888888888888,
              "#fdca26"
             ],
             [
              1,
              "#f0f921"
             ]
            ],
            "type": "heatmapgl"
           }
          ],
          "histogram": [
           {
            "marker": {
             "colorbar": {
              "outlinewidth": 0,
              "ticks": ""
             }
            },
            "type": "histogram"
           }
          ],
          "histogram2d": [
           {
            "colorbar": {
             "outlinewidth": 0,
             "ticks": ""
            },
            "colorscale": [
             [
              0,
              "#0d0887"
             ],
             [
              0.1111111111111111,
              "#46039f"
             ],
             [
              0.2222222222222222,
              "#7201a8"
             ],
             [
              0.3333333333333333,
              "#9c179e"
             ],
             [
              0.4444444444444444,
              "#bd3786"
             ],
             [
              0.5555555555555556,
              "#d8576b"
             ],
             [
              0.6666666666666666,
              "#ed7953"
             ],
             [
              0.7777777777777778,
              "#fb9f3a"
             ],
             [
              0.8888888888888888,
              "#fdca26"
             ],
             [
              1,
              "#f0f921"
             ]
            ],
            "type": "histogram2d"
           }
          ],
          "histogram2dcontour": [
           {
            "colorbar": {
             "outlinewidth": 0,
             "ticks": ""
            },
            "colorscale": [
             [
              0,
              "#0d0887"
             ],
             [
              0.1111111111111111,
              "#46039f"
             ],
             [
              0.2222222222222222,
              "#7201a8"
             ],
             [
              0.3333333333333333,
              "#9c179e"
             ],
             [
              0.4444444444444444,
              "#bd3786"
             ],
             [
              0.5555555555555556,
              "#d8576b"
             ],
             [
              0.6666666666666666,
              "#ed7953"
             ],
             [
              0.7777777777777778,
              "#fb9f3a"
             ],
             [
              0.8888888888888888,
              "#fdca26"
             ],
             [
              1,
              "#f0f921"
             ]
            ],
            "type": "histogram2dcontour"
           }
          ],
          "mesh3d": [
           {
            "colorbar": {
             "outlinewidth": 0,
             "ticks": ""
            },
            "type": "mesh3d"
           }
          ],
          "parcoords": [
           {
            "line": {
             "colorbar": {
              "outlinewidth": 0,
              "ticks": ""
             }
            },
            "type": "parcoords"
           }
          ],
          "pie": [
           {
            "automargin": true,
            "type": "pie"
           }
          ],
          "scatter": [
           {
            "marker": {
             "colorbar": {
              "outlinewidth": 0,
              "ticks": ""
             }
            },
            "type": "scatter"
           }
          ],
          "scatter3d": [
           {
            "line": {
             "colorbar": {
              "outlinewidth": 0,
              "ticks": ""
             }
            },
            "marker": {
             "colorbar": {
              "outlinewidth": 0,
              "ticks": ""
             }
            },
            "type": "scatter3d"
           }
          ],
          "scattercarpet": [
           {
            "marker": {
             "colorbar": {
              "outlinewidth": 0,
              "ticks": ""
             }
            },
            "type": "scattercarpet"
           }
          ],
          "scattergeo": [
           {
            "marker": {
             "colorbar": {
              "outlinewidth": 0,
              "ticks": ""
             }
            },
            "type": "scattergeo"
           }
          ],
          "scattergl": [
           {
            "marker": {
             "colorbar": {
              "outlinewidth": 0,
              "ticks": ""
             }
            },
            "type": "scattergl"
           }
          ],
          "scattermapbox": [
           {
            "marker": {
             "colorbar": {
              "outlinewidth": 0,
              "ticks": ""
             }
            },
            "type": "scattermapbox"
           }
          ],
          "scatterpolar": [
           {
            "marker": {
             "colorbar": {
              "outlinewidth": 0,
              "ticks": ""
             }
            },
            "type": "scatterpolar"
           }
          ],
          "scatterpolargl": [
           {
            "marker": {
             "colorbar": {
              "outlinewidth": 0,
              "ticks": ""
             }
            },
            "type": "scatterpolargl"
           }
          ],
          "scatterternary": [
           {
            "marker": {
             "colorbar": {
              "outlinewidth": 0,
              "ticks": ""
             }
            },
            "type": "scatterternary"
           }
          ],
          "surface": [
           {
            "colorbar": {
             "outlinewidth": 0,
             "ticks": ""
            },
            "colorscale": [
             [
              0,
              "#0d0887"
             ],
             [
              0.1111111111111111,
              "#46039f"
             ],
             [
              0.2222222222222222,
              "#7201a8"
             ],
             [
              0.3333333333333333,
              "#9c179e"
             ],
             [
              0.4444444444444444,
              "#bd3786"
             ],
             [
              0.5555555555555556,
              "#d8576b"
             ],
             [
              0.6666666666666666,
              "#ed7953"
             ],
             [
              0.7777777777777778,
              "#fb9f3a"
             ],
             [
              0.8888888888888888,
              "#fdca26"
             ],
             [
              1,
              "#f0f921"
             ]
            ],
            "type": "surface"
           }
          ],
          "table": [
           {
            "cells": {
             "fill": {
              "color": "#EBF0F8"
             },
             "line": {
              "color": "white"
             }
            },
            "header": {
             "fill": {
              "color": "#C8D4E3"
             },
             "line": {
              "color": "white"
             }
            },
            "type": "table"
           }
          ]
         },
         "layout": {
          "annotationdefaults": {
           "arrowcolor": "#2a3f5f",
           "arrowhead": 0,
           "arrowwidth": 1
          },
          "coloraxis": {
           "colorbar": {
            "outlinewidth": 0,
            "ticks": ""
           }
          },
          "colorscale": {
           "diverging": [
            [
             0,
             "#8e0152"
            ],
            [
             0.1,
             "#c51b7d"
            ],
            [
             0.2,
             "#de77ae"
            ],
            [
             0.3,
             "#f1b6da"
            ],
            [
             0.4,
             "#fde0ef"
            ],
            [
             0.5,
             "#f7f7f7"
            ],
            [
             0.6,
             "#e6f5d0"
            ],
            [
             0.7,
             "#b8e186"
            ],
            [
             0.8,
             "#7fbc41"
            ],
            [
             0.9,
             "#4d9221"
            ],
            [
             1,
             "#276419"
            ]
           ],
           "sequential": [
            [
             0,
             "#0d0887"
            ],
            [
             0.1111111111111111,
             "#46039f"
            ],
            [
             0.2222222222222222,
             "#7201a8"
            ],
            [
             0.3333333333333333,
             "#9c179e"
            ],
            [
             0.4444444444444444,
             "#bd3786"
            ],
            [
             0.5555555555555556,
             "#d8576b"
            ],
            [
             0.6666666666666666,
             "#ed7953"
            ],
            [
             0.7777777777777778,
             "#fb9f3a"
            ],
            [
             0.8888888888888888,
             "#fdca26"
            ],
            [
             1,
             "#f0f921"
            ]
           ],
           "sequentialminus": [
            [
             0,
             "#0d0887"
            ],
            [
             0.1111111111111111,
             "#46039f"
            ],
            [
             0.2222222222222222,
             "#7201a8"
            ],
            [
             0.3333333333333333,
             "#9c179e"
            ],
            [
             0.4444444444444444,
             "#bd3786"
            ],
            [
             0.5555555555555556,
             "#d8576b"
            ],
            [
             0.6666666666666666,
             "#ed7953"
            ],
            [
             0.7777777777777778,
             "#fb9f3a"
            ],
            [
             0.8888888888888888,
             "#fdca26"
            ],
            [
             1,
             "#f0f921"
            ]
           ]
          },
          "colorway": [
           "#636efa",
           "#EF553B",
           "#00cc96",
           "#ab63fa",
           "#FFA15A",
           "#19d3f3",
           "#FF6692",
           "#B6E880",
           "#FF97FF",
           "#FECB52"
          ],
          "font": {
           "color": "#2a3f5f"
          },
          "geo": {
           "bgcolor": "white",
           "lakecolor": "white",
           "landcolor": "#E5ECF6",
           "showlakes": true,
           "showland": true,
           "subunitcolor": "white"
          },
          "hoverlabel": {
           "align": "left"
          },
          "hovermode": "closest",
          "mapbox": {
           "style": "light"
          },
          "paper_bgcolor": "white",
          "plot_bgcolor": "#E5ECF6",
          "polar": {
           "angularaxis": {
            "gridcolor": "white",
            "linecolor": "white",
            "ticks": ""
           },
           "bgcolor": "#E5ECF6",
           "radialaxis": {
            "gridcolor": "white",
            "linecolor": "white",
            "ticks": ""
           }
          },
          "scene": {
           "xaxis": {
            "backgroundcolor": "#E5ECF6",
            "gridcolor": "white",
            "gridwidth": 2,
            "linecolor": "white",
            "showbackground": true,
            "ticks": "",
            "zerolinecolor": "white"
           },
           "yaxis": {
            "backgroundcolor": "#E5ECF6",
            "gridcolor": "white",
            "gridwidth": 2,
            "linecolor": "white",
            "showbackground": true,
            "ticks": "",
            "zerolinecolor": "white"
           },
           "zaxis": {
            "backgroundcolor": "#E5ECF6",
            "gridcolor": "white",
            "gridwidth": 2,
            "linecolor": "white",
            "showbackground": true,
            "ticks": "",
            "zerolinecolor": "white"
           }
          },
          "shapedefaults": {
           "line": {
            "color": "#2a3f5f"
           }
          },
          "ternary": {
           "aaxis": {
            "gridcolor": "white",
            "linecolor": "white",
            "ticks": ""
           },
           "baxis": {
            "gridcolor": "white",
            "linecolor": "white",
            "ticks": ""
           },
           "bgcolor": "#E5ECF6",
           "caxis": {
            "gridcolor": "white",
            "linecolor": "white",
            "ticks": ""
           }
          },
          "title": {
           "x": 0.05
          },
          "xaxis": {
           "automargin": true,
           "gridcolor": "white",
           "linecolor": "white",
           "ticks": "",
           "title": {
            "standoff": 15
           },
           "zerolinecolor": "white",
           "zerolinewidth": 2
          },
          "yaxis": {
           "automargin": true,
           "gridcolor": "white",
           "linecolor": "white",
           "ticks": "",
           "title": {
            "standoff": 15
           },
           "zerolinecolor": "white",
           "zerolinewidth": 2
          }
         }
        },
        "title": {
         "text": "Top 10 Multi-label Tags With Comedy"
        }
       }
      },
      "text/html": [
       "<div>\n",
       "        \n",
       "        \n",
       "            <div id=\"b6c8a2ee-1908-4cb0-96f2-205432b44ec6\" class=\"plotly-graph-div\" style=\"height:525px; width:100%;\"></div>\n",
       "            <script type=\"text/javascript\">\n",
       "                require([\"plotly\"], function(Plotly) {\n",
       "                    window.PLOTLYENV=window.PLOTLYENV || {};\n",
       "                    \n",
       "                if (document.getElementById(\"b6c8a2ee-1908-4cb0-96f2-205432b44ec6\")) {\n",
       "                    Plotly.newPlot(\n",
       "                        'b6c8a2ee-1908-4cb0-96f2-205432b44ec6',\n",
       "                        [{\"domain\": {\"x\": [0, 0.8]}, \"hole\": 0.4, \"hoverinfo\": \"label+percent+name\", \"labels\": [\"Shounen\", \"Action\", \"Romance\", \"School\", \"Fantasy\", \"Adventure\", \"Slice of Life\", \"Sci-Fi\", \"Drama\", \"Ecchi\"], \"name\": \"Number Of Students Rates\", \"type\": \"pie\", \"values\": [717, 676, 646, 635, 596, 593, 571, 449, 399, 364]}],\n",
       "                        {\"template\": {\"data\": {\"bar\": [{\"error_x\": {\"color\": \"#2a3f5f\"}, \"error_y\": {\"color\": \"#2a3f5f\"}, \"marker\": {\"line\": {\"color\": \"#E5ECF6\", \"width\": 0.5}}, \"type\": \"bar\"}], \"barpolar\": [{\"marker\": {\"line\": {\"color\": \"#E5ECF6\", \"width\": 0.5}}, \"type\": \"barpolar\"}], \"carpet\": [{\"aaxis\": {\"endlinecolor\": \"#2a3f5f\", \"gridcolor\": \"white\", \"linecolor\": \"white\", \"minorgridcolor\": \"white\", \"startlinecolor\": \"#2a3f5f\"}, \"baxis\": {\"endlinecolor\": \"#2a3f5f\", \"gridcolor\": \"white\", \"linecolor\": \"white\", \"minorgridcolor\": \"white\", \"startlinecolor\": \"#2a3f5f\"}, \"type\": \"carpet\"}], \"choropleth\": [{\"colorbar\": {\"outlinewidth\": 0, \"ticks\": \"\"}, \"type\": \"choropleth\"}], \"contour\": [{\"colorbar\": {\"outlinewidth\": 0, \"ticks\": \"\"}, \"colorscale\": [[0.0, \"#0d0887\"], [0.1111111111111111, \"#46039f\"], [0.2222222222222222, \"#7201a8\"], [0.3333333333333333, \"#9c179e\"], [0.4444444444444444, \"#bd3786\"], [0.5555555555555556, \"#d8576b\"], [0.6666666666666666, \"#ed7953\"], [0.7777777777777778, \"#fb9f3a\"], [0.8888888888888888, \"#fdca26\"], [1.0, \"#f0f921\"]], \"type\": \"contour\"}], \"contourcarpet\": [{\"colorbar\": {\"outlinewidth\": 0, \"ticks\": \"\"}, \"type\": \"contourcarpet\"}], \"heatmap\": [{\"colorbar\": {\"outlinewidth\": 0, \"ticks\": \"\"}, \"colorscale\": [[0.0, \"#0d0887\"], [0.1111111111111111, \"#46039f\"], [0.2222222222222222, \"#7201a8\"], [0.3333333333333333, \"#9c179e\"], [0.4444444444444444, \"#bd3786\"], [0.5555555555555556, \"#d8576b\"], [0.6666666666666666, \"#ed7953\"], [0.7777777777777778, \"#fb9f3a\"], [0.8888888888888888, \"#fdca26\"], [1.0, \"#f0f921\"]], \"type\": \"heatmap\"}], \"heatmapgl\": [{\"colorbar\": {\"outlinewidth\": 0, \"ticks\": \"\"}, \"colorscale\": [[0.0, \"#0d0887\"], [0.1111111111111111, \"#46039f\"], [0.2222222222222222, \"#7201a8\"], [0.3333333333333333, \"#9c179e\"], [0.4444444444444444, \"#bd3786\"], [0.5555555555555556, \"#d8576b\"], [0.6666666666666666, \"#ed7953\"], [0.7777777777777778, \"#fb9f3a\"], [0.8888888888888888, \"#fdca26\"], [1.0, \"#f0f921\"]], \"type\": \"heatmapgl\"}], \"histogram\": [{\"marker\": {\"colorbar\": {\"outlinewidth\": 0, \"ticks\": \"\"}}, \"type\": \"histogram\"}], \"histogram2d\": [{\"colorbar\": {\"outlinewidth\": 0, \"ticks\": \"\"}, \"colorscale\": [[0.0, \"#0d0887\"], [0.1111111111111111, \"#46039f\"], [0.2222222222222222, \"#7201a8\"], [0.3333333333333333, \"#9c179e\"], [0.4444444444444444, \"#bd3786\"], [0.5555555555555556, \"#d8576b\"], [0.6666666666666666, \"#ed7953\"], [0.7777777777777778, \"#fb9f3a\"], [0.8888888888888888, \"#fdca26\"], [1.0, \"#f0f921\"]], \"type\": \"histogram2d\"}], \"histogram2dcontour\": [{\"colorbar\": {\"outlinewidth\": 0, \"ticks\": \"\"}, \"colorscale\": [[0.0, \"#0d0887\"], [0.1111111111111111, \"#46039f\"], [0.2222222222222222, \"#7201a8\"], [0.3333333333333333, \"#9c179e\"], [0.4444444444444444, \"#bd3786\"], [0.5555555555555556, \"#d8576b\"], [0.6666666666666666, \"#ed7953\"], [0.7777777777777778, \"#fb9f3a\"], [0.8888888888888888, \"#fdca26\"], [1.0, \"#f0f921\"]], \"type\": \"histogram2dcontour\"}], \"mesh3d\": [{\"colorbar\": {\"outlinewidth\": 0, \"ticks\": \"\"}, \"type\": \"mesh3d\"}], \"parcoords\": [{\"line\": {\"colorbar\": {\"outlinewidth\": 0, \"ticks\": \"\"}}, \"type\": \"parcoords\"}], \"pie\": [{\"automargin\": true, \"type\": \"pie\"}], \"scatter\": [{\"marker\": {\"colorbar\": {\"outlinewidth\": 0, \"ticks\": \"\"}}, \"type\": \"scatter\"}], \"scatter3d\": [{\"line\": {\"colorbar\": {\"outlinewidth\": 0, \"ticks\": \"\"}}, \"marker\": {\"colorbar\": {\"outlinewidth\": 0, \"ticks\": \"\"}}, \"type\": \"scatter3d\"}], \"scattercarpet\": [{\"marker\": {\"colorbar\": {\"outlinewidth\": 0, \"ticks\": \"\"}}, \"type\": \"scattercarpet\"}], \"scattergeo\": [{\"marker\": {\"colorbar\": {\"outlinewidth\": 0, \"ticks\": \"\"}}, \"type\": \"scattergeo\"}], \"scattergl\": [{\"marker\": {\"colorbar\": {\"outlinewidth\": 0, \"ticks\": \"\"}}, \"type\": \"scattergl\"}], \"scattermapbox\": [{\"marker\": {\"colorbar\": {\"outlinewidth\": 0, \"ticks\": \"\"}}, \"type\": \"scattermapbox\"}], \"scatterpolar\": [{\"marker\": {\"colorbar\": {\"outlinewidth\": 0, \"ticks\": \"\"}}, \"type\": \"scatterpolar\"}], \"scatterpolargl\": [{\"marker\": {\"colorbar\": {\"outlinewidth\": 0, \"ticks\": \"\"}}, \"type\": \"scatterpolargl\"}], \"scatterternary\": [{\"marker\": {\"colorbar\": {\"outlinewidth\": 0, \"ticks\": \"\"}}, \"type\": \"scatterternary\"}], \"surface\": [{\"colorbar\": {\"outlinewidth\": 0, \"ticks\": \"\"}, \"colorscale\": [[0.0, \"#0d0887\"], [0.1111111111111111, \"#46039f\"], [0.2222222222222222, \"#7201a8\"], [0.3333333333333333, \"#9c179e\"], [0.4444444444444444, \"#bd3786\"], [0.5555555555555556, \"#d8576b\"], [0.6666666666666666, \"#ed7953\"], [0.7777777777777778, \"#fb9f3a\"], [0.8888888888888888, \"#fdca26\"], [1.0, \"#f0f921\"]], \"type\": \"surface\"}], \"table\": [{\"cells\": {\"fill\": {\"color\": \"#EBF0F8\"}, \"line\": {\"color\": \"white\"}}, \"header\": {\"fill\": {\"color\": \"#C8D4E3\"}, \"line\": {\"color\": \"white\"}}, \"type\": \"table\"}]}, \"layout\": {\"annotationdefaults\": {\"arrowcolor\": \"#2a3f5f\", \"arrowhead\": 0, \"arrowwidth\": 1}, \"coloraxis\": {\"colorbar\": {\"outlinewidth\": 0, \"ticks\": \"\"}}, \"colorscale\": {\"diverging\": [[0, \"#8e0152\"], [0.1, \"#c51b7d\"], [0.2, \"#de77ae\"], [0.3, \"#f1b6da\"], [0.4, \"#fde0ef\"], [0.5, \"#f7f7f7\"], [0.6, \"#e6f5d0\"], [0.7, \"#b8e186\"], [0.8, \"#7fbc41\"], [0.9, \"#4d9221\"], [1, \"#276419\"]], \"sequential\": [[0.0, \"#0d0887\"], [0.1111111111111111, \"#46039f\"], [0.2222222222222222, \"#7201a8\"], [0.3333333333333333, \"#9c179e\"], [0.4444444444444444, \"#bd3786\"], [0.5555555555555556, \"#d8576b\"], [0.6666666666666666, \"#ed7953\"], [0.7777777777777778, \"#fb9f3a\"], [0.8888888888888888, \"#fdca26\"], [1.0, \"#f0f921\"]], \"sequentialminus\": [[0.0, \"#0d0887\"], [0.1111111111111111, \"#46039f\"], [0.2222222222222222, \"#7201a8\"], [0.3333333333333333, \"#9c179e\"], [0.4444444444444444, \"#bd3786\"], [0.5555555555555556, \"#d8576b\"], [0.6666666666666666, \"#ed7953\"], [0.7777777777777778, \"#fb9f3a\"], [0.8888888888888888, \"#fdca26\"], [1.0, \"#f0f921\"]]}, \"colorway\": [\"#636efa\", \"#EF553B\", \"#00cc96\", \"#ab63fa\", \"#FFA15A\", \"#19d3f3\", \"#FF6692\", \"#B6E880\", \"#FF97FF\", \"#FECB52\"], \"font\": {\"color\": \"#2a3f5f\"}, \"geo\": {\"bgcolor\": \"white\", \"lakecolor\": \"white\", \"landcolor\": \"#E5ECF6\", \"showlakes\": true, \"showland\": true, \"subunitcolor\": \"white\"}, \"hoverlabel\": {\"align\": \"left\"}, \"hovermode\": \"closest\", \"mapbox\": {\"style\": \"light\"}, \"paper_bgcolor\": \"white\", \"plot_bgcolor\": \"#E5ECF6\", \"polar\": {\"angularaxis\": {\"gridcolor\": \"white\", \"linecolor\": \"white\", \"ticks\": \"\"}, \"bgcolor\": \"#E5ECF6\", \"radialaxis\": {\"gridcolor\": \"white\", \"linecolor\": \"white\", \"ticks\": \"\"}}, \"scene\": {\"xaxis\": {\"backgroundcolor\": \"#E5ECF6\", \"gridcolor\": \"white\", \"gridwidth\": 2, \"linecolor\": \"white\", \"showbackground\": true, \"ticks\": \"\", \"zerolinecolor\": \"white\"}, \"yaxis\": {\"backgroundcolor\": \"#E5ECF6\", \"gridcolor\": \"white\", \"gridwidth\": 2, \"linecolor\": \"white\", \"showbackground\": true, \"ticks\": \"\", \"zerolinecolor\": \"white\"}, \"zaxis\": {\"backgroundcolor\": \"#E5ECF6\", \"gridcolor\": \"white\", \"gridwidth\": 2, \"linecolor\": \"white\", \"showbackground\": true, \"ticks\": \"\", \"zerolinecolor\": \"white\"}}, \"shapedefaults\": {\"line\": {\"color\": \"#2a3f5f\"}}, \"ternary\": {\"aaxis\": {\"gridcolor\": \"white\", \"linecolor\": \"white\", \"ticks\": \"\"}, \"baxis\": {\"gridcolor\": \"white\", \"linecolor\": \"white\", \"ticks\": \"\"}, \"bgcolor\": \"#E5ECF6\", \"caxis\": {\"gridcolor\": \"white\", \"linecolor\": \"white\", \"ticks\": \"\"}}, \"title\": {\"x\": 0.05}, \"xaxis\": {\"automargin\": true, \"gridcolor\": \"white\", \"linecolor\": \"white\", \"ticks\": \"\", \"title\": {\"standoff\": 15}, \"zerolinecolor\": \"white\", \"zerolinewidth\": 2}, \"yaxis\": {\"automargin\": true, \"gridcolor\": \"white\", \"linecolor\": \"white\", \"ticks\": \"\", \"title\": {\"standoff\": 15}, \"zerolinecolor\": \"white\", \"zerolinewidth\": 2}}}, \"title\": {\"text\": \"Top 10 Multi-label Tags With Comedy\"}},\n",
       "                        {\"responsive\": true}\n",
       "                    ).then(function(){\n",
       "                            \n",
       "var gd = document.getElementById('b6c8a2ee-1908-4cb0-96f2-205432b44ec6');\n",
       "var x = new MutationObserver(function (mutations, observer) {{\n",
       "        var display = window.getComputedStyle(gd).display;\n",
       "        if (!display || display === 'none') {{\n",
       "            console.log([gd, 'removed!']);\n",
       "            Plotly.purge(gd);\n",
       "            observer.disconnect();\n",
       "        }}\n",
       "}});\n",
       "\n",
       "// Listen for the removal of the full notebook cells\n",
       "var notebookContainer = gd.closest('#notebook-container');\n",
       "if (notebookContainer) {{\n",
       "    x.observe(notebookContainer, {childList: true});\n",
       "}}\n",
       "\n",
       "// Listen for the clearing of the current output cell\n",
       "var outputEl = gd.closest('.output');\n",
       "if (outputEl) {{\n",
       "    x.observe(outputEl, {childList: true});\n",
       "}}\n",
       "\n",
       "                        })\n",
       "                };\n",
       "                });\n",
       "            </script>\n",
       "        </div>"
      ]
     },
     "metadata": {},
     "output_type": "display_data"
    }
   ],
   "source": [
    "#In the third chart i showed tags coexisting with comedy tag.\n",
    "\n",
    "genres_with_comedy = []\n",
    "for i in anime_genre.index:\n",
    "    if anime_genre[i].find('Comedy') > -1:\n",
    "        for j in anime_genre[i].split(\", \"):\n",
    "            if j != 'Comedy':\n",
    "                genres_with_comedy.append(j) \n",
    "                \n",
    "genres_with_comedy_count = pd.Series(genres_with_comedy).value_counts().head(10)   \n",
    "\n",
    "fig = {\n",
    "  \"data\": [\n",
    "    {\n",
    "      \"values\": genres_with_comedy_count.tolist(),\n",
    "      \"labels\": genres_with_comedy_count.index.tolist(),\n",
    "      \"domain\": {\"x\": [0, .8]},\n",
    "      \"name\": \"Number Of Students Rates\",\n",
    "      \"hoverinfo\":\"label+percent+name\",\n",
    "      \"hole\": .4,\n",
    "      \"type\": \"pie\",\n",
    "    \n",
    "    },],\n",
    "  \"layout\": {\n",
    "        \"title\":\"Top 10 Multi-label Tags With Comedy\"\n",
    "    },\n",
    "}\n",
    "\n",
    "\n",
    "iplot(fig)\n",
    "\n"
   ]
  },
  {
   "cell_type": "markdown",
   "metadata": {},
   "source": [
    "Features of Anime (Release, Types, Sources) (Bar Plots, Stacked Bar Plot)"
   ]
  },
  {
   "cell_type": "code",
   "execution_count": 188,
   "metadata": {},
   "outputs": [
    {
     "name": "stdout",
     "output_type": "stream",
     "text": [
      "TV         2980\n",
      "OVA        1345\n",
      "Special     929\n",
      "Movie       908\n",
      "ONA         408\n",
      "Music        98\n",
      "Name: type, dtype: int64\n"
     ]
    }
   ],
   "source": [
    "animetypes = df_anime['type'].value_counts(dropna=False)\n",
    "print(animetypes)"
   ]
  },
  {
   "cell_type": "code",
   "execution_count": 189,
   "metadata": {},
   "outputs": [
    {
     "data": {
      "image/png": "[encoded data removed]",
      "text/plain": [
       "<Figure size 576x360 with 1 Axes>"
      ]
     },
     "metadata": {
      "needs_background": "light"
     },
     "output_type": "display_data"
    }
   ],
   "source": [
    "plt.figure(figsize=(8,5))\n",
    "sns.barplot(x=animetypes.index,y=animetypes.values, palette=\"rocket\")\n",
    "plt.title('Types of Animes',color = 'purple',fontsize=15)\n",
    "plt.show()"
   ]
  },
  {
   "cell_type": "code",
   "execution_count": 190,
   "metadata": {},
   "outputs": [
    {
     "data": {
      "text/plain": [
       "Manga           2493\n",
       "Original        1789\n",
       "Light novel      512\n",
       "Visual novel     482\n",
       "Game             424\n",
       "Name: source, dtype: int64"
      ]
     },
     "execution_count": 190,
     "metadata": {},
     "output_type": "execute_result"
    }
   ],
   "source": [
    "animesources= df_anime['source'].value_counts(dropna=False)\n",
    "animesources = animesources[animesources.index != 'Unknown']\n",
    "animesources.head(5)"
   ]
  },
  {
   "cell_type": "code",
   "execution_count": 191,
   "metadata": {},
   "outputs": [
    {
     "data": {
      "image/png": "[encoded data removed]",
      "text/plain": [
       "<Figure size 720x432 with 1 Axes>"
      ]
     },
     "metadata": {
      "needs_background": "light"
     },
     "output_type": "display_data"
    }
   ],
   "source": [
    "plt.figure(figsize=(10,6))\n",
    "sns.barplot(x=animesources.index,y=animesources.values, palette=\"Blues_d\")\n",
    "plt.xticks(rotation=60)\n",
    "plt.title('Sources of Animes',color = 'darkblue',fontsize=15)\n",
    "plt.show()"
   ]
  },
  {
   "cell_type": "code",
   "execution_count": 22,
   "metadata": {},
   "outputs": [
    {
     "name": "stderr",
     "output_type": "stream",
     "text": [
      "/opt/anaconda3/lib/python3.7/site-packages/ipykernel_launcher.py:2: SettingWithCopyWarning:\n",
      "\n",
      "\n",
      "A value is trying to be set on a copy of a slice from a DataFrame.\n",
      "Try using .loc[row_indexer,col_indexer] = value instead\n",
      "\n",
      "See the caveats in the documentation: http://pandas.pydata.org/pandas-docs/stable/user_guide/indexing.html#returning-a-view-versus-a-copy\n",
      "\n"
     ]
    }
   ],
   "source": [
    "anime_movies = df_anime[(df_anime.type == \"Movie\") & (df_anime.aired_string != \"Not available\")]\n",
    "anime_movies[\"year\"] = [x.split(\",\")[1].strip()[0:4] if len(x.split(\",\")) > 1 else x.split(\",\")[0].strip()[0:4] for x in anime_movies[\"aired_string\"]]\n",
    "#location = [x.split(\",\")[1].strip() if len(x.split(\",\")) > 1 else x.split(\",\")[0].strip() for x in df_users[\"location\"].astype(\"str\")]\n",
    "anime_movies = anime_movies[\"year\"].value_counts()\n",
    "anime_movies_years = pd.DataFrame({'Year':anime_movies.index, 'Movie Count':anime_movies.values})\n",
    "anime_movies_years = anime_movies_years.sort_values(\"Year\")\n",
    "#i think 2018 and 2019 is incomplete\n",
    "anime_movies_years = anime_movies_years.iloc[:-1,:]\n"
   ]
  },
  {
   "cell_type": "code",
   "execution_count": 23,
   "metadata": {},
   "outputs": [
    {
     "data": {
      "application/vnd.plotly.v1+json": {
       "config": {
        "plotlyServerURL": "https://plot.ly"
       },
       "data": [
        {
         "hovertemplate": "Year=%{x}<br>Movie Count=%{y}<extra></extra>",
         "legendgroup": "",
         "line": {
          "color": "#636efa",
          "dash": "solid"
         },
         "mode": "lines",
         "name": "",
         "showlegend": false,
         "type": "scatter",
         "x": [
          "1942",
          "1943",
          "1944",
          "1945",
          "1957",
          "1958",
          "1959",
          "1960",
          "1961",
          "1962",
          "1963",
          "1964",
          "1966",
          "1967",
          "1970",
          "1971",
          "1972",
          "1973",
          "1975",
          "1977",
          "1978",
          "1979",
          "1980",
          "1981",
          "1982",
          "1983",
          "1984",
          "1985",
          "1986",
          "1987",
          "1988",
          "1989",
          "1990",
          "1991",
          "1992",
          "1993",
          "1994",
          "1995",
          "1996",
          "1997",
          "1998",
          "1999",
          "2000",
          "2001",
          "2002",
          "2003",
          "2004",
          "2005",
          "2006",
          "2007",
          "2008",
          "2009",
          "2010",
          "2011",
          "2012",
          "2013",
          "2014",
          "2015",
          "2016",
          "2017"
         ],
         "xaxis": "x",
         "y": [
          1,
          2,
          1,
          1,
          1,
          1,
          2,
          2,
          1,
          4,
          1,
          2,
          2,
          1,
          1,
          2,
          2,
          2,
          1,
          1,
          1,
          3,
          8,
          9,
          6,
          7,
          10,
          11,
          11,
          12,
          11,
          10,
          10,
          9,
          15,
          13,
          15,
          12,
          12,
          10,
          13,
          19,
          15,
          19,
          16,
          8,
          18,
          22,
          24,
          30,
          20,
          27,
          39,
          45,
          34,
          45,
          45,
          68,
          77,
          82
         ],
         "yaxis": "y"
        }
       ],
       "layout": {
        "height": 1000,
        "legend": {
         "tracegroupgap": 0
        },
        "template": {
         "data": {
          "bar": [
           {
            "error_x": {
             "color": "#2a3f5f"
            },
            "error_y": {
             "color": "#2a3f5f"
            },
            "marker": {
             "line": {
              "color": "#E5ECF6",
              "width": 0.5
             }
            },
            "type": "bar"
           }
          ],
          "barpolar": [
           {
            "marker": {
             "line": {
              "color": "#E5ECF6",
              "width": 0.5
             }
            },
            "type": "barpolar"
           }
          ],
          "carpet": [
           {
            "aaxis": {
             "endlinecolor": "#2a3f5f",
             "gridcolor": "white",
             "linecolor": "white",
             "minorgridcolor": "white",
             "startlinecolor": "#2a3f5f"
            },
            "baxis": {
             "endlinecolor": "#2a3f5f",
             "gridcolor": "white",
             "linecolor": "white",
             "minorgridcolor": "white",
             "startlinecolor": "#2a3f5f"
            },
            "type": "carpet"
           }
          ],
          "choropleth": [
           {
            "colorbar": {
             "outlinewidth": 0,
             "ticks": ""
            },
            "type": "choropleth"
           }
          ],
          "contour": [
           {
            "colorbar": {
             "outlinewidth": 0,
             "ticks": ""
            },
            "colorscale": [
             [
              0,
              "#0d0887"
             ],
             [
              0.1111111111111111,
              "#46039f"
             ],
             [
              0.2222222222222222,
              "#7201a8"
             ],
             [
              0.3333333333333333,
              "#9c179e"
             ],
             [
              0.4444444444444444,
              "#bd3786"
             ],
             [
              0.5555555555555556,
              "#d8576b"
             ],
             [
              0.6666666666666666,
              "#ed7953"
             ],
             [
              0.7777777777777778,
              "#fb9f3a"
             ],
             [
              0.8888888888888888,
              "#fdca26"
             ],
             [
              1,
              "#f0f921"
             ]
            ],
            "type": "contour"
           }
          ],
          "contourcarpet": [
           {
            "colorbar": {
             "outlinewidth": 0,
             "ticks": ""
            },
            "type": "contourcarpet"
           }
          ],
          "heatmap": [
           {
            "colorbar": {
             "outlinewidth": 0,
             "ticks": ""
            },
            "colorscale": [
             [
              0,
              "#0d0887"
             ],
             [
              0.1111111111111111,
              "#46039f"
             ],
             [
              0.2222222222222222,
              "#7201a8"
             ],
             [
              0.3333333333333333,
              "#9c179e"
             ],
             [
              0.4444444444444444,
              "#bd3786"
             ],
             [
              0.5555555555555556,
              "#d8576b"
             ],
             [
              0.6666666666666666,
              "#ed7953"
             ],
             [
              0.7777777777777778,
              "#fb9f3a"
             ],
             [
              0.8888888888888888,
              "#fdca26"
             ],
             [
              1,
              "#f0f921"
             ]
            ],
            "type": "heatmap"
           }
          ],
          "heatmapgl": [
           {
            "colorbar": {
             "outlinewidth": 0,
             "ticks": ""
            },
            "colorscale": [
             [
              0,
              "#0d0887"
             ],
             [
              0.1111111111111111,
              "#46039f"
             ],
             [
              0.2222222222222222,
              "#7201a8"
             ],
             [
              0.3333333333333333,
              "#9c179e"
             ],
             [
              0.4444444444444444,
              "#bd3786"
             ],
             [
              0.5555555555555556,
              "#d8576b"
             ],
             [
              0.6666666666666666,
              "#ed7953"
             ],
             [
              0.7777777777777778,
              "#fb9f3a"
             ],
             [
              0.8888888888888888,
              "#fdca26"
             ],
             [
              1,
              "#f0f921"
             ]
            ],
            "type": "heatmapgl"
           }
          ],
          "histogram": [
           {
            "marker": {
             "colorbar": {
              "outlinewidth": 0,
              "ticks": ""
             }
            },
            "type": "histogram"
           }
          ],
          "histogram2d": [
           {
            "colorbar": {
             "outlinewidth": 0,
             "ticks": ""
            },
            "colorscale": [
             [
              0,
              "#0d0887"
             ],
             [
              0.1111111111111111,
              "#46039f"
             ],
             [
              0.2222222222222222,
              "#7201a8"
             ],
             [
              0.3333333333333333,
              "#9c179e"
             ],
             [
              0.4444444444444444,
              "#bd3786"
             ],
             [
              0.5555555555555556,
              "#d8576b"
             ],
             [
              0.6666666666666666,
              "#ed7953"
             ],
             [
              0.7777777777777778,
              "#fb9f3a"
             ],
             [
              0.8888888888888888,
              "#fdca26"
             ],
             [
              1,
              "#f0f921"
             ]
            ],
            "type": "histogram2d"
           }
          ],
          "histogram2dcontour": [
           {
            "colorbar": {
             "outlinewidth": 0,
             "ticks": ""
            },
            "colorscale": [
             [
              0,
              "#0d0887"
             ],
             [
              0.1111111111111111,
              "#46039f"
             ],
             [
              0.2222222222222222,
              "#7201a8"
             ],
             [
              0.3333333333333333,
              "#9c179e"
             ],
             [
              0.4444444444444444,
              "#bd3786"
             ],
             [
              0.5555555555555556,
              "#d8576b"
             ],
             [
              0.6666666666666666,
              "#ed7953"
             ],
             [
              0.7777777777777778,
              "#fb9f3a"
             ],
             [
              0.8888888888888888,
              "#fdca26"
             ],
             [
              1,
              "#f0f921"
             ]
            ],
            "type": "histogram2dcontour"
           }
          ],
          "mesh3d": [
           {
            "colorbar": {
             "outlinewidth": 0,
             "ticks": ""
            },
            "type": "mesh3d"
           }
          ],
          "parcoords": [
           {
            "line": {
             "colorbar": {
              "outlinewidth": 0,
              "ticks": ""
             }
            },
            "type": "parcoords"
           }
          ],
          "pie": [
           {
            "automargin": true,
            "type": "pie"
           }
          ],
          "scatter": [
           {
            "marker": {
             "colorbar": {
              "outlinewidth": 0,
              "ticks": ""
             }
            },
            "type": "scatter"
           }
          ],
          "scatter3d": [
           {
            "line": {
             "colorbar": {
              "outlinewidth": 0,
              "ticks": ""
             }
            },
            "marker": {
             "colorbar": {
              "outlinewidth": 0,
              "ticks": ""
             }
            },
            "type": "scatter3d"
           }
          ],
          "scattercarpet": [
           {
            "marker": {
             "colorbar": {
              "outlinewidth": 0,
              "ticks": ""
             }
            },
            "type": "scattercarpet"
           }
          ],
          "scattergeo": [
           {
            "marker": {
             "colorbar": {
              "outlinewidth": 0,
              "ticks": ""
             }
            },
            "type": "scattergeo"
           }
          ],
          "scattergl": [
           {
            "marker": {
             "colorbar": {
              "outlinewidth": 0,
              "ticks": ""
             }
            },
            "type": "scattergl"
           }
          ],
          "scattermapbox": [
           {
            "marker": {
             "colorbar": {
              "outlinewidth": 0,
              "ticks": ""
             }
            },
            "type": "scattermapbox"
           }
          ],
          "scatterpolar": [
           {
            "marker": {
             "colorbar": {
              "outlinewidth": 0,
              "ticks": ""
             }
            },
            "type": "scatterpolar"
           }
          ],
          "scatterpolargl": [
           {
            "marker": {
             "colorbar": {
              "outlinewidth": 0,
              "ticks": ""
             }
            },
            "type": "scatterpolargl"
           }
          ],
          "scatterternary": [
           {
            "marker": {
             "colorbar": {
              "outlinewidth": 0,
              "ticks": ""
             }
            },
            "type": "scatterternary"
           }
          ],
          "surface": [
           {
            "colorbar": {
             "outlinewidth": 0,
             "ticks": ""
            },
            "colorscale": [
             [
              0,
              "#0d0887"
             ],
             [
              0.1111111111111111,
              "#46039f"
             ],
             [
              0.2222222222222222,
              "#7201a8"
             ],
             [
              0.3333333333333333,
              "#9c179e"
             ],
             [
              0.4444444444444444,
              "#bd3786"
             ],
             [
              0.5555555555555556,
              "#d8576b"
             ],
             [
              0.6666666666666666,
              "#ed7953"
             ],
             [
              0.7777777777777778,
              "#fb9f3a"
             ],
             [
              0.8888888888888888,
              "#fdca26"
             ],
             [
              1,
              "#f0f921"
             ]
            ],
            "type": "surface"
           }
          ],
          "table": [
           {
            "cells": {
             "fill": {
              "color": "#EBF0F8"
             },
             "line": {
              "color": "white"
             }
            },
            "header": {
             "fill": {
              "color": "#C8D4E3"
             },
             "line": {
              "color": "white"
             }
            },
            "type": "table"
           }
          ]
         },
         "layout": {
          "annotationdefaults": {
           "arrowcolor": "#2a3f5f",
           "arrowhead": 0,
           "arrowwidth": 1
          },
          "coloraxis": {
           "colorbar": {
            "outlinewidth": 0,
            "ticks": ""
           }
          },
          "colorscale": {
           "diverging": [
            [
             0,
             "#8e0152"
            ],
            [
             0.1,
             "#c51b7d"
            ],
            [
             0.2,
             "#de77ae"
            ],
            [
             0.3,
             "#f1b6da"
            ],
            [
             0.4,
             "#fde0ef"
            ],
            [
             0.5,
             "#f7f7f7"
            ],
            [
             0.6,
             "#e6f5d0"
            ],
            [
             0.7,
             "#b8e186"
            ],
            [
             0.8,
             "#7fbc41"
            ],
            [
             0.9,
             "#4d9221"
            ],
            [
             1,
             "#276419"
            ]
           ],
           "sequential": [
            [
             0,
             "#0d0887"
            ],
            [
             0.1111111111111111,
             "#46039f"
            ],
            [
             0.2222222222222222,
             "#7201a8"
            ],
            [
             0.3333333333333333,
             "#9c179e"
            ],
            [
             0.4444444444444444,
             "#bd3786"
            ],
            [
             0.5555555555555556,
             "#d8576b"
            ],
            [
             0.6666666666666666,
             "#ed7953"
            ],
            [
             0.7777777777777778,
             "#fb9f3a"
            ],
            [
             0.8888888888888888,
             "#fdca26"
            ],
            [
             1,
             "#f0f921"
            ]
           ],
           "sequentialminus": [
            [
             0,
             "#0d0887"
            ],
            [
             0.1111111111111111,
             "#46039f"
            ],
            [
             0.2222222222222222,
             "#7201a8"
            ],
            [
             0.3333333333333333,
             "#9c179e"
            ],
            [
             0.4444444444444444,
             "#bd3786"
            ],
            [
             0.5555555555555556,
             "#d8576b"
            ],
            [
             0.6666666666666666,
             "#ed7953"
            ],
            [
             0.7777777777777778,
             "#fb9f3a"
            ],
            [
             0.8888888888888888,
             "#fdca26"
            ],
            [
             1,
             "#f0f921"
            ]
           ]
          },
          "colorway": [
           "#636efa",
           "#EF553B",
           "#00cc96",
           "#ab63fa",
           "#FFA15A",
           "#19d3f3",
           "#FF6692",
           "#B6E880",
           "#FF97FF",
           "#FECB52"
          ],
          "font": {
           "color": "#2a3f5f"
          },
          "geo": {
           "bgcolor": "white",
           "lakecolor": "white",
           "landcolor": "#E5ECF6",
           "showlakes": true,
           "showland": true,
           "subunitcolor": "white"
          },
          "hoverlabel": {
           "align": "left"
          },
          "hovermode": "closest",
          "mapbox": {
           "style": "light"
          },
          "paper_bgcolor": "white",
          "plot_bgcolor": "#E5ECF6",
          "polar": {
           "angularaxis": {
            "gridcolor": "white",
            "linecolor": "white",
            "ticks": ""
           },
           "bgcolor": "#E5ECF6",
           "radialaxis": {
            "gridcolor": "white",
            "linecolor": "white",
            "ticks": ""
           }
          },
          "scene": {
           "xaxis": {
            "backgroundcolor": "#E5ECF6",
            "gridcolor": "white",
            "gridwidth": 2,
            "linecolor": "white",
            "showbackground": true,
            "ticks": "",
            "zerolinecolor": "white"
           },
           "yaxis": {
            "backgroundcolor": "#E5ECF6",
            "gridcolor": "white",
            "gridwidth": 2,
            "linecolor": "white",
            "showbackground": true,
            "ticks": "",
            "zerolinecolor": "white"
           },
           "zaxis": {
            "backgroundcolor": "#E5ECF6",
            "gridcolor": "white",
            "gridwidth": 2,
            "linecolor": "white",
            "showbackground": true,
            "ticks": "",
            "zerolinecolor": "white"
           }
          },
          "shapedefaults": {
           "line": {
            "color": "#2a3f5f"
           }
          },
          "ternary": {
           "aaxis": {
            "gridcolor": "white",
            "linecolor": "white",
            "ticks": ""
           },
           "baxis": {
            "gridcolor": "white",
            "linecolor": "white",
            "ticks": ""
           },
           "bgcolor": "#E5ECF6",
           "caxis": {
            "gridcolor": "white",
            "linecolor": "white",
            "ticks": ""
           }
          },
          "title": {
           "x": 0.05
          },
          "xaxis": {
           "automargin": true,
           "gridcolor": "white",
           "linecolor": "white",
           "ticks": "",
           "title": {
            "standoff": 15
           },
           "zerolinecolor": "white",
           "zerolinewidth": 2
          },
          "yaxis": {
           "automargin": true,
           "gridcolor": "white",
           "linecolor": "white",
           "ticks": "",
           "title": {
            "standoff": 15
           },
           "zerolinecolor": "white",
           "zerolinewidth": 2
          }
         }
        },
        "title": {
         "text": "Anime Movies by Years"
        },
        "width": 900,
        "xaxis": {
         "anchor": "y",
         "domain": [
          0,
          1
         ],
         "title": {
          "text": "Year"
         }
        },
        "yaxis": {
         "anchor": "x",
         "domain": [
          0,
          1
         ],
         "title": {
          "text": "Movie Count"
         }
        }
       }
      },
      "text/html": [
       "<div>\n",
       "        \n",
       "        \n",
       "            <div id=\"6a947923-fab2-4d8c-8e4f-7f51fda46320\" class=\"plotly-graph-div\" style=\"height:1000px; width:900px;\"></div>\n",
       "            <script type=\"text/javascript\">\n",
       "                require([\"plotly\"], function(Plotly) {\n",
       "                    window.PLOTLYENV=window.PLOTLYENV || {};\n",
       "                    \n",
       "                if (document.getElementById(\"6a947923-fab2-4d8c-8e4f-7f51fda46320\")) {\n",
       "                    Plotly.newPlot(\n",
       "                        '6a947923-fab2-4d8c-8e4f-7f51fda46320',\n",
       "                        [{\"hovertemplate\": \"Year=%{x}<br>Movie Count=%{y}<extra></extra>\", \"legendgroup\": \"\", \"line\": {\"color\": \"#636efa\", \"dash\": \"solid\"}, \"mode\": \"lines\", \"name\": \"\", \"showlegend\": false, \"type\": \"scatter\", \"x\": [\"1942\", \"1943\", \"1944\", \"1945\", \"1957\", \"1958\", \"1959\", \"1960\", \"1961\", \"1962\", \"1963\", \"1964\", \"1966\", \"1967\", \"1970\", \"1971\", \"1972\", \"1973\", \"1975\", \"1977\", \"1978\", \"1979\", \"1980\", \"1981\", \"1982\", \"1983\", \"1984\", \"1985\", \"1986\", \"1987\", \"1988\", \"1989\", \"1990\", \"1991\", \"1992\", \"1993\", \"1994\", \"1995\", \"1996\", \"1997\", \"1998\", \"1999\", \"2000\", \"2001\", \"2002\", \"2003\", \"2004\", \"2005\", \"2006\", \"2007\", \"2008\", \"2009\", \"2010\", \"2011\", \"2012\", \"2013\", \"2014\", \"2015\", \"2016\", \"2017\"], \"xaxis\": \"x\", \"y\": [1, 2, 1, 1, 1, 1, 2, 2, 1, 4, 1, 2, 2, 1, 1, 2, 2, 2, 1, 1, 1, 3, 8, 9, 6, 7, 10, 11, 11, 12, 11, 10, 10, 9, 15, 13, 15, 12, 12, 10, 13, 19, 15, 19, 16, 8, 18, 22, 24, 30, 20, 27, 39, 45, 34, 45, 45, 68, 77, 82], \"yaxis\": \"y\"}],\n",
       "                        {\"height\": 1000, \"legend\": {\"tracegroupgap\": 0}, \"template\": {\"data\": {\"bar\": [{\"error_x\": {\"color\": \"#2a3f5f\"}, \"error_y\": {\"color\": \"#2a3f5f\"}, \"marker\": {\"line\": {\"color\": \"#E5ECF6\", \"width\": 0.5}}, \"type\": \"bar\"}], \"barpolar\": [{\"marker\": {\"line\": {\"color\": \"#E5ECF6\", \"width\": 0.5}}, \"type\": \"barpolar\"}], \"carpet\": [{\"aaxis\": {\"endlinecolor\": \"#2a3f5f\", \"gridcolor\": \"white\", \"linecolor\": \"white\", \"minorgridcolor\": \"white\", \"startlinecolor\": \"#2a3f5f\"}, \"baxis\": {\"endlinecolor\": \"#2a3f5f\", \"gridcolor\": \"white\", \"linecolor\": \"white\", \"minorgridcolor\": \"white\", \"startlinecolor\": \"#2a3f5f\"}, \"type\": \"carpet\"}], \"choropleth\": [{\"colorbar\": {\"outlinewidth\": 0, \"ticks\": \"\"}, \"type\": \"choropleth\"}], \"contour\": [{\"colorbar\": {\"outlinewidth\": 0, \"ticks\": \"\"}, \"colorscale\": [[0.0, \"#0d0887\"], [0.1111111111111111, \"#46039f\"], [0.2222222222222222, \"#7201a8\"], [0.3333333333333333, \"#9c179e\"], [0.4444444444444444, \"#bd3786\"], [0.5555555555555556, \"#d8576b\"], [0.6666666666666666, \"#ed7953\"], [0.7777777777777778, \"#fb9f3a\"], [0.8888888888888888, \"#fdca26\"], [1.0, \"#f0f921\"]], \"type\": \"contour\"}], \"contourcarpet\": [{\"colorbar\": {\"outlinewidth\": 0, \"ticks\": \"\"}, \"type\": \"contourcarpet\"}], \"heatmap\": [{\"colorbar\": {\"outlinewidth\": 0, \"ticks\": \"\"}, \"colorscale\": [[0.0, \"#0d0887\"], [0.1111111111111111, \"#46039f\"], [0.2222222222222222, \"#7201a8\"], [0.3333333333333333, \"#9c179e\"], [0.4444444444444444, \"#bd3786\"], [0.5555555555555556, \"#d8576b\"], [0.6666666666666666, \"#ed7953\"], [0.7777777777777778, \"#fb9f3a\"], [0.8888888888888888, \"#fdca26\"], [1.0, \"#f0f921\"]], \"type\": \"heatmap\"}], \"heatmapgl\": [{\"colorbar\": {\"outlinewidth\": 0, \"ticks\": \"\"}, \"colorscale\": [[0.0, \"#0d0887\"], [0.1111111111111111, \"#46039f\"], [0.2222222222222222, \"#7201a8\"], [0.3333333333333333, \"#9c179e\"], [0.4444444444444444, \"#bd3786\"], [0.5555555555555556, \"#d8576b\"], [0.6666666666666666, \"#ed7953\"], [0.7777777777777778, \"#fb9f3a\"], [0.8888888888888888, \"#fdca26\"], [1.0, \"#f0f921\"]], \"type\": \"heatmapgl\"}], \"histogram\": [{\"marker\": {\"colorbar\": {\"outlinewidth\": 0, \"ticks\": \"\"}}, \"type\": \"histogram\"}], \"histogram2d\": [{\"colorbar\": {\"outlinewidth\": 0, \"ticks\": \"\"}, \"colorscale\": [[0.0, \"#0d0887\"], [0.1111111111111111, \"#46039f\"], [0.2222222222222222, \"#7201a8\"], [0.3333333333333333, \"#9c179e\"], [0.4444444444444444, \"#bd3786\"], [0.5555555555555556, \"#d8576b\"], [0.6666666666666666, \"#ed7953\"], [0.7777777777777778, \"#fb9f3a\"], [0.8888888888888888, \"#fdca26\"], [1.0, \"#f0f921\"]], \"type\": \"histogram2d\"}], \"histogram2dcontour\": [{\"colorbar\": {\"outlinewidth\": 0, \"ticks\": \"\"}, \"colorscale\": [[0.0, \"#0d0887\"], [0.1111111111111111, \"#46039f\"], [0.2222222222222222, \"#7201a8\"], [0.3333333333333333, \"#9c179e\"], [0.4444444444444444, \"#bd3786\"], [0.5555555555555556, \"#d8576b\"], [0.6666666666666666, \"#ed7953\"], [0.7777777777777778, \"#fb9f3a\"], [0.8888888888888888, \"#fdca26\"], [1.0, \"#f0f921\"]], \"type\": \"histogram2dcontour\"}], \"mesh3d\": [{\"colorbar\": {\"outlinewidth\": 0, \"ticks\": \"\"}, \"type\": \"mesh3d\"}], \"parcoords\": [{\"line\": {\"colorbar\": {\"outlinewidth\": 0, \"ticks\": \"\"}}, \"type\": \"parcoords\"}], \"pie\": [{\"automargin\": true, \"type\": \"pie\"}], \"scatter\": [{\"marker\": {\"colorbar\": {\"outlinewidth\": 0, \"ticks\": \"\"}}, \"type\": \"scatter\"}], \"scatter3d\": [{\"line\": {\"colorbar\": {\"outlinewidth\": 0, \"ticks\": \"\"}}, \"marker\": {\"colorbar\": {\"outlinewidth\": 0, \"ticks\": \"\"}}, \"type\": \"scatter3d\"}], \"scattercarpet\": [{\"marker\": {\"colorbar\": {\"outlinewidth\": 0, \"ticks\": \"\"}}, \"type\": \"scattercarpet\"}], \"scattergeo\": [{\"marker\": {\"colorbar\": {\"outlinewidth\": 0, \"ticks\": \"\"}}, \"type\": \"scattergeo\"}], \"scattergl\": [{\"marker\": {\"colorbar\": {\"outlinewidth\": 0, \"ticks\": \"\"}}, \"type\": \"scattergl\"}], \"scattermapbox\": [{\"marker\": {\"colorbar\": {\"outlinewidth\": 0, \"ticks\": \"\"}}, \"type\": \"scattermapbox\"}], \"scatterpolar\": [{\"marker\": {\"colorbar\": {\"outlinewidth\": 0, \"ticks\": \"\"}}, \"type\": \"scatterpolar\"}], \"scatterpolargl\": [{\"marker\": {\"colorbar\": {\"outlinewidth\": 0, \"ticks\": \"\"}}, \"type\": \"scatterpolargl\"}], \"scatterternary\": [{\"marker\": {\"colorbar\": {\"outlinewidth\": 0, \"ticks\": \"\"}}, \"type\": \"scatterternary\"}], \"surface\": [{\"colorbar\": {\"outlinewidth\": 0, \"ticks\": \"\"}, \"colorscale\": [[0.0, \"#0d0887\"], [0.1111111111111111, \"#46039f\"], [0.2222222222222222, \"#7201a8\"], [0.3333333333333333, \"#9c179e\"], [0.4444444444444444, \"#bd3786\"], [0.5555555555555556, \"#d8576b\"], [0.6666666666666666, \"#ed7953\"], [0.7777777777777778, \"#fb9f3a\"], [0.8888888888888888, \"#fdca26\"], [1.0, \"#f0f921\"]], \"type\": \"surface\"}], \"table\": [{\"cells\": {\"fill\": {\"color\": \"#EBF0F8\"}, \"line\": {\"color\": \"white\"}}, \"header\": {\"fill\": {\"color\": \"#C8D4E3\"}, \"line\": {\"color\": \"white\"}}, \"type\": \"table\"}]}, \"layout\": {\"annotationdefaults\": {\"arrowcolor\": \"#2a3f5f\", \"arrowhead\": 0, \"arrowwidth\": 1}, \"coloraxis\": {\"colorbar\": {\"outlinewidth\": 0, \"ticks\": \"\"}}, \"colorscale\": {\"diverging\": [[0, \"#8e0152\"], [0.1, \"#c51b7d\"], [0.2, \"#de77ae\"], [0.3, \"#f1b6da\"], [0.4, \"#fde0ef\"], [0.5, \"#f7f7f7\"], [0.6, \"#e6f5d0\"], [0.7, \"#b8e186\"], [0.8, \"#7fbc41\"], [0.9, \"#4d9221\"], [1, \"#276419\"]], \"sequential\": [[0.0, \"#0d0887\"], [0.1111111111111111, \"#46039f\"], [0.2222222222222222, \"#7201a8\"], [0.3333333333333333, \"#9c179e\"], [0.4444444444444444, \"#bd3786\"], [0.5555555555555556, \"#d8576b\"], [0.6666666666666666, \"#ed7953\"], [0.7777777777777778, \"#fb9f3a\"], [0.8888888888888888, \"#fdca26\"], [1.0, \"#f0f921\"]], \"sequentialminus\": [[0.0, \"#0d0887\"], [0.1111111111111111, \"#46039f\"], [0.2222222222222222, \"#7201a8\"], [0.3333333333333333, \"#9c179e\"], [0.4444444444444444, \"#bd3786\"], [0.5555555555555556, \"#d8576b\"], [0.6666666666666666, \"#ed7953\"], [0.7777777777777778, \"#fb9f3a\"], [0.8888888888888888, \"#fdca26\"], [1.0, \"#f0f921\"]]}, \"colorway\": [\"#636efa\", \"#EF553B\", \"#00cc96\", \"#ab63fa\", \"#FFA15A\", \"#19d3f3\", \"#FF6692\", \"#B6E880\", \"#FF97FF\", \"#FECB52\"], \"font\": {\"color\": \"#2a3f5f\"}, \"geo\": {\"bgcolor\": \"white\", \"lakecolor\": \"white\", \"landcolor\": \"#E5ECF6\", \"showlakes\": true, \"showland\": true, \"subunitcolor\": \"white\"}, \"hoverlabel\": {\"align\": \"left\"}, \"hovermode\": \"closest\", \"mapbox\": {\"style\": \"light\"}, \"paper_bgcolor\": \"white\", \"plot_bgcolor\": \"#E5ECF6\", \"polar\": {\"angularaxis\": {\"gridcolor\": \"white\", \"linecolor\": \"white\", \"ticks\": \"\"}, \"bgcolor\": \"#E5ECF6\", \"radialaxis\": {\"gridcolor\": \"white\", \"linecolor\": \"white\", \"ticks\": \"\"}}, \"scene\": {\"xaxis\": {\"backgroundcolor\": \"#E5ECF6\", \"gridcolor\": \"white\", \"gridwidth\": 2, \"linecolor\": \"white\", \"showbackground\": true, \"ticks\": \"\", \"zerolinecolor\": \"white\"}, \"yaxis\": {\"backgroundcolor\": \"#E5ECF6\", \"gridcolor\": \"white\", \"gridwidth\": 2, \"linecolor\": \"white\", \"showbackground\": true, \"ticks\": \"\", \"zerolinecolor\": \"white\"}, \"zaxis\": {\"backgroundcolor\": \"#E5ECF6\", \"gridcolor\": \"white\", \"gridwidth\": 2, \"linecolor\": \"white\", \"showbackground\": true, \"ticks\": \"\", \"zerolinecolor\": \"white\"}}, \"shapedefaults\": {\"line\": {\"color\": \"#2a3f5f\"}}, \"ternary\": {\"aaxis\": {\"gridcolor\": \"white\", \"linecolor\": \"white\", \"ticks\": \"\"}, \"baxis\": {\"gridcolor\": \"white\", \"linecolor\": \"white\", \"ticks\": \"\"}, \"bgcolor\": \"#E5ECF6\", \"caxis\": {\"gridcolor\": \"white\", \"linecolor\": \"white\", \"ticks\": \"\"}}, \"title\": {\"x\": 0.05}, \"xaxis\": {\"automargin\": true, \"gridcolor\": \"white\", \"linecolor\": \"white\", \"ticks\": \"\", \"title\": {\"standoff\": 15}, \"zerolinecolor\": \"white\", \"zerolinewidth\": 2}, \"yaxis\": {\"automargin\": true, \"gridcolor\": \"white\", \"linecolor\": \"white\", \"ticks\": \"\", \"title\": {\"standoff\": 15}, \"zerolinecolor\": \"white\", \"zerolinewidth\": 2}}}, \"title\": {\"text\": \"Anime Movies by Years\"}, \"width\": 900, \"xaxis\": {\"anchor\": \"y\", \"domain\": [0.0, 1.0], \"title\": {\"text\": \"Year\"}}, \"yaxis\": {\"anchor\": \"x\", \"domain\": [0.0, 1.0], \"title\": {\"text\": \"Movie Count\"}}},\n",
       "                        {\"responsive\": true}\n",
       "                    ).then(function(){\n",
       "                            \n",
       "var gd = document.getElementById('6a947923-fab2-4d8c-8e4f-7f51fda46320');\n",
       "var x = new MutationObserver(function (mutations, observer) {{\n",
       "        var display = window.getComputedStyle(gd).display;\n",
       "        if (!display || display === 'none') {{\n",
       "            console.log([gd, 'removed!']);\n",
       "            Plotly.purge(gd);\n",
       "            observer.disconnect();\n",
       "        }}\n",
       "}});\n",
       "\n",
       "// Listen for the removal of the full notebook cells\n",
       "var notebookContainer = gd.closest('#notebook-container');\n",
       "if (notebookContainer) {{\n",
       "    x.observe(notebookContainer, {childList: true});\n",
       "}}\n",
       "\n",
       "// Listen for the clearing of the current output cell\n",
       "var outputEl = gd.closest('.output');\n",
       "if (outputEl) {{\n",
       "    x.observe(outputEl, {childList: true});\n",
       "}}\n",
       "\n",
       "                        })\n",
       "                };\n",
       "                });\n",
       "            </script>\n",
       "        </div>"
      ]
     },
     "metadata": {},
     "output_type": "display_data"
    }
   ],
   "source": [
    "fig = px.line(anime_movies_years, x=\"Year\", y=\"Movie Count\", \n",
    "              title='Anime Movies by Years', width=900, height=1000)\n",
    "fig.show()"
   ]
  },
  {
   "cell_type": "code",
   "execution_count": 26,
   "metadata": {},
   "outputs": [
    {
     "name": "stderr",
     "output_type": "stream",
     "text": [
      "/opt/anaconda3/lib/python3.7/site-packages/ipykernel_launcher.py:2: SettingWithCopyWarning:\n",
      "\n",
      "\n",
      "A value is trying to be set on a copy of a slice from a DataFrame.\n",
      "Try using .loc[row_indexer,col_indexer] = value instead\n",
      "\n",
      "See the caveats in the documentation: http://pandas.pydata.org/pandas-docs/stable/user_guide/indexing.html#returning-a-view-versus-a-copy\n",
      "\n"
     ]
    }
   ],
   "source": [
    "anime_tv = df_anime[(df_anime.type == \"TV\") & (df_anime.aired_string != \"Not available\")]\n",
    "anime_tv[\"year\"] = [x.split(\",\")[1].strip()[0:4] if len(x.split(\",\")) > 1 else x.split(\",\")[0].strip()[0:4] for x in anime_tv[\"aired_string\"]]\n",
    "#location = [x.split(\",\")[1].strip() if len(x.split(\",\")) > 1 else x.split(\",\")[0].strip() for x in df_users[\"location\"].astype(\"str\")]\n",
    "anime_tv = anime_tv[\"year\"].value_counts()\n",
    "anime_tv_years = pd.DataFrame({'Year':anime_tv.index, 'TV Series Count':anime_tv.values})\n",
    "anime_tv_years = anime_tv_years.sort_values(\"Year\")\n",
    "#i think 2018 and 2019 is incomplete\n",
    "anime_tv_years = anime_tv_years.iloc[:-1,:]\n",
    "\n"
   ]
  },
  {
   "cell_type": "code",
   "execution_count": 27,
   "metadata": {},
   "outputs": [
    {
     "data": {
      "application/vnd.plotly.v1+json": {
       "config": {
        "plotlyServerURL": "https://plot.ly"
       },
       "data": [
        {
         "hovertemplate": "Year=%{x}<br>TV Series Count=%{y}<extra></extra>",
         "legendgroup": "",
         "line": {
          "color": "#636efa",
          "dash": "solid"
         },
         "mode": "lines",
         "name": "",
         "showlegend": false,
         "type": "scatter",
         "x": [
          "1963",
          "1965",
          "1966",
          "1967",
          "1968",
          "1969",
          "1970",
          "1971",
          "1972",
          "1973",
          "1974",
          "1975",
          "1976",
          "1977",
          "1978",
          "1979",
          "1980",
          "1981",
          "1982",
          "1983",
          "1984",
          "1985",
          "1986",
          "1987",
          "1988",
          "1989",
          "1990",
          "1991",
          "1992",
          "1993",
          "1994",
          "1995",
          "1996",
          "1997",
          "1998",
          "1999",
          "2000",
          "2001",
          "2002",
          "2003",
          "2004",
          "2005",
          "2006",
          "2007",
          "2008",
          "2009",
          "2010",
          "2011",
          "2012",
          "2013",
          "2014",
          "2015",
          "2016",
          "2017"
         ],
         "xaxis": "x",
         "y": [
          4,
          1,
          2,
          3,
          3,
          8,
          3,
          4,
          5,
          7,
          12,
          7,
          10,
          13,
          11,
          11,
          9,
          19,
          12,
          18,
          24,
          12,
          17,
          14,
          16,
          17,
          16,
          17,
          19,
          13,
          21,
          27,
          31,
          29,
          54,
          57,
          44,
          68,
          69,
          75,
          99,
          92,
          128,
          122,
          119,
          122,
          101,
          125,
          143,
          151,
          189,
          210,
          243,
          218
         ],
         "yaxis": "y"
        }
       ],
       "layout": {
        "height": 1000,
        "legend": {
         "tracegroupgap": 0
        },
        "template": {
         "data": {
          "bar": [
           {
            "error_x": {
             "color": "#2a3f5f"
            },
            "error_y": {
             "color": "#2a3f5f"
            },
            "marker": {
             "line": {
              "color": "#E5ECF6",
              "width": 0.5
             }
            },
            "type": "bar"
           }
          ],
          "barpolar": [
           {
            "marker": {
             "line": {
              "color": "#E5ECF6",
              "width": 0.5
             }
            },
            "type": "barpolar"
           }
          ],
          "carpet": [
           {
            "aaxis": {
             "endlinecolor": "#2a3f5f",
             "gridcolor": "white",
             "linecolor": "white",
             "minorgridcolor": "white",
             "startlinecolor": "#2a3f5f"
            },
            "baxis": {
             "endlinecolor": "#2a3f5f",
             "gridcolor": "white",
             "linecolor": "white",
             "minorgridcolor": "white",
             "startlinecolor": "#2a3f5f"
            },
            "type": "carpet"
           }
          ],
          "choropleth": [
           {
            "colorbar": {
             "outlinewidth": 0,
             "ticks": ""
            },
            "type": "choropleth"
           }
          ],
          "contour": [
           {
            "colorbar": {
             "outlinewidth": 0,
             "ticks": ""
            },
            "colorscale": [
             [
              0,
              "#0d0887"
             ],
             [
              0.1111111111111111,
              "#46039f"
             ],
             [
              0.2222222222222222,
              "#7201a8"
             ],
             [
              0.3333333333333333,
              "#9c179e"
             ],
             [
              0.4444444444444444,
              "#bd3786"
             ],
             [
              0.5555555555555556,
              "#d8576b"
             ],
             [
              0.6666666666666666,
              "#ed7953"
             ],
             [
              0.7777777777777778,
              "#fb9f3a"
             ],
             [
              0.8888888888888888,
              "#fdca26"
             ],
             [
              1,
              "#f0f921"
             ]
            ],
            "type": "contour"
           }
          ],
          "contourcarpet": [
           {
            "colorbar": {
             "outlinewidth": 0,
             "ticks": ""
            },
            "type": "contourcarpet"
           }
          ],
          "heatmap": [
           {
            "colorbar": {
             "outlinewidth": 0,
             "ticks": ""
            },
            "colorscale": [
             [
              0,
              "#0d0887"
             ],
             [
              0.1111111111111111,
              "#46039f"
             ],
             [
              0.2222222222222222,
              "#7201a8"
             ],
             [
              0.3333333333333333,
              "#9c179e"
             ],
             [
              0.4444444444444444,
              "#bd3786"
             ],
             [
              0.5555555555555556,
              "#d8576b"
             ],
             [
              0.6666666666666666,
              "#ed7953"
             ],
             [
              0.7777777777777778,
              "#fb9f3a"
             ],
             [
              0.8888888888888888,
              "#fdca26"
             ],
             [
              1,
              "#f0f921"
             ]
            ],
            "type": "heatmap"
           }
          ],
          "heatmapgl": [
           {
            "colorbar": {
             "outlinewidth": 0,
             "ticks": ""
            },
            "colorscale": [
             [
              0,
              "#0d0887"
             ],
             [
              0.1111111111111111,
              "#46039f"
             ],
             [
              0.2222222222222222,
              "#7201a8"
             ],
             [
              0.3333333333333333,
              "#9c179e"
             ],
             [
              0.4444444444444444,
              "#bd3786"
             ],
             [
              0.5555555555555556,
              "#d8576b"
             ],
             [
              0.6666666666666666,
              "#ed7953"
             ],
             [
              0.7777777777777778,
              "#fb9f3a"
             ],
             [
              0.8888888888888888,
              "#fdca26"
             ],
             [
              1,
              "#f0f921"
             ]
            ],
            "type": "heatmapgl"
           }
          ],
          "histogram": [
           {
            "marker": {
             "colorbar": {
              "outlinewidth": 0,
              "ticks": ""
             }
            },
            "type": "histogram"
           }
          ],
          "histogram2d": [
           {
            "colorbar": {
             "outlinewidth": 0,
             "ticks": ""
            },
            "colorscale": [
             [
              0,
              "#0d0887"
             ],
             [
              0.1111111111111111,
              "#46039f"
             ],
             [
              0.2222222222222222,
              "#7201a8"
             ],
             [
              0.3333333333333333,
              "#9c179e"
             ],
             [
              0.4444444444444444,
              "#bd3786"
             ],
             [
              0.5555555555555556,
              "#d8576b"
             ],
             [
              0.6666666666666666,
              "#ed7953"
             ],
             [
              0.7777777777777778,
              "#fb9f3a"
             ],
             [
              0.8888888888888888,
              "#fdca26"
             ],
             [
              1,
              "#f0f921"
             ]
            ],
            "type": "histogram2d"
           }
          ],
          "histogram2dcontour": [
           {
            "colorbar": {
             "outlinewidth": 0,
             "ticks": ""
            },
            "colorscale": [
             [
              0,
              "#0d0887"
             ],
             [
              0.1111111111111111,
              "#46039f"
             ],
             [
              0.2222222222222222,
              "#7201a8"
             ],
             [
              0.3333333333333333,
              "#9c179e"
             ],
             [
              0.4444444444444444,
              "#bd3786"
             ],
             [
              0.5555555555555556,
              "#d8576b"
             ],
             [
              0.6666666666666666,
              "#ed7953"
             ],
             [
              0.7777777777777778,
              "#fb9f3a"
             ],
             [
              0.8888888888888888,
              "#fdca26"
             ],
             [
              1,
              "#f0f921"
             ]
            ],
            "type": "histogram2dcontour"
           }
          ],
          "mesh3d": [
           {
            "colorbar": {
             "outlinewidth": 0,
             "ticks": ""
            },
            "type": "mesh3d"
           }
          ],
          "parcoords": [
           {
            "line": {
             "colorbar": {
              "outlinewidth": 0,
              "ticks": ""
             }
            },
            "type": "parcoords"
           }
          ],
          "pie": [
           {
            "automargin": true,
            "type": "pie"
           }
          ],
          "scatter": [
           {
            "marker": {
             "colorbar": {
              "outlinewidth": 0,
              "ticks": ""
             }
            },
            "type": "scatter"
           }
          ],
          "scatter3d": [
           {
            "line": {
             "colorbar": {
              "outlinewidth": 0,
              "ticks": ""
             }
            },
            "marker": {
             "colorbar": {
              "outlinewidth": 0,
              "ticks": ""
             }
            },
            "type": "scatter3d"
           }
          ],
          "scattercarpet": [
           {
            "marker": {
             "colorbar": {
              "outlinewidth": 0,
              "ticks": ""
             }
            },
            "type": "scattercarpet"
           }
          ],
          "scattergeo": [
           {
            "marker": {
             "colorbar": {
              "outlinewidth": 0,
              "ticks": ""
             }
            },
            "type": "scattergeo"
           }
          ],
          "scattergl": [
           {
            "marker": {
             "colorbar": {
              "outlinewidth": 0,
              "ticks": ""
             }
            },
            "type": "scattergl"
           }
          ],
          "scattermapbox": [
           {
            "marker": {
             "colorbar": {
              "outlinewidth": 0,
              "ticks": ""
             }
            },
            "type": "scattermapbox"
           }
          ],
          "scatterpolar": [
           {
            "marker": {
             "colorbar": {
              "outlinewidth": 0,
              "ticks": ""
             }
            },
            "type": "scatterpolar"
           }
          ],
          "scatterpolargl": [
           {
            "marker": {
             "colorbar": {
              "outlinewidth": 0,
              "ticks": ""
             }
            },
            "type": "scatterpolargl"
           }
          ],
          "scatterternary": [
           {
            "marker": {
             "colorbar": {
              "outlinewidth": 0,
              "ticks": ""
             }
            },
            "type": "scatterternary"
           }
          ],
          "surface": [
           {
            "colorbar": {
             "outlinewidth": 0,
             "ticks": ""
            },
            "colorscale": [
             [
              0,
              "#0d0887"
             ],
             [
              0.1111111111111111,
              "#46039f"
             ],
             [
              0.2222222222222222,
              "#7201a8"
             ],
             [
              0.3333333333333333,
              "#9c179e"
             ],
             [
              0.4444444444444444,
              "#bd3786"
             ],
             [
              0.5555555555555556,
              "#d8576b"
             ],
             [
              0.6666666666666666,
              "#ed7953"
             ],
             [
              0.7777777777777778,
              "#fb9f3a"
             ],
             [
              0.8888888888888888,
              "#fdca26"
             ],
             [
              1,
              "#f0f921"
             ]
            ],
            "type": "surface"
           }
          ],
          "table": [
           {
            "cells": {
             "fill": {
              "color": "#EBF0F8"
             },
             "line": {
              "color": "white"
             }
            },
            "header": {
             "fill": {
              "color": "#C8D4E3"
             },
             "line": {
              "color": "white"
             }
            },
            "type": "table"
           }
          ]
         },
         "layout": {
          "annotationdefaults": {
           "arrowcolor": "#2a3f5f",
           "arrowhead": 0,
           "arrowwidth": 1
          },
          "coloraxis": {
           "colorbar": {
            "outlinewidth": 0,
            "ticks": ""
           }
          },
          "colorscale": {
           "diverging": [
            [
             0,
             "#8e0152"
            ],
            [
             0.1,
             "#c51b7d"
            ],
            [
             0.2,
             "#de77ae"
            ],
            [
             0.3,
             "#f1b6da"
            ],
            [
             0.4,
             "#fde0ef"
            ],
            [
             0.5,
             "#f7f7f7"
            ],
            [
             0.6,
             "#e6f5d0"
            ],
            [
             0.7,
             "#b8e186"
            ],
            [
             0.8,
             "#7fbc41"
            ],
            [
             0.9,
             "#4d9221"
            ],
            [
             1,
             "#276419"
            ]
           ],
           "sequential": [
            [
             0,
             "#0d0887"
            ],
            [
             0.1111111111111111,
             "#46039f"
            ],
            [
             0.2222222222222222,
             "#7201a8"
            ],
            [
             0.3333333333333333,
             "#9c179e"
            ],
            [
             0.4444444444444444,
             "#bd3786"
            ],
            [
             0.5555555555555556,
             "#d8576b"
            ],
            [
             0.6666666666666666,
             "#ed7953"
            ],
            [
             0.7777777777777778,
             "#fb9f3a"
            ],
            [
             0.8888888888888888,
             "#fdca26"
            ],
            [
             1,
             "#f0f921"
            ]
           ],
           "sequentialminus": [
            [
             0,
             "#0d0887"
            ],
            [
             0.1111111111111111,
             "#46039f"
            ],
            [
             0.2222222222222222,
             "#7201a8"
            ],
            [
             0.3333333333333333,
             "#9c179e"
            ],
            [
             0.4444444444444444,
             "#bd3786"
            ],
            [
             0.5555555555555556,
             "#d8576b"
            ],
            [
             0.6666666666666666,
             "#ed7953"
            ],
            [
             0.7777777777777778,
             "#fb9f3a"
            ],
            [
             0.8888888888888888,
             "#fdca26"
            ],
            [
             1,
             "#f0f921"
            ]
           ]
          },
          "colorway": [
           "#636efa",
           "#EF553B",
           "#00cc96",
           "#ab63fa",
           "#FFA15A",
           "#19d3f3",
           "#FF6692",
           "#B6E880",
           "#FF97FF",
           "#FECB52"
          ],
          "font": {
           "color": "#2a3f5f"
          },
          "geo": {
           "bgcolor": "white",
           "lakecolor": "white",
           "landcolor": "#E5ECF6",
           "showlakes": true,
           "showland": true,
           "subunitcolor": "white"
          },
          "hoverlabel": {
           "align": "left"
          },
          "hovermode": "closest",
          "mapbox": {
           "style": "light"
          },
          "paper_bgcolor": "white",
          "plot_bgcolor": "#E5ECF6",
          "polar": {
           "angularaxis": {
            "gridcolor": "white",
            "linecolor": "white",
            "ticks": ""
           },
           "bgcolor": "#E5ECF6",
           "radialaxis": {
            "gridcolor": "white",
            "linecolor": "white",
            "ticks": ""
           }
          },
          "scene": {
           "xaxis": {
            "backgroundcolor": "#E5ECF6",
            "gridcolor": "white",
            "gridwidth": 2,
            "linecolor": "white",
            "showbackground": true,
            "ticks": "",
            "zerolinecolor": "white"
           },
           "yaxis": {
            "backgroundcolor": "#E5ECF6",
            "gridcolor": "white",
            "gridwidth": 2,
            "linecolor": "white",
            "showbackground": true,
            "ticks": "",
            "zerolinecolor": "white"
           },
           "zaxis": {
            "backgroundcolor": "#E5ECF6",
            "gridcolor": "white",
            "gridwidth": 2,
            "linecolor": "white",
            "showbackground": true,
            "ticks": "",
            "zerolinecolor": "white"
           }
          },
          "shapedefaults": {
           "line": {
            "color": "#2a3f5f"
           }
          },
          "ternary": {
           "aaxis": {
            "gridcolor": "white",
            "linecolor": "white",
            "ticks": ""
           },
           "baxis": {
            "gridcolor": "white",
            "linecolor": "white",
            "ticks": ""
           },
           "bgcolor": "#E5ECF6",
           "caxis": {
            "gridcolor": "white",
            "linecolor": "white",
            "ticks": ""
           }
          },
          "title": {
           "x": 0.05
          },
          "xaxis": {
           "automargin": true,
           "gridcolor": "white",
           "linecolor": "white",
           "ticks": "",
           "title": {
            "standoff": 15
           },
           "zerolinecolor": "white",
           "zerolinewidth": 2
          },
          "yaxis": {
           "automargin": true,
           "gridcolor": "white",
           "linecolor": "white",
           "ticks": "",
           "title": {
            "standoff": 15
           },
           "zerolinecolor": "white",
           "zerolinewidth": 2
          }
         }
        },
        "title": {
         "text": "Anime TV Series by Years"
        },
        "width": 900,
        "xaxis": {
         "anchor": "y",
         "domain": [
          0,
          1
         ],
         "title": {
          "text": "Year"
         }
        },
        "yaxis": {
         "anchor": "x",
         "domain": [
          0,
          1
         ],
         "title": {
          "text": "TV Series Count"
         }
        }
       }
      },
      "text/html": [
       "<div>\n",
       "        \n",
       "        \n",
       "            <div id=\"262316c2-3447-45ee-9719-29f628cc9f15\" class=\"plotly-graph-div\" style=\"height:1000px; width:900px;\"></div>\n",
       "            <script type=\"text/javascript\">\n",
       "                require([\"plotly\"], function(Plotly) {\n",
       "                    window.PLOTLYENV=window.PLOTLYENV || {};\n",
       "                    \n",
       "                if (document.getElementById(\"262316c2-3447-45ee-9719-29f628cc9f15\")) {\n",
       "                    Plotly.newPlot(\n",
       "                        '262316c2-3447-45ee-9719-29f628cc9f15',\n",
       "                        [{\"hovertemplate\": \"Year=%{x}<br>TV Series Count=%{y}<extra></extra>\", \"legendgroup\": \"\", \"line\": {\"color\": \"#636efa\", \"dash\": \"solid\"}, \"mode\": \"lines\", \"name\": \"\", \"showlegend\": false, \"type\": \"scatter\", \"x\": [\"1963\", \"1965\", \"1966\", \"1967\", \"1968\", \"1969\", \"1970\", \"1971\", \"1972\", \"1973\", \"1974\", \"1975\", \"1976\", \"1977\", \"1978\", \"1979\", \"1980\", \"1981\", \"1982\", \"1983\", \"1984\", \"1985\", \"1986\", \"1987\", \"1988\", \"1989\", \"1990\", \"1991\", \"1992\", \"1993\", \"1994\", \"1995\", \"1996\", \"1997\", \"1998\", \"1999\", \"2000\", \"2001\", \"2002\", \"2003\", \"2004\", \"2005\", \"2006\", \"2007\", \"2008\", \"2009\", \"2010\", \"2011\", \"2012\", \"2013\", \"2014\", \"2015\", \"2016\", \"2017\"], \"xaxis\": \"x\", \"y\": [4, 1, 2, 3, 3, 8, 3, 4, 5, 7, 12, 7, 10, 13, 11, 11, 9, 19, 12, 18, 24, 12, 17, 14, 16, 17, 16, 17, 19, 13, 21, 27, 31, 29, 54, 57, 44, 68, 69, 75, 99, 92, 128, 122, 119, 122, 101, 125, 143, 151, 189, 210, 243, 218], \"yaxis\": \"y\"}],\n",
       "                        {\"height\": 1000, \"legend\": {\"tracegroupgap\": 0}, \"template\": {\"data\": {\"bar\": [{\"error_x\": {\"color\": \"#2a3f5f\"}, \"error_y\": {\"color\": \"#2a3f5f\"}, \"marker\": {\"line\": {\"color\": \"#E5ECF6\", \"width\": 0.5}}, \"type\": \"bar\"}], \"barpolar\": [{\"marker\": {\"line\": {\"color\": \"#E5ECF6\", \"width\": 0.5}}, \"type\": \"barpolar\"}], \"carpet\": [{\"aaxis\": {\"endlinecolor\": \"#2a3f5f\", \"gridcolor\": \"white\", \"linecolor\": \"white\", \"minorgridcolor\": \"white\", \"startlinecolor\": \"#2a3f5f\"}, \"baxis\": {\"endlinecolor\": \"#2a3f5f\", \"gridcolor\": \"white\", \"linecolor\": \"white\", \"minorgridcolor\": \"white\", \"startlinecolor\": \"#2a3f5f\"}, \"type\": \"carpet\"}], \"choropleth\": [{\"colorbar\": {\"outlinewidth\": 0, \"ticks\": \"\"}, \"type\": \"choropleth\"}], \"contour\": [{\"colorbar\": {\"outlinewidth\": 0, \"ticks\": \"\"}, \"colorscale\": [[0.0, \"#0d0887\"], [0.1111111111111111, \"#46039f\"], [0.2222222222222222, \"#7201a8\"], [0.3333333333333333, \"#9c179e\"], [0.4444444444444444, \"#bd3786\"], [0.5555555555555556, \"#d8576b\"], [0.6666666666666666, \"#ed7953\"], [0.7777777777777778, \"#fb9f3a\"], [0.8888888888888888, \"#fdca26\"], [1.0, \"#f0f921\"]], \"type\": \"contour\"}], \"contourcarpet\": [{\"colorbar\": {\"outlinewidth\": 0, \"ticks\": \"\"}, \"type\": \"contourcarpet\"}], \"heatmap\": [{\"colorbar\": {\"outlinewidth\": 0, \"ticks\": \"\"}, \"colorscale\": [[0.0, \"#0d0887\"], [0.1111111111111111, \"#46039f\"], [0.2222222222222222, \"#7201a8\"], [0.3333333333333333, \"#9c179e\"], [0.4444444444444444, \"#bd3786\"], [0.5555555555555556, \"#d8576b\"], [0.6666666666666666, \"#ed7953\"], [0.7777777777777778, \"#fb9f3a\"], [0.8888888888888888, \"#fdca26\"], [1.0, \"#f0f921\"]], \"type\": \"heatmap\"}], \"heatmapgl\": [{\"colorbar\": {\"outlinewidth\": 0, \"ticks\": \"\"}, \"colorscale\": [[0.0, \"#0d0887\"], [0.1111111111111111, \"#46039f\"], [0.2222222222222222, \"#7201a8\"], [0.3333333333333333, \"#9c179e\"], [0.4444444444444444, \"#bd3786\"], [0.5555555555555556, \"#d8576b\"], [0.6666666666666666, \"#ed7953\"], [0.7777777777777778, \"#fb9f3a\"], [0.8888888888888888, \"#fdca26\"], [1.0, \"#f0f921\"]], \"type\": \"heatmapgl\"}], \"histogram\": [{\"marker\": {\"colorbar\": {\"outlinewidth\": 0, \"ticks\": \"\"}}, \"type\": \"histogram\"}], \"histogram2d\": [{\"colorbar\": {\"outlinewidth\": 0, \"ticks\": \"\"}, \"colorscale\": [[0.0, \"#0d0887\"], [0.1111111111111111, \"#46039f\"], [0.2222222222222222, \"#7201a8\"], [0.3333333333333333, \"#9c179e\"], [0.4444444444444444, \"#bd3786\"], [0.5555555555555556, \"#d8576b\"], [0.6666666666666666, \"#ed7953\"], [0.7777777777777778, \"#fb9f3a\"], [0.8888888888888888, \"#fdca26\"], [1.0, \"#f0f921\"]], \"type\": \"histogram2d\"}], \"histogram2dcontour\": [{\"colorbar\": {\"outlinewidth\": 0, \"ticks\": \"\"}, \"colorscale\": [[0.0, \"#0d0887\"], [0.1111111111111111, \"#46039f\"], [0.2222222222222222, \"#7201a8\"], [0.3333333333333333, \"#9c179e\"], [0.4444444444444444, \"#bd3786\"], [0.5555555555555556, \"#d8576b\"], [0.6666666666666666, \"#ed7953\"], [0.7777777777777778, \"#fb9f3a\"], [0.8888888888888888, \"#fdca26\"], [1.0, \"#f0f921\"]], \"type\": \"histogram2dcontour\"}], \"mesh3d\": [{\"colorbar\": {\"outlinewidth\": 0, \"ticks\": \"\"}, \"type\": \"mesh3d\"}], \"parcoords\": [{\"line\": {\"colorbar\": {\"outlinewidth\": 0, \"ticks\": \"\"}}, \"type\": \"parcoords\"}], \"pie\": [{\"automargin\": true, \"type\": \"pie\"}], \"scatter\": [{\"marker\": {\"colorbar\": {\"outlinewidth\": 0, \"ticks\": \"\"}}, \"type\": \"scatter\"}], \"scatter3d\": [{\"line\": {\"colorbar\": {\"outlinewidth\": 0, \"ticks\": \"\"}}, \"marker\": {\"colorbar\": {\"outlinewidth\": 0, \"ticks\": \"\"}}, \"type\": \"scatter3d\"}], \"scattercarpet\": [{\"marker\": {\"colorbar\": {\"outlinewidth\": 0, \"ticks\": \"\"}}, \"type\": \"scattercarpet\"}], \"scattergeo\": [{\"marker\": {\"colorbar\": {\"outlinewidth\": 0, \"ticks\": \"\"}}, \"type\": \"scattergeo\"}], \"scattergl\": [{\"marker\": {\"colorbar\": {\"outlinewidth\": 0, \"ticks\": \"\"}}, \"type\": \"scattergl\"}], \"scattermapbox\": [{\"marker\": {\"colorbar\": {\"outlinewidth\": 0, \"ticks\": \"\"}}, \"type\": \"scattermapbox\"}], \"scatterpolar\": [{\"marker\": {\"colorbar\": {\"outlinewidth\": 0, \"ticks\": \"\"}}, \"type\": \"scatterpolar\"}], \"scatterpolargl\": [{\"marker\": {\"colorbar\": {\"outlinewidth\": 0, \"ticks\": \"\"}}, \"type\": \"scatterpolargl\"}], \"scatterternary\": [{\"marker\": {\"colorbar\": {\"outlinewidth\": 0, \"ticks\": \"\"}}, \"type\": \"scatterternary\"}], \"surface\": [{\"colorbar\": {\"outlinewidth\": 0, \"ticks\": \"\"}, \"colorscale\": [[0.0, \"#0d0887\"], [0.1111111111111111, \"#46039f\"], [0.2222222222222222, \"#7201a8\"], [0.3333333333333333, \"#9c179e\"], [0.4444444444444444, \"#bd3786\"], [0.5555555555555556, \"#d8576b\"], [0.6666666666666666, \"#ed7953\"], [0.7777777777777778, \"#fb9f3a\"], [0.8888888888888888, \"#fdca26\"], [1.0, \"#f0f921\"]], \"type\": \"surface\"}], \"table\": [{\"cells\": {\"fill\": {\"color\": \"#EBF0F8\"}, \"line\": {\"color\": \"white\"}}, \"header\": {\"fill\": {\"color\": \"#C8D4E3\"}, \"line\": {\"color\": \"white\"}}, \"type\": \"table\"}]}, \"layout\": {\"annotationdefaults\": {\"arrowcolor\": \"#2a3f5f\", \"arrowhead\": 0, \"arrowwidth\": 1}, \"coloraxis\": {\"colorbar\": {\"outlinewidth\": 0, \"ticks\": \"\"}}, \"colorscale\": {\"diverging\": [[0, \"#8e0152\"], [0.1, \"#c51b7d\"], [0.2, \"#de77ae\"], [0.3, \"#f1b6da\"], [0.4, \"#fde0ef\"], [0.5, \"#f7f7f7\"], [0.6, \"#e6f5d0\"], [0.7, \"#b8e186\"], [0.8, \"#7fbc41\"], [0.9, \"#4d9221\"], [1, \"#276419\"]], \"sequential\": [[0.0, \"#0d0887\"], [0.1111111111111111, \"#46039f\"], [0.2222222222222222, \"#7201a8\"], [0.3333333333333333, \"#9c179e\"], [0.4444444444444444, \"#bd3786\"], [0.5555555555555556, \"#d8576b\"], [0.6666666666666666, \"#ed7953\"], [0.7777777777777778, \"#fb9f3a\"], [0.8888888888888888, \"#fdca26\"], [1.0, \"#f0f921\"]], \"sequentialminus\": [[0.0, \"#0d0887\"], [0.1111111111111111, \"#46039f\"], [0.2222222222222222, \"#7201a8\"], [0.3333333333333333, \"#9c179e\"], [0.4444444444444444, \"#bd3786\"], [0.5555555555555556, \"#d8576b\"], [0.6666666666666666, \"#ed7953\"], [0.7777777777777778, \"#fb9f3a\"], [0.8888888888888888, \"#fdca26\"], [1.0, \"#f0f921\"]]}, \"colorway\": [\"#636efa\", \"#EF553B\", \"#00cc96\", \"#ab63fa\", \"#FFA15A\", \"#19d3f3\", \"#FF6692\", \"#B6E880\", \"#FF97FF\", \"#FECB52\"], \"font\": {\"color\": \"#2a3f5f\"}, \"geo\": {\"bgcolor\": \"white\", \"lakecolor\": \"white\", \"landcolor\": \"#E5ECF6\", \"showlakes\": true, \"showland\": true, \"subunitcolor\": \"white\"}, \"hoverlabel\": {\"align\": \"left\"}, \"hovermode\": \"closest\", \"mapbox\": {\"style\": \"light\"}, \"paper_bgcolor\": \"white\", \"plot_bgcolor\": \"#E5ECF6\", \"polar\": {\"angularaxis\": {\"gridcolor\": \"white\", \"linecolor\": \"white\", \"ticks\": \"\"}, \"bgcolor\": \"#E5ECF6\", \"radialaxis\": {\"gridcolor\": \"white\", \"linecolor\": \"white\", \"ticks\": \"\"}}, \"scene\": {\"xaxis\": {\"backgroundcolor\": \"#E5ECF6\", \"gridcolor\": \"white\", \"gridwidth\": 2, \"linecolor\": \"white\", \"showbackground\": true, \"ticks\": \"\", \"zerolinecolor\": \"white\"}, \"yaxis\": {\"backgroundcolor\": \"#E5ECF6\", \"gridcolor\": \"white\", \"gridwidth\": 2, \"linecolor\": \"white\", \"showbackground\": true, \"ticks\": \"\", \"zerolinecolor\": \"white\"}, \"zaxis\": {\"backgroundcolor\": \"#E5ECF6\", \"gridcolor\": \"white\", \"gridwidth\": 2, \"linecolor\": \"white\", \"showbackground\": true, \"ticks\": \"\", \"zerolinecolor\": \"white\"}}, \"shapedefaults\": {\"line\": {\"color\": \"#2a3f5f\"}}, \"ternary\": {\"aaxis\": {\"gridcolor\": \"white\", \"linecolor\": \"white\", \"ticks\": \"\"}, \"baxis\": {\"gridcolor\": \"white\", \"linecolor\": \"white\", \"ticks\": \"\"}, \"bgcolor\": \"#E5ECF6\", \"caxis\": {\"gridcolor\": \"white\", \"linecolor\": \"white\", \"ticks\": \"\"}}, \"title\": {\"x\": 0.05}, \"xaxis\": {\"automargin\": true, \"gridcolor\": \"white\", \"linecolor\": \"white\", \"ticks\": \"\", \"title\": {\"standoff\": 15}, \"zerolinecolor\": \"white\", \"zerolinewidth\": 2}, \"yaxis\": {\"automargin\": true, \"gridcolor\": \"white\", \"linecolor\": \"white\", \"ticks\": \"\", \"title\": {\"standoff\": 15}, \"zerolinecolor\": \"white\", \"zerolinewidth\": 2}}}, \"title\": {\"text\": \"Anime TV Series by Years\"}, \"width\": 900, \"xaxis\": {\"anchor\": \"y\", \"domain\": [0.0, 1.0], \"title\": {\"text\": \"Year\"}}, \"yaxis\": {\"anchor\": \"x\", \"domain\": [0.0, 1.0], \"title\": {\"text\": \"TV Series Count\"}}},\n",
       "                        {\"responsive\": true}\n",
       "                    ).then(function(){\n",
       "                            \n",
       "var gd = document.getElementById('262316c2-3447-45ee-9719-29f628cc9f15');\n",
       "var x = new MutationObserver(function (mutations, observer) {{\n",
       "        var display = window.getComputedStyle(gd).display;\n",
       "        if (!display || display === 'none') {{\n",
       "            console.log([gd, 'removed!']);\n",
       "            Plotly.purge(gd);\n",
       "            observer.disconnect();\n",
       "        }}\n",
       "}});\n",
       "\n",
       "// Listen for the removal of the full notebook cells\n",
       "var notebookContainer = gd.closest('#notebook-container');\n",
       "if (notebookContainer) {{\n",
       "    x.observe(notebookContainer, {childList: true});\n",
       "}}\n",
       "\n",
       "// Listen for the clearing of the current output cell\n",
       "var outputEl = gd.closest('.output');\n",
       "if (outputEl) {{\n",
       "    x.observe(outputEl, {childList: true});\n",
       "}}\n",
       "\n",
       "                        })\n",
       "                };\n",
       "                });\n",
       "            </script>\n",
       "        </div>"
      ]
     },
     "metadata": {},
     "output_type": "display_data"
    }
   ],
   "source": [
    "fig = px.line(anime_tv_years, x=\"Year\", y=\"TV Series Count\", \n",
    "              title='Anime TV Series by Years', width=900, height=1000)\n",
    "fig.show()"
   ]
  },
  {
   "cell_type": "markdown",
   "metadata": {},
   "source": [
    "2.C. Genre Preferences According to Gender And Age-Gender Correlation (Bar Plots as Subplot, Scatter Plot, Boxplot)"
   ]
  },
  {
   "cell_type": "code",
   "execution_count": 204,
   "metadata": {},
   "outputs": [
    {
     "data": {
      "text/html": [
       "<div>\n",
       "<style scoped>\n",
       "    .dataframe tbody tr th:only-of-type {\n",
       "        vertical-align: middle;\n",
       "    }\n",
       "\n",
       "    .dataframe tbody tr th {\n",
       "        vertical-align: top;\n",
       "    }\n",
       "\n",
       "    .dataframe thead th {\n",
       "        text-align: right;\n",
       "    }\n",
       "</style>\n",
       "<table border=\"1\" class=\"dataframe\">\n",
       "  <thead>\n",
       "    <tr style=\"text-align: right;\">\n",
       "      <th></th>\n",
       "      <th>Female</th>\n",
       "      <th>Male</th>\n",
       "    </tr>\n",
       "    <tr>\n",
       "      <th>genre</th>\n",
       "      <th></th>\n",
       "      <th></th>\n",
       "    </tr>\n",
       "  </thead>\n",
       "  <tbody>\n",
       "    <tr>\n",
       "      <td>Comedy</td>\n",
       "      <td>10784</td>\n",
       "      <td>40316</td>\n",
       "    </tr>\n",
       "    <tr>\n",
       "      <td>Supernatural</td>\n",
       "      <td>5119</td>\n",
       "      <td>18518</td>\n",
       "    </tr>\n",
       "    <tr>\n",
       "      <td>Romance</td>\n",
       "      <td>6342</td>\n",
       "      <td>22469</td>\n",
       "    </tr>\n",
       "    <tr>\n",
       "      <td>Shounen</td>\n",
       "      <td>5287</td>\n",
       "      <td>20732</td>\n",
       "    </tr>\n",
       "    <tr>\n",
       "      <td>Parody</td>\n",
       "      <td>784</td>\n",
       "      <td>3201</td>\n",
       "    </tr>\n",
       "  </tbody>\n",
       "</table>\n",
       "</div>"
      ],
      "text/plain": [
       "              Female   Male\n",
       "genre                      \n",
       "Comedy         10784  40316\n",
       "Supernatural    5119  18518\n",
       "Romance         6342  22469\n",
       "Shounen         5287  20732\n",
       "Parody           784   3201"
      ]
     },
     "execution_count": 204,
     "metadata": {},
     "output_type": "execute_result"
    }
   ],
   "source": [
    "##compared males and females for anime genre preferences.\n",
    "##For a quick calculation, i considered only 100k rows. Even so result is sensible. When i run for 1m rows, the result is same.\n",
    "\n",
    "# for 43 genre\n",
    "F = [0]*43\n",
    "M =   [0]*43\n",
    "\n",
    "genre_df = pd.DataFrame({'genre': genre_list, 'Female': F, 'Male': M})\n",
    "genre_df.set_index('genre', inplace=True)\n",
    "\n",
    "for i in userlists_sub.index:\n",
    "    for j in userlists_sub.genre[i].split(\", \"):\n",
    "        genre_df[userlists_sub.gender[i]][j] +=1 \n",
    "        \n",
    "genre_df.head()\n"
   ]
  },
  {
   "cell_type": "code",
   "execution_count": 205,
   "metadata": {},
   "outputs": [
    {
     "data": {
      "image/png": "[encoded data removed]",
      "text/plain": [
       "<Figure size 576x1152 with 1 Axes>"
      ]
     },
     "metadata": {
      "needs_background": "light"
     },
     "output_type": "display_data"
    }
   ],
   "source": [
    "#genre\n",
    "#在各种动画分类中,女性受众比例都远远低于男性，然而只有在ShounenAi和Yaoi类动画里,女性的比例遥遥领先于男性。why?为什么男生不看百合啊？\n",
    "Female = []\n",
    "Male = []\n",
    "\n",
    "for i in genre_list:\n",
    "    Female.append(genre_df.loc[i,'Female']/sum(genre_df.loc[i,:]))\n",
    "    Male.append(genre_df.loc[i,'Male']/sum(genre_df.loc[i,:]))  \n",
    "\n",
    "f,ax = plt.subplots(figsize=(8,16))\n",
    "sns.barplot(x=Female, y=genre_list, label='Female', color='r', alpha = 0.7)\n",
    "sns.barplot(x=Male, y=genre_list, label='Male', color='b', alpha = 0.4)\n",
    "\n",
    "ax.set(xlabel='Percentage of Genders', ylabel='Genres', title='Percentage of Anime Genres According to Gender')\n",
    "ax.legend(loc='lower right',frameon= True)\n",
    "plt.show()"
   ]
  },
  {
   "cell_type": "code",
   "execution_count": null,
   "metadata": {},
   "outputs": [],
   "source": [
    "## compare gender in days spent watching"
   ]
  },
  {
   "cell_type": "code",
   "execution_count": 206,
   "metadata": {},
   "outputs": [
    {
     "name": "stdout",
     "output_type": "stream",
     "text": [
      "51\n",
      "11\n"
     ]
    }
   ],
   "source": [
    "##检查一下age\n",
    "print (users.age.max())\n",
    "print (users.age.min())"
   ]
  },
  {
   "cell_type": "code",
   "execution_count": 38,
   "metadata": {},
   "outputs": [
    {
     "data": {
      "image/png": "[encoded data removed]",
      "text/plain": [
       "<Figure size 360x432 with 1 Axes>"
      ]
     },
     "metadata": {
      "needs_background": "light"
     },
     "output_type": "display_data"
    }
   ],
   "source": [
    "##use boxplot to see outliers of gender and age. 不用展示\n",
    "##since i use cleaned data so, no outliners of age\n",
    "\n",
    "#users['birth_date'] = pd.to_datetime(users['birth_date'], errors = 'coerce')\n",
    "users=users[users.age.notnull()]\n",
    "\n",
    "age = users.age\n",
    "gender = users.gender\n",
    "spent = users.user_days_spent_watching\n",
    " \n",
    "#age = []\n",
    "#for each in birth_date:\n",
    "    #age.append(round((datetime.datetime.now()-each).days/365.25,1))\n",
    "    \n",
    "age_dict = {'gender':gender,'age':age,'spent':spent}\n",
    "users_age_spent = pd.DataFrame(age_dict,columns=['gender','age','spent'])\n",
    "\n",
    "fig, ax = plt.subplots(nrows=1, ncols=1,figsize=(5, 6))\n",
    "sns.boxplot(data=users_age_spent, x=\"gender\", y=\"age\", palette=\"Set2\", ax=ax)\n",
    "ax.set_ylim([0, 60])\n",
    "plt.show()"
   ]
  },
  {
   "cell_type": "code",
   "execution_count": 39,
   "metadata": {},
   "outputs": [
    {
     "data": {
      "image/png": "[encoded data removed]",
      "text/plain": [
       "<Figure size 360x432 with 1 Axes>"
      ]
     },
     "metadata": {
      "needs_background": "light"
     },
     "output_type": "display_data"
    }
   ],
   "source": [
    "##use boxplot to see outliers of gender and spent. 不用展示\n",
    "\n",
    "\n",
    "fig, ax = plt.subplots(nrows=1, ncols=1,figsize=(5, 6))\n",
    "sns.boxplot(x=\"gender\", y=\"spent\", data=users_age_spent, palette=\"Set2\", ax=ax)\n",
    "ax.set_ylim([0, 300])\n",
    "plt.show()"
   ]
  },
  {
   "cell_type": "code",
   "execution_count": 177,
   "metadata": {},
   "outputs": [
    {
     "data": {
      "image/png": "[encoded data removed]",
      "text/plain": [
       "<Figure size 1080x432 with 1 Axes>"
      ]
     },
     "metadata": {
      "needs_background": "light"
     },
     "output_type": "display_data"
    }
   ],
   "source": [
    "##不用展示\n",
    "fig, ax = plt.subplots(nrows=1, ncols=1,figsize=(15, 6))\n",
    "sns.boxplot(x=\"age\", y=\"spent\", data=users_age_spent, palette=\"Set2\", ax=ax)\n",
    "ax.set_ylim([0, 300])\n",
    "plt.show()"
   ]
  },
  {
   "cell_type": "code",
   "execution_count": 46,
   "metadata": {},
   "outputs": [
    {
     "data": {
      "image/png": "[encoded data removed]",
      "text/plain": [
       "<Figure size 648x864 with 1 Axes>"
      ]
     },
     "metadata": {
      "needs_background": "light"
     },
     "output_type": "display_data"
    }
   ],
   "source": [
    "##成年人也看动画片,Anime watchers' age range seems to be between 17-40 mostly,这部分人的观看天数也很长\n",
    "\n",
    "users_age_spent.plot(kind='scatter', x='age', y='spent', alpha=0.3, figsize = (9,12),\n",
    "                     color=[\"#F860F7\" if each ==\"Female\" else \"#2D00F7\" for each in users_age_spent.gender])\n",
    "plt.show()"
   ]
  },
  {
   "cell_type": "code",
   "execution_count": 43,
   "metadata": {},
   "outputs": [
    {
     "data": {
      "image/png": "[encoded data removed]",
      "text/plain": [
       "<Figure size 648x864 with 1 Axes>"
      ]
     },
     "metadata": {
      "needs_background": "light"
     },
     "output_type": "display_data"
    }
   ],
   "source": [
    "users=users[users.age.notnull()]\n",
    "\n",
    "age = users.age\n",
    "gender = users.gender\n",
    "completed = users.user_completed\n",
    " \n",
    "#age = []\n",
    "#for each in birth_date:\n",
    "    #age.append(round((datetime.datetime.now()-each).days/365.25,1))\n",
    "    \n",
    "age_dict = {'gender':gender,'age':age,'completed':completed}\n",
    "users_age_completed = pd.DataFrame(age_dict,columns=['gender','age','completed'])\n",
    "\n",
    "\n",
    "users_age_completed.plot(kind='scatter', x='age', y='completed', alpha=0.3, figsize = (9,12),\n",
    "                     color=[\"#F860F7\" if each ==\"Female\" else \"#2D00F7\" for each in users_age_completed.gender])\n",
    "plt.show()"
   ]
  },
  {
   "cell_type": "code",
   "execution_count": 187,
   "metadata": {},
   "outputs": [
    {
     "data": {
      "image/png": "[encoded data removed]",
      "text/plain": [
       "<Figure size 1008x432 with 2 Axes>"
      ]
     },
     "metadata": {
      "needs_background": "light"
     },
     "output_type": "display_data"
    }
   ],
   "source": [
    "##generally, 分数分布similar, 最经常看动画的男性女性打出的score在7-9分\n",
    "\n",
    "F_stats = df_users[(df_users[\"gender\"]=='Female') & (df_users[\"stats_episodes\"]>=0)].loc[:,[\"stats_rewatched\",\"stats_mean_score\"]]     \n",
    "M_stats = df_users[(df_users[\"gender\"]=='Male') & (df_users[\"stats_episodes\"]>=0)].loc[:,[\"stats_rewatched\",\"stats_mean_score\"]]    \n",
    "\n",
    "f,ax=plt.subplots(1,2,figsize=(14,6))\n",
    "F_stats.stats_mean_score.plot.hist(ax=ax[0],bins=10,edgecolor='black',color='mediumvioletred')  #bins: Number of histogram bins to be used.\n",
    "ax[0].set_title('Female Mean Score')\n",
    "x1=list(range(0,11,1))\n",
    "ax[0].set_xticks(x1)\n",
    "M_stats.stats_mean_score.plot.hist(ax=ax[1],bins=10,edgecolor='black',color='slateblue')\n",
    "ax[1].set_title('Male Mean Score')\n",
    "x2=list(range(0,11,1))\n",
    "ax[1].set_xticks(x2)\n",
    "plt.suptitle('Anime Rating by Gender')\n",
    "plt.show()"
   ]
  },
  {
   "cell_type": "markdown",
   "metadata": {},
   "source": [
    "2.D. Anime Watchers Around The World (In MyAnimeList Members) (Plotly Map Plot)"
   ]
  },
  {
   "cell_type": "code",
   "execution_count": null,
   "metadata": {},
   "outputs": [],
   "source": []
  }
 ],
 "metadata": {
  "kernelspec": {
   "display_name": "Python 3",
   "language": "python",
   "name": "python3"
  },
  "language_info": {
   "codemirror_mode": {
    "name": "ipython",
    "version": 3
   },
   "file_extension": ".py",
   "mimetype": "text/x-python",
   "name": "python",
   "nbconvert_exporter": "python",
   "pygments_lexer": "ipython3",
   "version": "3.7.4"
  }
 },
 "nbformat": 4,
 "nbformat_minor": 2
}
